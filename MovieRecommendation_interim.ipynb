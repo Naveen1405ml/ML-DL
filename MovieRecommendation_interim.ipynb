{
 "cells": [
  {
   "cell_type": "code",
   "execution_count": null,
   "metadata": {
    "colab": {
     "base_uri": "https://localhost:8080/"
    },
    "id": "nhHY8M9qR1zu",
    "outputId": "7ceb44a7-98bc-41d0-89ad-cd8a5042b1ea"
   },
   "outputs": [
    {
     "name": "stdout",
     "output_type": "stream",
     "text": [
      "Mounted at /content/drive/\n"
     ]
    }
   ],
   "source": [
    "from google.colab import drive\n",
    "drive.mount(\"/content/drive/\")"
   ]
  },
  {
   "cell_type": "code",
   "execution_count": null,
   "metadata": {
    "id": "HHUuBtuu_HYx"
   },
   "outputs": [],
   "source": [
    "# # installing necessary packages\n",
    "# !pip3 install chunkdot"
   ]
  },
  {
   "cell_type": "code",
   "execution_count": null,
   "metadata": {
    "id": "E-MRqx_lVyjX"
   },
   "outputs": [],
   "source": [
    "import pandas as pd\n",
    "import numpy as np\n",
    "import matplotlib.pyplot as plt\n",
    "import seaborn as sns"
   ]
  },
  {
   "cell_type": "code",
   "execution_count": null,
   "metadata": {
    "id": "BHM6JS5nVzWW"
   },
   "outputs": [],
   "source": [
    "movie_df = pd.read_csv(\"/content/drive/MyDrive/Colab Notebooks/CapstoneProject/rotten_tomatoes_movies.csv\")\n",
    "review_df = pd.read_csv(\"/content/drive/MyDrive/Colab Notebooks/CapstoneProject/rotten_tomatoes_movie_reviews.csv\")"
   ]
  },
  {
   "cell_type": "markdown",
   "metadata": {
    "id": "-6pHShOWdTaq"
   },
   "source": [
    "Basic understanding on following data <br>\n",
    "1- Movie data <br>\n",
    "2- Review data"
   ]
  },
  {
   "cell_type": "code",
   "execution_count": null,
   "metadata": {
    "colab": {
     "base_uri": "https://localhost:8080/"
    },
    "id": "VyYU2j4CdRYH",
    "outputId": "23d3ca54-80fc-426a-cdc6-435c300d00cb"
   },
   "outputs": [
    {
     "name": "stdout",
     "output_type": "stream",
     "text": [
      "Columns in Movie data : \n",
      "\n",
      "Index(['id', 'title', 'audienceScore', 'tomatoMeter', 'rating',\n",
      "       'ratingContents', 'releaseDateTheaters', 'releaseDateStreaming',\n",
      "       'runtimeMinutes', 'genre', 'originalLanguage', 'director', 'writer',\n",
      "       'boxOffice', 'distributor', 'soundMix'],\n",
      "      dtype='object')\n"
     ]
    }
   ],
   "source": [
    "print(\"Columns in Movie data : \" + \"\\n\")\n",
    "print(movie_df.columns)"
   ]
  },
  {
   "cell_type": "code",
   "execution_count": null,
   "metadata": {
    "colab": {
     "base_uri": "https://localhost:8080/",
     "height": 808
    },
    "id": "XKoks313eQNP",
    "outputId": "ca18063f-a056-4c98-d6c1-306f3df4d1f5"
   },
   "outputs": [
    {
     "name": "stdout",
     "output_type": "stream",
     "text": [
      "Shape of movie data :  (143258, 16)\n"
     ]
    },
    {
     "data": {
      "text/html": [
       "\n",
       "\n",
       "  <div id=\"df-70657d92-8170-440f-a687-dc89bc1098fc\">\n",
       "    <div class=\"colab-df-container\">\n",
       "      <div>\n",
       "<style scoped>\n",
       "    .dataframe tbody tr th:only-of-type {\n",
       "        vertical-align: middle;\n",
       "    }\n",
       "\n",
       "    .dataframe tbody tr th {\n",
       "        vertical-align: top;\n",
       "    }\n",
       "\n",
       "    .dataframe thead th {\n",
       "        text-align: right;\n",
       "    }\n",
       "</style>\n",
       "<table border=\"1\" class=\"dataframe\">\n",
       "  <thead>\n",
       "    <tr style=\"text-align: right;\">\n",
       "      <th></th>\n",
       "      <th>id</th>\n",
       "      <th>title</th>\n",
       "      <th>audienceScore</th>\n",
       "      <th>tomatoMeter</th>\n",
       "      <th>rating</th>\n",
       "      <th>ratingContents</th>\n",
       "      <th>releaseDateTheaters</th>\n",
       "      <th>releaseDateStreaming</th>\n",
       "      <th>runtimeMinutes</th>\n",
       "      <th>genre</th>\n",
       "      <th>originalLanguage</th>\n",
       "      <th>director</th>\n",
       "      <th>writer</th>\n",
       "      <th>boxOffice</th>\n",
       "      <th>distributor</th>\n",
       "      <th>soundMix</th>\n",
       "    </tr>\n",
       "  </thead>\n",
       "  <tbody>\n",
       "    <tr>\n",
       "      <th>0</th>\n",
       "      <td>space-zombie-bingo</td>\n",
       "      <td>Space Zombie Bingo!</td>\n",
       "      <td>50.0</td>\n",
       "      <td>NaN</td>\n",
       "      <td>NaN</td>\n",
       "      <td>NaN</td>\n",
       "      <td>NaN</td>\n",
       "      <td>2018-08-25</td>\n",
       "      <td>75.0</td>\n",
       "      <td>Comedy, Horror, Sci-fi</td>\n",
       "      <td>English</td>\n",
       "      <td>George Ormrod</td>\n",
       "      <td>George Ormrod,John Sabotta</td>\n",
       "      <td>NaN</td>\n",
       "      <td>NaN</td>\n",
       "      <td>NaN</td>\n",
       "    </tr>\n",
       "    <tr>\n",
       "      <th>1</th>\n",
       "      <td>the_green_grass</td>\n",
       "      <td>The Green Grass</td>\n",
       "      <td>NaN</td>\n",
       "      <td>NaN</td>\n",
       "      <td>NaN</td>\n",
       "      <td>NaN</td>\n",
       "      <td>NaN</td>\n",
       "      <td>2020-02-11</td>\n",
       "      <td>114.0</td>\n",
       "      <td>Drama</td>\n",
       "      <td>English</td>\n",
       "      <td>Tiffany Edwards</td>\n",
       "      <td>Tiffany Edwards</td>\n",
       "      <td>NaN</td>\n",
       "      <td>NaN</td>\n",
       "      <td>NaN</td>\n",
       "    </tr>\n",
       "    <tr>\n",
       "      <th>2</th>\n",
       "      <td>love_lies</td>\n",
       "      <td>Love, Lies</td>\n",
       "      <td>43.0</td>\n",
       "      <td>NaN</td>\n",
       "      <td>NaN</td>\n",
       "      <td>NaN</td>\n",
       "      <td>NaN</td>\n",
       "      <td>NaN</td>\n",
       "      <td>120.0</td>\n",
       "      <td>Drama</td>\n",
       "      <td>Korean</td>\n",
       "      <td>Park Heung-Sik,Heung-Sik Park</td>\n",
       "      <td>Ha Young-Joon,Jeon Yun-su,Song Hye-jin</td>\n",
       "      <td>NaN</td>\n",
       "      <td>NaN</td>\n",
       "      <td>NaN</td>\n",
       "    </tr>\n",
       "    <tr>\n",
       "      <th>3</th>\n",
       "      <td>the_sore_losers_1997</td>\n",
       "      <td>Sore Losers</td>\n",
       "      <td>60.0</td>\n",
       "      <td>NaN</td>\n",
       "      <td>NaN</td>\n",
       "      <td>NaN</td>\n",
       "      <td>NaN</td>\n",
       "      <td>2020-10-23</td>\n",
       "      <td>90.0</td>\n",
       "      <td>Action, Mystery &amp; thriller</td>\n",
       "      <td>English</td>\n",
       "      <td>John Michael McCarthy</td>\n",
       "      <td>John Michael McCarthy</td>\n",
       "      <td>NaN</td>\n",
       "      <td>NaN</td>\n",
       "      <td>NaN</td>\n",
       "    </tr>\n",
       "    <tr>\n",
       "      <th>4</th>\n",
       "      <td>dinosaur_island_2002</td>\n",
       "      <td>Dinosaur Island</td>\n",
       "      <td>70.0</td>\n",
       "      <td>NaN</td>\n",
       "      <td>NaN</td>\n",
       "      <td>NaN</td>\n",
       "      <td>NaN</td>\n",
       "      <td>2017-03-27</td>\n",
       "      <td>80.0</td>\n",
       "      <td>Fantasy, Adventure, Animation</td>\n",
       "      <td>English</td>\n",
       "      <td>Will Meugniot</td>\n",
       "      <td>John Loy</td>\n",
       "      <td>NaN</td>\n",
       "      <td>NaN</td>\n",
       "      <td>NaN</td>\n",
       "    </tr>\n",
       "    <tr>\n",
       "      <th>5</th>\n",
       "      <td>adrift_2018</td>\n",
       "      <td>Adrift</td>\n",
       "      <td>65.0</td>\n",
       "      <td>69.0</td>\n",
       "      <td>PG-13</td>\n",
       "      <td>['Injury Images', 'Brief Drug Use', 'Thematic ...</td>\n",
       "      <td>2018-06-01</td>\n",
       "      <td>2018-08-21</td>\n",
       "      <td>120.0</td>\n",
       "      <td>Adventure, Drama, Romance</td>\n",
       "      <td>English</td>\n",
       "      <td>Baltasar Kormákur</td>\n",
       "      <td>Aaron Kandell,Jordan Kandell,David Branson Smith</td>\n",
       "      <td>$31.4M</td>\n",
       "      <td>STX Films</td>\n",
       "      <td>NaN</td>\n",
       "    </tr>\n",
       "    <tr>\n",
       "      <th>6</th>\n",
       "      <td>malta-con-huevo-scrambled-beer</td>\n",
       "      <td>Scrambled Beer</td>\n",
       "      <td>55.0</td>\n",
       "      <td>NaN</td>\n",
       "      <td>NaN</td>\n",
       "      <td>NaN</td>\n",
       "      <td>NaN</td>\n",
       "      <td>2015-10-05</td>\n",
       "      <td>88.0</td>\n",
       "      <td>Comedy</td>\n",
       "      <td>Spanish</td>\n",
       "      <td>Cristobal Valderrama</td>\n",
       "      <td>Cristobal Valderrama</td>\n",
       "      <td>NaN</td>\n",
       "      <td>NaN</td>\n",
       "      <td>NaN</td>\n",
       "    </tr>\n",
       "    <tr>\n",
       "      <th>7</th>\n",
       "      <td>kakabakaba-ka-ba</td>\n",
       "      <td>Kakabakaba ka ba? (Will Your Heart Beat Faster?)</td>\n",
       "      <td>88.0</td>\n",
       "      <td>NaN</td>\n",
       "      <td>NaN</td>\n",
       "      <td>NaN</td>\n",
       "      <td>NaN</td>\n",
       "      <td>NaN</td>\n",
       "      <td>NaN</td>\n",
       "      <td>NaN</td>\n",
       "      <td>NaN</td>\n",
       "      <td>Mike de Leon</td>\n",
       "      <td>NaN</td>\n",
       "      <td>NaN</td>\n",
       "      <td>NaN</td>\n",
       "      <td>NaN</td>\n",
       "    </tr>\n",
       "    <tr>\n",
       "      <th>8</th>\n",
       "      <td>sundowning</td>\n",
       "      <td>Sundowning</td>\n",
       "      <td>NaN</td>\n",
       "      <td>NaN</td>\n",
       "      <td>NaN</td>\n",
       "      <td>NaN</td>\n",
       "      <td>NaN</td>\n",
       "      <td>NaN</td>\n",
       "      <td>123.0</td>\n",
       "      <td>Drama</td>\n",
       "      <td>English</td>\n",
       "      <td>Jim Comas Cole</td>\n",
       "      <td>NaN</td>\n",
       "      <td>NaN</td>\n",
       "      <td>NaN</td>\n",
       "      <td>NaN</td>\n",
       "    </tr>\n",
       "    <tr>\n",
       "      <th>9</th>\n",
       "      <td>1035316-born_to_kill</td>\n",
       "      <td>Born to Kill</td>\n",
       "      <td>74.0</td>\n",
       "      <td>83.0</td>\n",
       "      <td>NaN</td>\n",
       "      <td>NaN</td>\n",
       "      <td>1947-04-30</td>\n",
       "      <td>2016-05-23</td>\n",
       "      <td>92.0</td>\n",
       "      <td>Crime, Drama</td>\n",
       "      <td>English</td>\n",
       "      <td>Robert Wise</td>\n",
       "      <td>Eve Greene,Richard Macaulay</td>\n",
       "      <td>NaN</td>\n",
       "      <td>NaN</td>\n",
       "      <td>NaN</td>\n",
       "    </tr>\n",
       "  </tbody>\n",
       "</table>\n",
       "</div>\n",
       "      <button class=\"colab-df-convert\" onclick=\"convertToInteractive('df-70657d92-8170-440f-a687-dc89bc1098fc')\"\n",
       "              title=\"Convert this dataframe to an interactive table.\"\n",
       "              style=\"display:none;\">\n",
       "\n",
       "  <svg xmlns=\"http://www.w3.org/2000/svg\" height=\"24px\"viewBox=\"0 0 24 24\"\n",
       "       width=\"24px\">\n",
       "    <path d=\"M0 0h24v24H0V0z\" fill=\"none\"/>\n",
       "    <path d=\"M18.56 5.44l.94 2.06.94-2.06 2.06-.94-2.06-.94-.94-2.06-.94 2.06-2.06.94zm-11 1L8.5 8.5l.94-2.06 2.06-.94-2.06-.94L8.5 2.5l-.94 2.06-2.06.94zm10 10l.94 2.06.94-2.06 2.06-.94-2.06-.94-.94-2.06-.94 2.06-2.06.94z\"/><path d=\"M17.41 7.96l-1.37-1.37c-.4-.4-.92-.59-1.43-.59-.52 0-1.04.2-1.43.59L10.3 9.45l-7.72 7.72c-.78.78-.78 2.05 0 2.83L4 21.41c.39.39.9.59 1.41.59.51 0 1.02-.2 1.41-.59l7.78-7.78 2.81-2.81c.8-.78.8-2.07 0-2.86zM5.41 20L4 18.59l7.72-7.72 1.47 1.35L5.41 20z\"/>\n",
       "  </svg>\n",
       "      </button>\n",
       "\n",
       "\n",
       "\n",
       "    <div id=\"df-b0708a4f-2b9a-4f1c-83e3-b2e46d8f7799\">\n",
       "      <button class=\"colab-df-quickchart\" onclick=\"quickchart('df-b0708a4f-2b9a-4f1c-83e3-b2e46d8f7799')\"\n",
       "              title=\"Suggest charts.\"\n",
       "              style=\"display:none;\">\n",
       "\n",
       "<svg xmlns=\"http://www.w3.org/2000/svg\" height=\"24px\"viewBox=\"0 0 24 24\"\n",
       "     width=\"24px\">\n",
       "    <g>\n",
       "        <path d=\"M19 3H5c-1.1 0-2 .9-2 2v14c0 1.1.9 2 2 2h14c1.1 0 2-.9 2-2V5c0-1.1-.9-2-2-2zM9 17H7v-7h2v7zm4 0h-2V7h2v10zm4 0h-2v-4h2v4z\"/>\n",
       "    </g>\n",
       "</svg>\n",
       "      </button>\n",
       "    </div>\n",
       "\n",
       "<style>\n",
       "  .colab-df-quickchart {\n",
       "    background-color: #E8F0FE;\n",
       "    border: none;\n",
       "    border-radius: 50%;\n",
       "    cursor: pointer;\n",
       "    display: none;\n",
       "    fill: #1967D2;\n",
       "    height: 32px;\n",
       "    padding: 0 0 0 0;\n",
       "    width: 32px;\n",
       "  }\n",
       "\n",
       "  .colab-df-quickchart:hover {\n",
       "    background-color: #E2EBFA;\n",
       "    box-shadow: 0px 1px 2px rgba(60, 64, 67, 0.3), 0px 1px 3px 1px rgba(60, 64, 67, 0.15);\n",
       "    fill: #174EA6;\n",
       "  }\n",
       "\n",
       "  [theme=dark] .colab-df-quickchart {\n",
       "    background-color: #3B4455;\n",
       "    fill: #D2E3FC;\n",
       "  }\n",
       "\n",
       "  [theme=dark] .colab-df-quickchart:hover {\n",
       "    background-color: #434B5C;\n",
       "    box-shadow: 0px 1px 3px 1px rgba(0, 0, 0, 0.15);\n",
       "    filter: drop-shadow(0px 1px 2px rgba(0, 0, 0, 0.3));\n",
       "    fill: #FFFFFF;\n",
       "  }\n",
       "</style>\n",
       "\n",
       "    <script>\n",
       "      async function quickchart(key) {\n",
       "        const containerElement = document.querySelector('#' + key);\n",
       "        const charts = await google.colab.kernel.invokeFunction(\n",
       "            'suggestCharts', [key], {});\n",
       "      }\n",
       "    </script>\n",
       "\n",
       "      <script>\n",
       "\n",
       "function displayQuickchartButton(domScope) {\n",
       "  let quickchartButtonEl =\n",
       "    domScope.querySelector('#df-b0708a4f-2b9a-4f1c-83e3-b2e46d8f7799 button.colab-df-quickchart');\n",
       "  quickchartButtonEl.style.display =\n",
       "    google.colab.kernel.accessAllowed ? 'block' : 'none';\n",
       "}\n",
       "\n",
       "        displayQuickchartButton(document);\n",
       "      </script>\n",
       "      <style>\n",
       "    .colab-df-container {\n",
       "      display:flex;\n",
       "      flex-wrap:wrap;\n",
       "      gap: 12px;\n",
       "    }\n",
       "\n",
       "    .colab-df-convert {\n",
       "      background-color: #E8F0FE;\n",
       "      border: none;\n",
       "      border-radius: 50%;\n",
       "      cursor: pointer;\n",
       "      display: none;\n",
       "      fill: #1967D2;\n",
       "      height: 32px;\n",
       "      padding: 0 0 0 0;\n",
       "      width: 32px;\n",
       "    }\n",
       "\n",
       "    .colab-df-convert:hover {\n",
       "      background-color: #E2EBFA;\n",
       "      box-shadow: 0px 1px 2px rgba(60, 64, 67, 0.3), 0px 1px 3px 1px rgba(60, 64, 67, 0.15);\n",
       "      fill: #174EA6;\n",
       "    }\n",
       "\n",
       "    [theme=dark] .colab-df-convert {\n",
       "      background-color: #3B4455;\n",
       "      fill: #D2E3FC;\n",
       "    }\n",
       "\n",
       "    [theme=dark] .colab-df-convert:hover {\n",
       "      background-color: #434B5C;\n",
       "      box-shadow: 0px 1px 3px 1px rgba(0, 0, 0, 0.15);\n",
       "      filter: drop-shadow(0px 1px 2px rgba(0, 0, 0, 0.3));\n",
       "      fill: #FFFFFF;\n",
       "    }\n",
       "  </style>\n",
       "\n",
       "      <script>\n",
       "        const buttonEl =\n",
       "          document.querySelector('#df-70657d92-8170-440f-a687-dc89bc1098fc button.colab-df-convert');\n",
       "        buttonEl.style.display =\n",
       "          google.colab.kernel.accessAllowed ? 'block' : 'none';\n",
       "\n",
       "        async function convertToInteractive(key) {\n",
       "          const element = document.querySelector('#df-70657d92-8170-440f-a687-dc89bc1098fc');\n",
       "          const dataTable =\n",
       "            await google.colab.kernel.invokeFunction('convertToInteractive',\n",
       "                                                     [key], {});\n",
       "          if (!dataTable) return;\n",
       "\n",
       "          const docLinkHtml = 'Like what you see? Visit the ' +\n",
       "            '<a target=\"_blank\" href=https://colab.research.google.com/notebooks/data_table.ipynb>data table notebook</a>'\n",
       "            + ' to learn more about interactive tables.';\n",
       "          element.innerHTML = '';\n",
       "          dataTable['output_type'] = 'display_data';\n",
       "          await google.colab.output.renderOutput(dataTable, element);\n",
       "          const docLink = document.createElement('div');\n",
       "          docLink.innerHTML = docLinkHtml;\n",
       "          element.appendChild(docLink);\n",
       "        }\n",
       "      </script>\n",
       "    </div>\n",
       "  </div>\n"
      ],
      "text/plain": [
       "                               id  \\\n",
       "0              space-zombie-bingo   \n",
       "1                 the_green_grass   \n",
       "2                       love_lies   \n",
       "3            the_sore_losers_1997   \n",
       "4            dinosaur_island_2002   \n",
       "5                     adrift_2018   \n",
       "6  malta-con-huevo-scrambled-beer   \n",
       "7                kakabakaba-ka-ba   \n",
       "8                      sundowning   \n",
       "9            1035316-born_to_kill   \n",
       "\n",
       "                                              title  audienceScore  \\\n",
       "0                               Space Zombie Bingo!           50.0   \n",
       "1                                   The Green Grass            NaN   \n",
       "2                                        Love, Lies           43.0   \n",
       "3                                       Sore Losers           60.0   \n",
       "4                                   Dinosaur Island           70.0   \n",
       "5                                            Adrift           65.0   \n",
       "6                                    Scrambled Beer           55.0   \n",
       "7  Kakabakaba ka ba? (Will Your Heart Beat Faster?)           88.0   \n",
       "8                                        Sundowning            NaN   \n",
       "9                                      Born to Kill           74.0   \n",
       "\n",
       "   tomatoMeter rating                                     ratingContents  \\\n",
       "0          NaN    NaN                                                NaN   \n",
       "1          NaN    NaN                                                NaN   \n",
       "2          NaN    NaN                                                NaN   \n",
       "3          NaN    NaN                                                NaN   \n",
       "4          NaN    NaN                                                NaN   \n",
       "5         69.0  PG-13  ['Injury Images', 'Brief Drug Use', 'Thematic ...   \n",
       "6          NaN    NaN                                                NaN   \n",
       "7          NaN    NaN                                                NaN   \n",
       "8          NaN    NaN                                                NaN   \n",
       "9         83.0    NaN                                                NaN   \n",
       "\n",
       "  releaseDateTheaters releaseDateStreaming  runtimeMinutes  \\\n",
       "0                 NaN           2018-08-25            75.0   \n",
       "1                 NaN           2020-02-11           114.0   \n",
       "2                 NaN                  NaN           120.0   \n",
       "3                 NaN           2020-10-23            90.0   \n",
       "4                 NaN           2017-03-27            80.0   \n",
       "5          2018-06-01           2018-08-21           120.0   \n",
       "6                 NaN           2015-10-05            88.0   \n",
       "7                 NaN                  NaN             NaN   \n",
       "8                 NaN                  NaN           123.0   \n",
       "9          1947-04-30           2016-05-23            92.0   \n",
       "\n",
       "                           genre originalLanguage  \\\n",
       "0         Comedy, Horror, Sci-fi          English   \n",
       "1                          Drama          English   \n",
       "2                          Drama           Korean   \n",
       "3     Action, Mystery & thriller          English   \n",
       "4  Fantasy, Adventure, Animation          English   \n",
       "5      Adventure, Drama, Romance          English   \n",
       "6                         Comedy          Spanish   \n",
       "7                            NaN              NaN   \n",
       "8                          Drama          English   \n",
       "9                   Crime, Drama          English   \n",
       "\n",
       "                        director  \\\n",
       "0                  George Ormrod   \n",
       "1                Tiffany Edwards   \n",
       "2  Park Heung-Sik,Heung-Sik Park   \n",
       "3          John Michael McCarthy   \n",
       "4                  Will Meugniot   \n",
       "5              Baltasar Kormákur   \n",
       "6           Cristobal Valderrama   \n",
       "7                   Mike de Leon   \n",
       "8                 Jim Comas Cole   \n",
       "9                    Robert Wise   \n",
       "\n",
       "                                             writer boxOffice distributor  \\\n",
       "0                        George Ormrod,John Sabotta       NaN         NaN   \n",
       "1                                   Tiffany Edwards       NaN         NaN   \n",
       "2            Ha Young-Joon,Jeon Yun-su,Song Hye-jin       NaN         NaN   \n",
       "3                             John Michael McCarthy       NaN         NaN   \n",
       "4                                          John Loy       NaN         NaN   \n",
       "5  Aaron Kandell,Jordan Kandell,David Branson Smith    $31.4M   STX Films   \n",
       "6                              Cristobal Valderrama       NaN         NaN   \n",
       "7                                               NaN       NaN         NaN   \n",
       "8                                               NaN       NaN         NaN   \n",
       "9                       Eve Greene,Richard Macaulay       NaN         NaN   \n",
       "\n",
       "  soundMix  \n",
       "0      NaN  \n",
       "1      NaN  \n",
       "2      NaN  \n",
       "3      NaN  \n",
       "4      NaN  \n",
       "5      NaN  \n",
       "6      NaN  \n",
       "7      NaN  \n",
       "8      NaN  \n",
       "9      NaN  "
      ]
     },
     "execution_count": 5,
     "metadata": {},
     "output_type": "execute_result"
    }
   ],
   "source": [
    "print(\"Shape of movie data : \", movie_df.shape)\n",
    "movie_df.head(10)"
   ]
  },
  {
   "cell_type": "code",
   "execution_count": null,
   "metadata": {
    "colab": {
     "base_uri": "https://localhost:8080/"
    },
    "id": "5JEffKhg1p3F",
    "outputId": "a82f9211-73c2-4ab4-c0d3-c2754486d085"
   },
   "outputs": [
    {
     "name": "stdout",
     "output_type": "stream",
     "text": [
      "Shape of movie data :  (142054, 16)\n"
     ]
    }
   ],
   "source": [
    "movie_df = movie_df.drop_duplicates().reset_index(drop=True)\n",
    "print(\"Shape of movie data : \", movie_df.shape)"
   ]
  },
  {
   "cell_type": "code",
   "execution_count": null,
   "metadata": {
    "colab": {
     "base_uri": "https://localhost:8080/",
     "height": 551
    },
    "id": "loF07PLQgMOi",
    "outputId": "e2f3e856-7e6e-4ce2-fcf3-c76d224e6e95"
   },
   "outputs": [
    {
     "data": {
      "text/html": [
       "\n",
       "\n",
       "  <div id=\"df-85175ddb-cbe4-4f9e-af16-c93cbffd4ff5\">\n",
       "    <div class=\"colab-df-container\">\n",
       "      <div>\n",
       "<style scoped>\n",
       "    .dataframe tbody tr th:only-of-type {\n",
       "        vertical-align: middle;\n",
       "    }\n",
       "\n",
       "    .dataframe tbody tr th {\n",
       "        vertical-align: top;\n",
       "    }\n",
       "\n",
       "    .dataframe thead th {\n",
       "        text-align: right;\n",
       "    }\n",
       "</style>\n",
       "<table border=\"1\" class=\"dataframe\">\n",
       "  <thead>\n",
       "    <tr style=\"text-align: right;\">\n",
       "      <th></th>\n",
       "      <th>feature</th>\n",
       "      <th>type</th>\n",
       "      <th>non_null</th>\n",
       "      <th>non_null_percentage</th>\n",
       "    </tr>\n",
       "  </thead>\n",
       "  <tbody>\n",
       "    <tr>\n",
       "      <th>0</th>\n",
       "      <td>id</td>\n",
       "      <td>object</td>\n",
       "      <td>142054</td>\n",
       "      <td>100.000000</td>\n",
       "    </tr>\n",
       "    <tr>\n",
       "      <th>1</th>\n",
       "      <td>title</td>\n",
       "      <td>object</td>\n",
       "      <td>141687</td>\n",
       "      <td>99.741648</td>\n",
       "    </tr>\n",
       "    <tr>\n",
       "      <th>2</th>\n",
       "      <td>audienceScore</td>\n",
       "      <td>float64</td>\n",
       "      <td>72628</td>\n",
       "      <td>51.127036</td>\n",
       "    </tr>\n",
       "    <tr>\n",
       "      <th>3</th>\n",
       "      <td>tomatoMeter</td>\n",
       "      <td>float64</td>\n",
       "      <td>33574</td>\n",
       "      <td>23.634674</td>\n",
       "    </tr>\n",
       "    <tr>\n",
       "      <th>4</th>\n",
       "      <td>rating</td>\n",
       "      <td>object</td>\n",
       "      <td>13860</td>\n",
       "      <td>9.756853</td>\n",
       "    </tr>\n",
       "    <tr>\n",
       "      <th>5</th>\n",
       "      <td>ratingContents</td>\n",
       "      <td>object</td>\n",
       "      <td>13860</td>\n",
       "      <td>9.756853</td>\n",
       "    </tr>\n",
       "    <tr>\n",
       "      <th>6</th>\n",
       "      <td>releaseDateTheaters</td>\n",
       "      <td>object</td>\n",
       "      <td>30512</td>\n",
       "      <td>21.479156</td>\n",
       "    </tr>\n",
       "    <tr>\n",
       "      <th>7</th>\n",
       "      <td>releaseDateStreaming</td>\n",
       "      <td>object</td>\n",
       "      <td>78730</td>\n",
       "      <td>55.422586</td>\n",
       "    </tr>\n",
       "    <tr>\n",
       "      <th>8</th>\n",
       "      <td>runtimeMinutes</td>\n",
       "      <td>float64</td>\n",
       "      <td>128337</td>\n",
       "      <td>90.343813</td>\n",
       "    </tr>\n",
       "    <tr>\n",
       "      <th>9</th>\n",
       "      <td>genre</td>\n",
       "      <td>object</td>\n",
       "      <td>131053</td>\n",
       "      <td>92.255762</td>\n",
       "    </tr>\n",
       "    <tr>\n",
       "      <th>10</th>\n",
       "      <td>originalLanguage</td>\n",
       "      <td>object</td>\n",
       "      <td>128304</td>\n",
       "      <td>90.320582</td>\n",
       "    </tr>\n",
       "    <tr>\n",
       "      <th>11</th>\n",
       "      <td>director</td>\n",
       "      <td>object</td>\n",
       "      <td>137892</td>\n",
       "      <td>97.070128</td>\n",
       "    </tr>\n",
       "    <tr>\n",
       "      <th>12</th>\n",
       "      <td>writer</td>\n",
       "      <td>object</td>\n",
       "      <td>89367</td>\n",
       "      <td>62.910583</td>\n",
       "    </tr>\n",
       "    <tr>\n",
       "      <th>13</th>\n",
       "      <td>boxOffice</td>\n",
       "      <td>object</td>\n",
       "      <td>14616</td>\n",
       "      <td>10.289045</td>\n",
       "    </tr>\n",
       "    <tr>\n",
       "      <th>14</th>\n",
       "      <td>distributor</td>\n",
       "      <td>object</td>\n",
       "      <td>22803</td>\n",
       "      <td>16.052346</td>\n",
       "    </tr>\n",
       "    <tr>\n",
       "      <th>15</th>\n",
       "      <td>soundMix</td>\n",
       "      <td>object</td>\n",
       "      <td>15787</td>\n",
       "      <td>11.113379</td>\n",
       "    </tr>\n",
       "  </tbody>\n",
       "</table>\n",
       "</div>\n",
       "      <button class=\"colab-df-convert\" onclick=\"convertToInteractive('df-85175ddb-cbe4-4f9e-af16-c93cbffd4ff5')\"\n",
       "              title=\"Convert this dataframe to an interactive table.\"\n",
       "              style=\"display:none;\">\n",
       "\n",
       "  <svg xmlns=\"http://www.w3.org/2000/svg\" height=\"24px\"viewBox=\"0 0 24 24\"\n",
       "       width=\"24px\">\n",
       "    <path d=\"M0 0h24v24H0V0z\" fill=\"none\"/>\n",
       "    <path d=\"M18.56 5.44l.94 2.06.94-2.06 2.06-.94-2.06-.94-.94-2.06-.94 2.06-2.06.94zm-11 1L8.5 8.5l.94-2.06 2.06-.94-2.06-.94L8.5 2.5l-.94 2.06-2.06.94zm10 10l.94 2.06.94-2.06 2.06-.94-2.06-.94-.94-2.06-.94 2.06-2.06.94z\"/><path d=\"M17.41 7.96l-1.37-1.37c-.4-.4-.92-.59-1.43-.59-.52 0-1.04.2-1.43.59L10.3 9.45l-7.72 7.72c-.78.78-.78 2.05 0 2.83L4 21.41c.39.39.9.59 1.41.59.51 0 1.02-.2 1.41-.59l7.78-7.78 2.81-2.81c.8-.78.8-2.07 0-2.86zM5.41 20L4 18.59l7.72-7.72 1.47 1.35L5.41 20z\"/>\n",
       "  </svg>\n",
       "      </button>\n",
       "\n",
       "\n",
       "\n",
       "    <div id=\"df-1cfee6aa-e378-4028-b637-ab2a5831b749\">\n",
       "      <button class=\"colab-df-quickchart\" onclick=\"quickchart('df-1cfee6aa-e378-4028-b637-ab2a5831b749')\"\n",
       "              title=\"Suggest charts.\"\n",
       "              style=\"display:none;\">\n",
       "\n",
       "<svg xmlns=\"http://www.w3.org/2000/svg\" height=\"24px\"viewBox=\"0 0 24 24\"\n",
       "     width=\"24px\">\n",
       "    <g>\n",
       "        <path d=\"M19 3H5c-1.1 0-2 .9-2 2v14c0 1.1.9 2 2 2h14c1.1 0 2-.9 2-2V5c0-1.1-.9-2-2-2zM9 17H7v-7h2v7zm4 0h-2V7h2v10zm4 0h-2v-4h2v4z\"/>\n",
       "    </g>\n",
       "</svg>\n",
       "      </button>\n",
       "    </div>\n",
       "\n",
       "<style>\n",
       "  .colab-df-quickchart {\n",
       "    background-color: #E8F0FE;\n",
       "    border: none;\n",
       "    border-radius: 50%;\n",
       "    cursor: pointer;\n",
       "    display: none;\n",
       "    fill: #1967D2;\n",
       "    height: 32px;\n",
       "    padding: 0 0 0 0;\n",
       "    width: 32px;\n",
       "  }\n",
       "\n",
       "  .colab-df-quickchart:hover {\n",
       "    background-color: #E2EBFA;\n",
       "    box-shadow: 0px 1px 2px rgba(60, 64, 67, 0.3), 0px 1px 3px 1px rgba(60, 64, 67, 0.15);\n",
       "    fill: #174EA6;\n",
       "  }\n",
       "\n",
       "  [theme=dark] .colab-df-quickchart {\n",
       "    background-color: #3B4455;\n",
       "    fill: #D2E3FC;\n",
       "  }\n",
       "\n",
       "  [theme=dark] .colab-df-quickchart:hover {\n",
       "    background-color: #434B5C;\n",
       "    box-shadow: 0px 1px 3px 1px rgba(0, 0, 0, 0.15);\n",
       "    filter: drop-shadow(0px 1px 2px rgba(0, 0, 0, 0.3));\n",
       "    fill: #FFFFFF;\n",
       "  }\n",
       "</style>\n",
       "\n",
       "    <script>\n",
       "      async function quickchart(key) {\n",
       "        const containerElement = document.querySelector('#' + key);\n",
       "        const charts = await google.colab.kernel.invokeFunction(\n",
       "            'suggestCharts', [key], {});\n",
       "      }\n",
       "    </script>\n",
       "\n",
       "      <script>\n",
       "\n",
       "function displayQuickchartButton(domScope) {\n",
       "  let quickchartButtonEl =\n",
       "    domScope.querySelector('#df-1cfee6aa-e378-4028-b637-ab2a5831b749 button.colab-df-quickchart');\n",
       "  quickchartButtonEl.style.display =\n",
       "    google.colab.kernel.accessAllowed ? 'block' : 'none';\n",
       "}\n",
       "\n",
       "        displayQuickchartButton(document);\n",
       "      </script>\n",
       "      <style>\n",
       "    .colab-df-container {\n",
       "      display:flex;\n",
       "      flex-wrap:wrap;\n",
       "      gap: 12px;\n",
       "    }\n",
       "\n",
       "    .colab-df-convert {\n",
       "      background-color: #E8F0FE;\n",
       "      border: none;\n",
       "      border-radius: 50%;\n",
       "      cursor: pointer;\n",
       "      display: none;\n",
       "      fill: #1967D2;\n",
       "      height: 32px;\n",
       "      padding: 0 0 0 0;\n",
       "      width: 32px;\n",
       "    }\n",
       "\n",
       "    .colab-df-convert:hover {\n",
       "      background-color: #E2EBFA;\n",
       "      box-shadow: 0px 1px 2px rgba(60, 64, 67, 0.3), 0px 1px 3px 1px rgba(60, 64, 67, 0.15);\n",
       "      fill: #174EA6;\n",
       "    }\n",
       "\n",
       "    [theme=dark] .colab-df-convert {\n",
       "      background-color: #3B4455;\n",
       "      fill: #D2E3FC;\n",
       "    }\n",
       "\n",
       "    [theme=dark] .colab-df-convert:hover {\n",
       "      background-color: #434B5C;\n",
       "      box-shadow: 0px 1px 3px 1px rgba(0, 0, 0, 0.15);\n",
       "      filter: drop-shadow(0px 1px 2px rgba(0, 0, 0, 0.3));\n",
       "      fill: #FFFFFF;\n",
       "    }\n",
       "  </style>\n",
       "\n",
       "      <script>\n",
       "        const buttonEl =\n",
       "          document.querySelector('#df-85175ddb-cbe4-4f9e-af16-c93cbffd4ff5 button.colab-df-convert');\n",
       "        buttonEl.style.display =\n",
       "          google.colab.kernel.accessAllowed ? 'block' : 'none';\n",
       "\n",
       "        async function convertToInteractive(key) {\n",
       "          const element = document.querySelector('#df-85175ddb-cbe4-4f9e-af16-c93cbffd4ff5');\n",
       "          const dataTable =\n",
       "            await google.colab.kernel.invokeFunction('convertToInteractive',\n",
       "                                                     [key], {});\n",
       "          if (!dataTable) return;\n",
       "\n",
       "          const docLinkHtml = 'Like what you see? Visit the ' +\n",
       "            '<a target=\"_blank\" href=https://colab.research.google.com/notebooks/data_table.ipynb>data table notebook</a>'\n",
       "            + ' to learn more about interactive tables.';\n",
       "          element.innerHTML = '';\n",
       "          dataTable['output_type'] = 'display_data';\n",
       "          await google.colab.output.renderOutput(dataTable, element);\n",
       "          const docLink = document.createElement('div');\n",
       "          docLink.innerHTML = docLinkHtml;\n",
       "          element.appendChild(docLink);\n",
       "        }\n",
       "      </script>\n",
       "    </div>\n",
       "  </div>\n"
      ],
      "text/plain": [
       "                 feature     type  non_null  non_null_percentage\n",
       "0                     id   object    142054           100.000000\n",
       "1                  title   object    141687            99.741648\n",
       "2          audienceScore  float64     72628            51.127036\n",
       "3            tomatoMeter  float64     33574            23.634674\n",
       "4                 rating   object     13860             9.756853\n",
       "5         ratingContents   object     13860             9.756853\n",
       "6    releaseDateTheaters   object     30512            21.479156\n",
       "7   releaseDateStreaming   object     78730            55.422586\n",
       "8         runtimeMinutes  float64    128337            90.343813\n",
       "9                  genre   object    131053            92.255762\n",
       "10      originalLanguage   object    128304            90.320582\n",
       "11              director   object    137892            97.070128\n",
       "12                writer   object     89367            62.910583\n",
       "13             boxOffice   object     14616            10.289045\n",
       "14           distributor   object     22803            16.052346\n",
       "15              soundMix   object     15787            11.113379"
      ]
     },
     "execution_count": 7,
     "metadata": {},
     "output_type": "execute_result"
    }
   ],
   "source": [
    "# Looking at the data type and missing values\n",
    "df_info = pd.concat([pd.DataFrame(movie_df.dtypes), pd.DataFrame(movie_df.count())], axis=1).reset_index(drop=False)\n",
    "# df_info = pd.concat(pd.DataFrame(movie_df.dtypes, columns = ['title', 'type'], pd.DataFrame(movie_df.counts(),))\n",
    "n = movie_df.shape[0]\n",
    "df_info.columns = ['feature', 'type', 'non_null']\n",
    "df_info['non_null_percentage'] = df_info['non_null'].apply(lambda x : (x/n)*100)\n",
    "df_info"
   ]
  },
  {
   "cell_type": "code",
   "execution_count": null,
   "metadata": {
    "id": "OaLvYgfFg8RD"
   },
   "outputs": [],
   "source": [
    "\"\"\"\n",
    "Based on above analysis, we can drop following columns because null values are very high.\n",
    "1- ratingContents\n",
    "2- rating\n",
    "3- releaseDateTheaters\n",
    "4- releaseDateStreaming\n",
    "5- boxOffice\n",
    "6- distributor\n",
    "7- soundMix\n",
    "8- audienceScore\n",
    "10- tomatoMeter\n",
    "\n",
    "\"\"\"\n",
    "movie_df.drop(columns=['ratingContents', 'releaseDateTheaters', 'releaseDateStreaming', 'rating', 'boxOffice', 'distributor', 'soundMix'], axis=1, inplace=True)\n"
   ]
  },
  {
   "cell_type": "code",
   "execution_count": null,
   "metadata": {
    "id": "wcbr3lXVlcqp"
   },
   "outputs": [],
   "source": [
    "print(f\"no of unique movies_id : {len(np.unique(movie_df['id']))}\")\n",
    "print(f\"no of unique movies : {len(np.unique(movie_df['title'].astype('str')))}\")"
   ]
  },
  {
   "cell_type": "markdown",
   "metadata": {
    "id": "kGqx6qeCFAcS"
   },
   "source": [
    "### Get the title from id"
   ]
  },
  {
   "cell_type": "code",
   "execution_count": null,
   "metadata": {
    "id": "OU_Fo1ZpFJjg"
   },
   "outputs": [],
   "source": [
    "# replacing missing titles with id\n",
    "\n",
    "def missingTitleTreat(row):\n",
    "    if pd.isna(row['title']) == True:\n",
    "        if pd.isna(row['id']) == False:\n",
    "            g = row['id']\n",
    "            g = g.replace(\"_\",\" \")\n",
    "    else:\n",
    "        g = row['title']\n",
    "    return g\n"
   ]
  },
  {
   "cell_type": "code",
   "execution_count": null,
   "metadata": {
    "id": "SlrQwtLXQJ9A"
   },
   "outputs": [],
   "source": [
    "movie_df['title'] = movie_df.apply(missingTitleTreat, axis=1)"
   ]
  },
  {
   "cell_type": "markdown",
   "metadata": {
    "id": "-ME8jgXiRXM7"
   },
   "source": [
    "### looking at the Null values"
   ]
  },
  {
   "cell_type": "code",
   "execution_count": null,
   "metadata": {
    "colab": {
     "base_uri": "https://localhost:8080/",
     "height": 331
    },
    "id": "02XeUYVuW3Yz",
    "outputId": "7f8e4ff9-024a-422c-9973-9693f2c63654"
   },
   "outputs": [
    {
     "data": {
      "text/html": [
       "\n",
       "\n",
       "  <div id=\"df-aeae3d9e-b8ef-4037-8d21-652d5ee9a426\">\n",
       "    <div class=\"colab-df-container\">\n",
       "      <div>\n",
       "<style scoped>\n",
       "    .dataframe tbody tr th:only-of-type {\n",
       "        vertical-align: middle;\n",
       "    }\n",
       "\n",
       "    .dataframe tbody tr th {\n",
       "        vertical-align: top;\n",
       "    }\n",
       "\n",
       "    .dataframe thead th {\n",
       "        text-align: right;\n",
       "    }\n",
       "</style>\n",
       "<table border=\"1\" class=\"dataframe\">\n",
       "  <thead>\n",
       "    <tr style=\"text-align: right;\">\n",
       "      <th></th>\n",
       "      <th>feature</th>\n",
       "      <th>type</th>\n",
       "      <th>non_null</th>\n",
       "      <th>non_null_percentage</th>\n",
       "    </tr>\n",
       "  </thead>\n",
       "  <tbody>\n",
       "    <tr>\n",
       "      <th>0</th>\n",
       "      <td>id</td>\n",
       "      <td>object</td>\n",
       "      <td>142054</td>\n",
       "      <td>100.000000</td>\n",
       "    </tr>\n",
       "    <tr>\n",
       "      <th>1</th>\n",
       "      <td>title</td>\n",
       "      <td>object</td>\n",
       "      <td>142054</td>\n",
       "      <td>100.000000</td>\n",
       "    </tr>\n",
       "    <tr>\n",
       "      <th>2</th>\n",
       "      <td>audienceScore</td>\n",
       "      <td>float64</td>\n",
       "      <td>72628</td>\n",
       "      <td>51.127036</td>\n",
       "    </tr>\n",
       "    <tr>\n",
       "      <th>3</th>\n",
       "      <td>tomatoMeter</td>\n",
       "      <td>float64</td>\n",
       "      <td>33574</td>\n",
       "      <td>23.634674</td>\n",
       "    </tr>\n",
       "    <tr>\n",
       "      <th>4</th>\n",
       "      <td>runtimeMinutes</td>\n",
       "      <td>float64</td>\n",
       "      <td>128337</td>\n",
       "      <td>90.343813</td>\n",
       "    </tr>\n",
       "    <tr>\n",
       "      <th>5</th>\n",
       "      <td>genre</td>\n",
       "      <td>object</td>\n",
       "      <td>131053</td>\n",
       "      <td>92.255762</td>\n",
       "    </tr>\n",
       "    <tr>\n",
       "      <th>6</th>\n",
       "      <td>originalLanguage</td>\n",
       "      <td>object</td>\n",
       "      <td>128304</td>\n",
       "      <td>90.320582</td>\n",
       "    </tr>\n",
       "    <tr>\n",
       "      <th>7</th>\n",
       "      <td>director</td>\n",
       "      <td>object</td>\n",
       "      <td>137892</td>\n",
       "      <td>97.070128</td>\n",
       "    </tr>\n",
       "    <tr>\n",
       "      <th>8</th>\n",
       "      <td>writer</td>\n",
       "      <td>object</td>\n",
       "      <td>89367</td>\n",
       "      <td>62.910583</td>\n",
       "    </tr>\n",
       "  </tbody>\n",
       "</table>\n",
       "</div>\n",
       "      <button class=\"colab-df-convert\" onclick=\"convertToInteractive('df-aeae3d9e-b8ef-4037-8d21-652d5ee9a426')\"\n",
       "              title=\"Convert this dataframe to an interactive table.\"\n",
       "              style=\"display:none;\">\n",
       "\n",
       "  <svg xmlns=\"http://www.w3.org/2000/svg\" height=\"24px\"viewBox=\"0 0 24 24\"\n",
       "       width=\"24px\">\n",
       "    <path d=\"M0 0h24v24H0V0z\" fill=\"none\"/>\n",
       "    <path d=\"M18.56 5.44l.94 2.06.94-2.06 2.06-.94-2.06-.94-.94-2.06-.94 2.06-2.06.94zm-11 1L8.5 8.5l.94-2.06 2.06-.94-2.06-.94L8.5 2.5l-.94 2.06-2.06.94zm10 10l.94 2.06.94-2.06 2.06-.94-2.06-.94-.94-2.06-.94 2.06-2.06.94z\"/><path d=\"M17.41 7.96l-1.37-1.37c-.4-.4-.92-.59-1.43-.59-.52 0-1.04.2-1.43.59L10.3 9.45l-7.72 7.72c-.78.78-.78 2.05 0 2.83L4 21.41c.39.39.9.59 1.41.59.51 0 1.02-.2 1.41-.59l7.78-7.78 2.81-2.81c.8-.78.8-2.07 0-2.86zM5.41 20L4 18.59l7.72-7.72 1.47 1.35L5.41 20z\"/>\n",
       "  </svg>\n",
       "      </button>\n",
       "\n",
       "\n",
       "\n",
       "    <div id=\"df-fb2d6e03-58e0-46b5-9a2b-48d5d493f707\">\n",
       "      <button class=\"colab-df-quickchart\" onclick=\"quickchart('df-fb2d6e03-58e0-46b5-9a2b-48d5d493f707')\"\n",
       "              title=\"Suggest charts.\"\n",
       "              style=\"display:none;\">\n",
       "\n",
       "<svg xmlns=\"http://www.w3.org/2000/svg\" height=\"24px\"viewBox=\"0 0 24 24\"\n",
       "     width=\"24px\">\n",
       "    <g>\n",
       "        <path d=\"M19 3H5c-1.1 0-2 .9-2 2v14c0 1.1.9 2 2 2h14c1.1 0 2-.9 2-2V5c0-1.1-.9-2-2-2zM9 17H7v-7h2v7zm4 0h-2V7h2v10zm4 0h-2v-4h2v4z\"/>\n",
       "    </g>\n",
       "</svg>\n",
       "      </button>\n",
       "    </div>\n",
       "\n",
       "<style>\n",
       "  .colab-df-quickchart {\n",
       "    background-color: #E8F0FE;\n",
       "    border: none;\n",
       "    border-radius: 50%;\n",
       "    cursor: pointer;\n",
       "    display: none;\n",
       "    fill: #1967D2;\n",
       "    height: 32px;\n",
       "    padding: 0 0 0 0;\n",
       "    width: 32px;\n",
       "  }\n",
       "\n",
       "  .colab-df-quickchart:hover {\n",
       "    background-color: #E2EBFA;\n",
       "    box-shadow: 0px 1px 2px rgba(60, 64, 67, 0.3), 0px 1px 3px 1px rgba(60, 64, 67, 0.15);\n",
       "    fill: #174EA6;\n",
       "  }\n",
       "\n",
       "  [theme=dark] .colab-df-quickchart {\n",
       "    background-color: #3B4455;\n",
       "    fill: #D2E3FC;\n",
       "  }\n",
       "\n",
       "  [theme=dark] .colab-df-quickchart:hover {\n",
       "    background-color: #434B5C;\n",
       "    box-shadow: 0px 1px 3px 1px rgba(0, 0, 0, 0.15);\n",
       "    filter: drop-shadow(0px 1px 2px rgba(0, 0, 0, 0.3));\n",
       "    fill: #FFFFFF;\n",
       "  }\n",
       "</style>\n",
       "\n",
       "    <script>\n",
       "      async function quickchart(key) {\n",
       "        const containerElement = document.querySelector('#' + key);\n",
       "        const charts = await google.colab.kernel.invokeFunction(\n",
       "            'suggestCharts', [key], {});\n",
       "      }\n",
       "    </script>\n",
       "\n",
       "      <script>\n",
       "\n",
       "function displayQuickchartButton(domScope) {\n",
       "  let quickchartButtonEl =\n",
       "    domScope.querySelector('#df-fb2d6e03-58e0-46b5-9a2b-48d5d493f707 button.colab-df-quickchart');\n",
       "  quickchartButtonEl.style.display =\n",
       "    google.colab.kernel.accessAllowed ? 'block' : 'none';\n",
       "}\n",
       "\n",
       "        displayQuickchartButton(document);\n",
       "      </script>\n",
       "      <style>\n",
       "    .colab-df-container {\n",
       "      display:flex;\n",
       "      flex-wrap:wrap;\n",
       "      gap: 12px;\n",
       "    }\n",
       "\n",
       "    .colab-df-convert {\n",
       "      background-color: #E8F0FE;\n",
       "      border: none;\n",
       "      border-radius: 50%;\n",
       "      cursor: pointer;\n",
       "      display: none;\n",
       "      fill: #1967D2;\n",
       "      height: 32px;\n",
       "      padding: 0 0 0 0;\n",
       "      width: 32px;\n",
       "    }\n",
       "\n",
       "    .colab-df-convert:hover {\n",
       "      background-color: #E2EBFA;\n",
       "      box-shadow: 0px 1px 2px rgba(60, 64, 67, 0.3), 0px 1px 3px 1px rgba(60, 64, 67, 0.15);\n",
       "      fill: #174EA6;\n",
       "    }\n",
       "\n",
       "    [theme=dark] .colab-df-convert {\n",
       "      background-color: #3B4455;\n",
       "      fill: #D2E3FC;\n",
       "    }\n",
       "\n",
       "    [theme=dark] .colab-df-convert:hover {\n",
       "      background-color: #434B5C;\n",
       "      box-shadow: 0px 1px 3px 1px rgba(0, 0, 0, 0.15);\n",
       "      filter: drop-shadow(0px 1px 2px rgba(0, 0, 0, 0.3));\n",
       "      fill: #FFFFFF;\n",
       "    }\n",
       "  </style>\n",
       "\n",
       "      <script>\n",
       "        const buttonEl =\n",
       "          document.querySelector('#df-aeae3d9e-b8ef-4037-8d21-652d5ee9a426 button.colab-df-convert');\n",
       "        buttonEl.style.display =\n",
       "          google.colab.kernel.accessAllowed ? 'block' : 'none';\n",
       "\n",
       "        async function convertToInteractive(key) {\n",
       "          const element = document.querySelector('#df-aeae3d9e-b8ef-4037-8d21-652d5ee9a426');\n",
       "          const dataTable =\n",
       "            await google.colab.kernel.invokeFunction('convertToInteractive',\n",
       "                                                     [key], {});\n",
       "          if (!dataTable) return;\n",
       "\n",
       "          const docLinkHtml = 'Like what you see? Visit the ' +\n",
       "            '<a target=\"_blank\" href=https://colab.research.google.com/notebooks/data_table.ipynb>data table notebook</a>'\n",
       "            + ' to learn more about interactive tables.';\n",
       "          element.innerHTML = '';\n",
       "          dataTable['output_type'] = 'display_data';\n",
       "          await google.colab.output.renderOutput(dataTable, element);\n",
       "          const docLink = document.createElement('div');\n",
       "          docLink.innerHTML = docLinkHtml;\n",
       "          element.appendChild(docLink);\n",
       "        }\n",
       "      </script>\n",
       "    </div>\n",
       "  </div>\n"
      ],
      "text/plain": [
       "            feature     type  non_null  non_null_percentage\n",
       "0                id   object    142054           100.000000\n",
       "1             title   object    142054           100.000000\n",
       "2     audienceScore  float64     72628            51.127036\n",
       "3       tomatoMeter  float64     33574            23.634674\n",
       "4    runtimeMinutes  float64    128337            90.343813\n",
       "5             genre   object    131053            92.255762\n",
       "6  originalLanguage   object    128304            90.320582\n",
       "7          director   object    137892            97.070128\n",
       "8            writer   object     89367            62.910583"
      ]
     },
     "execution_count": 13,
     "metadata": {},
     "output_type": "execute_result"
    }
   ],
   "source": [
    "df_info = pd.concat([pd.DataFrame(movie_df.dtypes), pd.DataFrame(movie_df.count())], axis=1).reset_index(drop=False)\n",
    "n = movie_df.shape[0]\n",
    "df_info.columns = ['feature', 'type', 'non_null']\n",
    "df_info['non_null_percentage'] = df_info['non_null'].apply(lambda x : (x/n)*100)\n",
    "df_info"
   ]
  },
  {
   "cell_type": "markdown",
   "metadata": {
    "id": "nSRPoFX3zekm"
   },
   "source": [
    "# Review Data Analysis"
   ]
  },
  {
   "cell_type": "markdown",
   "metadata": {
    "id": "Zlu5Ja3t2o0e"
   },
   "source": [
    "### Now we will  see the data properties of review data set in a similar manner"
   ]
  },
  {
   "cell_type": "code",
   "execution_count": null,
   "metadata": {
    "colab": {
     "base_uri": "https://localhost:8080/"
    },
    "id": "OMa-mEoS4P1w",
    "outputId": "1a33d7ce-21c4-4671-ea03-458753f19302"
   },
   "outputs": [
    {
     "data": {
      "text/plain": [
       "Index(['id', 'reviewId', 'creationDate', 'criticName', 'isTopCritic',\n",
       "       'originalScore', 'reviewState', 'publicatioName', 'reviewText',\n",
       "       'scoreSentiment', 'reviewUrl'],\n",
       "      dtype='object')"
      ]
     },
     "execution_count": 14,
     "metadata": {},
     "output_type": "execute_result"
    }
   ],
   "source": [
    "review_df.columns"
   ]
  },
  {
   "cell_type": "code",
   "execution_count": null,
   "metadata": {
    "colab": {
     "base_uri": "https://localhost:8080/",
     "height": 1000
    },
    "id": "0YnxjT4S3EVZ",
    "outputId": "25411fac-8cb7-4572-ed30-f5dfdba3f35a"
   },
   "outputs": [
    {
     "name": "stdout",
     "output_type": "stream",
     "text": [
      "(1444963, 11)\n"
     ]
    },
    {
     "data": {
      "text/html": [
       "\n",
       "\n",
       "  <div id=\"df-fffeffc3-9de7-480e-9672-f48f8c732c1b\">\n",
       "    <div class=\"colab-df-container\">\n",
       "      <div>\n",
       "<style scoped>\n",
       "    .dataframe tbody tr th:only-of-type {\n",
       "        vertical-align: middle;\n",
       "    }\n",
       "\n",
       "    .dataframe tbody tr th {\n",
       "        vertical-align: top;\n",
       "    }\n",
       "\n",
       "    .dataframe thead th {\n",
       "        text-align: right;\n",
       "    }\n",
       "</style>\n",
       "<table border=\"1\" class=\"dataframe\">\n",
       "  <thead>\n",
       "    <tr style=\"text-align: right;\">\n",
       "      <th></th>\n",
       "      <th>id</th>\n",
       "      <th>reviewId</th>\n",
       "      <th>creationDate</th>\n",
       "      <th>criticName</th>\n",
       "      <th>isTopCritic</th>\n",
       "      <th>originalScore</th>\n",
       "      <th>reviewState</th>\n",
       "      <th>publicatioName</th>\n",
       "      <th>reviewText</th>\n",
       "      <th>scoreSentiment</th>\n",
       "      <th>reviewUrl</th>\n",
       "    </tr>\n",
       "  </thead>\n",
       "  <tbody>\n",
       "    <tr>\n",
       "      <th>0</th>\n",
       "      <td>beavers</td>\n",
       "      <td>1145982</td>\n",
       "      <td>2003-05-23</td>\n",
       "      <td>Ivan M. Lincoln</td>\n",
       "      <td>False</td>\n",
       "      <td>3.5/4</td>\n",
       "      <td>fresh</td>\n",
       "      <td>Deseret News (Salt Lake City)</td>\n",
       "      <td>Timed to be just long enough for most youngste...</td>\n",
       "      <td>POSITIVE</td>\n",
       "      <td>http://www.deseretnews.com/article/700003233/B...</td>\n",
       "    </tr>\n",
       "    <tr>\n",
       "      <th>1</th>\n",
       "      <td>blood_mask</td>\n",
       "      <td>1636744</td>\n",
       "      <td>2007-06-02</td>\n",
       "      <td>The Foywonder</td>\n",
       "      <td>False</td>\n",
       "      <td>1/5</td>\n",
       "      <td>rotten</td>\n",
       "      <td>Dread Central</td>\n",
       "      <td>It doesn't matter if a movie costs 300 million...</td>\n",
       "      <td>NEGATIVE</td>\n",
       "      <td>http://www.dreadcentral.com/index.php?name=Rev...</td>\n",
       "    </tr>\n",
       "    <tr>\n",
       "      <th>2</th>\n",
       "      <td>city_hunter_shinjuku_private_eyes</td>\n",
       "      <td>2590987</td>\n",
       "      <td>2019-05-28</td>\n",
       "      <td>Reuben Baron</td>\n",
       "      <td>False</td>\n",
       "      <td>NaN</td>\n",
       "      <td>fresh</td>\n",
       "      <td>CBR</td>\n",
       "      <td>The choreography is so precise and lifelike at...</td>\n",
       "      <td>POSITIVE</td>\n",
       "      <td>https://www.cbr.com/city-hunter-shinjuku-priva...</td>\n",
       "    </tr>\n",
       "    <tr>\n",
       "      <th>3</th>\n",
       "      <td>city_hunter_shinjuku_private_eyes</td>\n",
       "      <td>2558908</td>\n",
       "      <td>2019-02-14</td>\n",
       "      <td>Matt Schley</td>\n",
       "      <td>False</td>\n",
       "      <td>2.5/5</td>\n",
       "      <td>rotten</td>\n",
       "      <td>Japan Times</td>\n",
       "      <td>The film's out-of-touch attempts at humor may ...</td>\n",
       "      <td>NEGATIVE</td>\n",
       "      <td>https://www.japantimes.co.jp/culture/2019/02/0...</td>\n",
       "    </tr>\n",
       "    <tr>\n",
       "      <th>4</th>\n",
       "      <td>dangerous_men_2015</td>\n",
       "      <td>2504681</td>\n",
       "      <td>2018-08-29</td>\n",
       "      <td>Pat Padua</td>\n",
       "      <td>False</td>\n",
       "      <td>NaN</td>\n",
       "      <td>fresh</td>\n",
       "      <td>DCist</td>\n",
       "      <td>Its clumsy determination is endearing and some...</td>\n",
       "      <td>POSITIVE</td>\n",
       "      <td>http://dcist.com/2015/11/out_of_frame_dangerou...</td>\n",
       "    </tr>\n",
       "    <tr>\n",
       "      <th>5</th>\n",
       "      <td>dangerous_men_2015</td>\n",
       "      <td>2299284</td>\n",
       "      <td>2015-12-13</td>\n",
       "      <td>Eric Melin</td>\n",
       "      <td>False</td>\n",
       "      <td>4/5</td>\n",
       "      <td>fresh</td>\n",
       "      <td>Lawrence.com</td>\n",
       "      <td>With every new minute, there's another head-sc...</td>\n",
       "      <td>POSITIVE</td>\n",
       "      <td>http://www.lawrence.com/weblogs/scenestealers/...</td>\n",
       "    </tr>\n",
       "    <tr>\n",
       "      <th>6</th>\n",
       "      <td>dangerous_men_2015</td>\n",
       "      <td>2295858</td>\n",
       "      <td>2015-11-22</td>\n",
       "      <td>Matt Donato</td>\n",
       "      <td>False</td>\n",
       "      <td>7/10</td>\n",
       "      <td>fresh</td>\n",
       "      <td>We Got This Covered</td>\n",
       "      <td>Emotionless reaction shots, zero characterizat...</td>\n",
       "      <td>POSITIVE</td>\n",
       "      <td>http://wegotthiscovered.com/movies/dangerous-m...</td>\n",
       "    </tr>\n",
       "    <tr>\n",
       "      <th>7</th>\n",
       "      <td>dangerous_men_2015</td>\n",
       "      <td>2295338</td>\n",
       "      <td>2015-11-19</td>\n",
       "      <td>Peter Keough</td>\n",
       "      <td>True</td>\n",
       "      <td>0.5/4</td>\n",
       "      <td>rotten</td>\n",
       "      <td>Boston Globe</td>\n",
       "      <td>Conceivably, it could serve as a primer for st...</td>\n",
       "      <td>NEGATIVE</td>\n",
       "      <td>http://www.bostonglobe.com/arts/movies/2015/11...</td>\n",
       "    </tr>\n",
       "    <tr>\n",
       "      <th>8</th>\n",
       "      <td>dangerous_men_2015</td>\n",
       "      <td>2294641</td>\n",
       "      <td>2015-11-16</td>\n",
       "      <td>Jason Wilson</td>\n",
       "      <td>False</td>\n",
       "      <td>3/10</td>\n",
       "      <td>rotten</td>\n",
       "      <td>Under the Radar</td>\n",
       "      <td>If you're not a fan of garbage cinema, even fo...</td>\n",
       "      <td>NEGATIVE</td>\n",
       "      <td>http://www.undertheradarmag.com/reviews/danger...</td>\n",
       "    </tr>\n",
       "    <tr>\n",
       "      <th>9</th>\n",
       "      <td>dangerous_men_2015</td>\n",
       "      <td>2294129</td>\n",
       "      <td>2015-11-12</td>\n",
       "      <td>Soren Andersen</td>\n",
       "      <td>True</td>\n",
       "      <td>0/4</td>\n",
       "      <td>rotten</td>\n",
       "      <td>Seattle Times</td>\n",
       "      <td>\"Dangerous Men,\" the picture's production note...</td>\n",
       "      <td>NEGATIVE</td>\n",
       "      <td>http://www.seattletimes.com/entertainment/movi...</td>\n",
       "    </tr>\n",
       "  </tbody>\n",
       "</table>\n",
       "</div>\n",
       "      <button class=\"colab-df-convert\" onclick=\"convertToInteractive('df-fffeffc3-9de7-480e-9672-f48f8c732c1b')\"\n",
       "              title=\"Convert this dataframe to an interactive table.\"\n",
       "              style=\"display:none;\">\n",
       "\n",
       "  <svg xmlns=\"http://www.w3.org/2000/svg\" height=\"24px\"viewBox=\"0 0 24 24\"\n",
       "       width=\"24px\">\n",
       "    <path d=\"M0 0h24v24H0V0z\" fill=\"none\"/>\n",
       "    <path d=\"M18.56 5.44l.94 2.06.94-2.06 2.06-.94-2.06-.94-.94-2.06-.94 2.06-2.06.94zm-11 1L8.5 8.5l.94-2.06 2.06-.94-2.06-.94L8.5 2.5l-.94 2.06-2.06.94zm10 10l.94 2.06.94-2.06 2.06-.94-2.06-.94-.94-2.06-.94 2.06-2.06.94z\"/><path d=\"M17.41 7.96l-1.37-1.37c-.4-.4-.92-.59-1.43-.59-.52 0-1.04.2-1.43.59L10.3 9.45l-7.72 7.72c-.78.78-.78 2.05 0 2.83L4 21.41c.39.39.9.59 1.41.59.51 0 1.02-.2 1.41-.59l7.78-7.78 2.81-2.81c.8-.78.8-2.07 0-2.86zM5.41 20L4 18.59l7.72-7.72 1.47 1.35L5.41 20z\"/>\n",
       "  </svg>\n",
       "      </button>\n",
       "\n",
       "\n",
       "\n",
       "    <div id=\"df-9c028c3c-baed-4c47-a8e8-d27ea59b7f88\">\n",
       "      <button class=\"colab-df-quickchart\" onclick=\"quickchart('df-9c028c3c-baed-4c47-a8e8-d27ea59b7f88')\"\n",
       "              title=\"Suggest charts.\"\n",
       "              style=\"display:none;\">\n",
       "\n",
       "<svg xmlns=\"http://www.w3.org/2000/svg\" height=\"24px\"viewBox=\"0 0 24 24\"\n",
       "     width=\"24px\">\n",
       "    <g>\n",
       "        <path d=\"M19 3H5c-1.1 0-2 .9-2 2v14c0 1.1.9 2 2 2h14c1.1 0 2-.9 2-2V5c0-1.1-.9-2-2-2zM9 17H7v-7h2v7zm4 0h-2V7h2v10zm4 0h-2v-4h2v4z\"/>\n",
       "    </g>\n",
       "</svg>\n",
       "      </button>\n",
       "    </div>\n",
       "\n",
       "<style>\n",
       "  .colab-df-quickchart {\n",
       "    background-color: #E8F0FE;\n",
       "    border: none;\n",
       "    border-radius: 50%;\n",
       "    cursor: pointer;\n",
       "    display: none;\n",
       "    fill: #1967D2;\n",
       "    height: 32px;\n",
       "    padding: 0 0 0 0;\n",
       "    width: 32px;\n",
       "  }\n",
       "\n",
       "  .colab-df-quickchart:hover {\n",
       "    background-color: #E2EBFA;\n",
       "    box-shadow: 0px 1px 2px rgba(60, 64, 67, 0.3), 0px 1px 3px 1px rgba(60, 64, 67, 0.15);\n",
       "    fill: #174EA6;\n",
       "  }\n",
       "\n",
       "  [theme=dark] .colab-df-quickchart {\n",
       "    background-color: #3B4455;\n",
       "    fill: #D2E3FC;\n",
       "  }\n",
       "\n",
       "  [theme=dark] .colab-df-quickchart:hover {\n",
       "    background-color: #434B5C;\n",
       "    box-shadow: 0px 1px 3px 1px rgba(0, 0, 0, 0.15);\n",
       "    filter: drop-shadow(0px 1px 2px rgba(0, 0, 0, 0.3));\n",
       "    fill: #FFFFFF;\n",
       "  }\n",
       "</style>\n",
       "\n",
       "    <script>\n",
       "      async function quickchart(key) {\n",
       "        const containerElement = document.querySelector('#' + key);\n",
       "        const charts = await google.colab.kernel.invokeFunction(\n",
       "            'suggestCharts', [key], {});\n",
       "      }\n",
       "    </script>\n",
       "\n",
       "      <script>\n",
       "\n",
       "function displayQuickchartButton(domScope) {\n",
       "  let quickchartButtonEl =\n",
       "    domScope.querySelector('#df-9c028c3c-baed-4c47-a8e8-d27ea59b7f88 button.colab-df-quickchart');\n",
       "  quickchartButtonEl.style.display =\n",
       "    google.colab.kernel.accessAllowed ? 'block' : 'none';\n",
       "}\n",
       "\n",
       "        displayQuickchartButton(document);\n",
       "      </script>\n",
       "      <style>\n",
       "    .colab-df-container {\n",
       "      display:flex;\n",
       "      flex-wrap:wrap;\n",
       "      gap: 12px;\n",
       "    }\n",
       "\n",
       "    .colab-df-convert {\n",
       "      background-color: #E8F0FE;\n",
       "      border: none;\n",
       "      border-radius: 50%;\n",
       "      cursor: pointer;\n",
       "      display: none;\n",
       "      fill: #1967D2;\n",
       "      height: 32px;\n",
       "      padding: 0 0 0 0;\n",
       "      width: 32px;\n",
       "    }\n",
       "\n",
       "    .colab-df-convert:hover {\n",
       "      background-color: #E2EBFA;\n",
       "      box-shadow: 0px 1px 2px rgba(60, 64, 67, 0.3), 0px 1px 3px 1px rgba(60, 64, 67, 0.15);\n",
       "      fill: #174EA6;\n",
       "    }\n",
       "\n",
       "    [theme=dark] .colab-df-convert {\n",
       "      background-color: #3B4455;\n",
       "      fill: #D2E3FC;\n",
       "    }\n",
       "\n",
       "    [theme=dark] .colab-df-convert:hover {\n",
       "      background-color: #434B5C;\n",
       "      box-shadow: 0px 1px 3px 1px rgba(0, 0, 0, 0.15);\n",
       "      filter: drop-shadow(0px 1px 2px rgba(0, 0, 0, 0.3));\n",
       "      fill: #FFFFFF;\n",
       "    }\n",
       "  </style>\n",
       "\n",
       "      <script>\n",
       "        const buttonEl =\n",
       "          document.querySelector('#df-fffeffc3-9de7-480e-9672-f48f8c732c1b button.colab-df-convert');\n",
       "        buttonEl.style.display =\n",
       "          google.colab.kernel.accessAllowed ? 'block' : 'none';\n",
       "\n",
       "        async function convertToInteractive(key) {\n",
       "          const element = document.querySelector('#df-fffeffc3-9de7-480e-9672-f48f8c732c1b');\n",
       "          const dataTable =\n",
       "            await google.colab.kernel.invokeFunction('convertToInteractive',\n",
       "                                                     [key], {});\n",
       "          if (!dataTable) return;\n",
       "\n",
       "          const docLinkHtml = 'Like what you see? Visit the ' +\n",
       "            '<a target=\"_blank\" href=https://colab.research.google.com/notebooks/data_table.ipynb>data table notebook</a>'\n",
       "            + ' to learn more about interactive tables.';\n",
       "          element.innerHTML = '';\n",
       "          dataTable['output_type'] = 'display_data';\n",
       "          await google.colab.output.renderOutput(dataTable, element);\n",
       "          const docLink = document.createElement('div');\n",
       "          docLink.innerHTML = docLinkHtml;\n",
       "          element.appendChild(docLink);\n",
       "        }\n",
       "      </script>\n",
       "    </div>\n",
       "  </div>\n"
      ],
      "text/plain": [
       "                                  id  reviewId creationDate       criticName  \\\n",
       "0                            beavers   1145982   2003-05-23  Ivan M. Lincoln   \n",
       "1                         blood_mask   1636744   2007-06-02    The Foywonder   \n",
       "2  city_hunter_shinjuku_private_eyes   2590987   2019-05-28     Reuben Baron   \n",
       "3  city_hunter_shinjuku_private_eyes   2558908   2019-02-14      Matt Schley   \n",
       "4                 dangerous_men_2015   2504681   2018-08-29        Pat Padua   \n",
       "5                 dangerous_men_2015   2299284   2015-12-13       Eric Melin   \n",
       "6                 dangerous_men_2015   2295858   2015-11-22      Matt Donato   \n",
       "7                 dangerous_men_2015   2295338   2015-11-19     Peter Keough   \n",
       "8                 dangerous_men_2015   2294641   2015-11-16     Jason Wilson   \n",
       "9                 dangerous_men_2015   2294129   2015-11-12   Soren Andersen   \n",
       "\n",
       "   isTopCritic originalScore reviewState                 publicatioName  \\\n",
       "0        False         3.5/4       fresh  Deseret News (Salt Lake City)   \n",
       "1        False           1/5      rotten                  Dread Central   \n",
       "2        False           NaN       fresh                            CBR   \n",
       "3        False         2.5/5      rotten                    Japan Times   \n",
       "4        False           NaN       fresh                          DCist   \n",
       "5        False           4/5       fresh                   Lawrence.com   \n",
       "6        False          7/10       fresh            We Got This Covered   \n",
       "7         True         0.5/4      rotten                   Boston Globe   \n",
       "8        False          3/10      rotten                Under the Radar   \n",
       "9         True           0/4      rotten                  Seattle Times   \n",
       "\n",
       "                                          reviewText scoreSentiment  \\\n",
       "0  Timed to be just long enough for most youngste...       POSITIVE   \n",
       "1  It doesn't matter if a movie costs 300 million...       NEGATIVE   \n",
       "2  The choreography is so precise and lifelike at...       POSITIVE   \n",
       "3  The film's out-of-touch attempts at humor may ...       NEGATIVE   \n",
       "4  Its clumsy determination is endearing and some...       POSITIVE   \n",
       "5  With every new minute, there's another head-sc...       POSITIVE   \n",
       "6  Emotionless reaction shots, zero characterizat...       POSITIVE   \n",
       "7  Conceivably, it could serve as a primer for st...       NEGATIVE   \n",
       "8  If you're not a fan of garbage cinema, even fo...       NEGATIVE   \n",
       "9  \"Dangerous Men,\" the picture's production note...       NEGATIVE   \n",
       "\n",
       "                                           reviewUrl  \n",
       "0  http://www.deseretnews.com/article/700003233/B...  \n",
       "1  http://www.dreadcentral.com/index.php?name=Rev...  \n",
       "2  https://www.cbr.com/city-hunter-shinjuku-priva...  \n",
       "3  https://www.japantimes.co.jp/culture/2019/02/0...  \n",
       "4  http://dcist.com/2015/11/out_of_frame_dangerou...  \n",
       "5  http://www.lawrence.com/weblogs/scenestealers/...  \n",
       "6  http://wegotthiscovered.com/movies/dangerous-m...  \n",
       "7  http://www.bostonglobe.com/arts/movies/2015/11...  \n",
       "8  http://www.undertheradarmag.com/reviews/danger...  \n",
       "9  http://www.seattletimes.com/entertainment/movi...  "
      ]
     },
     "execution_count": 15,
     "metadata": {},
     "output_type": "execute_result"
    }
   ],
   "source": [
    "print(review_df.shape)\n",
    "review_df.head(10)"
   ]
  },
  {
   "cell_type": "code",
   "execution_count": null,
   "metadata": {
    "colab": {
     "base_uri": "https://localhost:8080/"
    },
    "id": "EX8Q5Agg3DfC",
    "outputId": "08177efa-89f1-41da-ccf5-d3bd9dd38864"
   },
   "outputs": [
    {
     "name": "stdout",
     "output_type": "stream",
     "text": [
      "(1444963, 11)\n"
     ]
    }
   ],
   "source": [
    "# removing duplicates\n",
    "\n",
    "review_df.drop_duplicates(keep='first')\n",
    "print(review_df.shape)"
   ]
  },
  {
   "cell_type": "code",
   "execution_count": null,
   "metadata": {
    "colab": {
     "base_uri": "https://localhost:8080/"
    },
    "id": "8krCFEz0uTt0",
    "outputId": "631d8e10-3b0a-459e-b589-520da3d4a436"
   },
   "outputs": [
    {
     "name": "stdout",
     "output_type": "stream",
     "text": [
      "[2513610, 1294813, 1295579, 1296169, 1305154, 1311421, 1312265, 1318397, 1318865, 1321185, 1324572, 1343974, 1641075, 1813222, 1813238, 1813239, 1813245, 1813259, 1813260, 1813302, 1813381, 1295055, 1293527, 1285244, 1293525, 1285976, 1285977, 1286033, 1286404, 1286407, 1286976, 1286977, 1287800, 1287853, 1287914, 1288079, 1288507, 1288508, 1288940, 1289189, 1289632, 1290149, 1290376, 1292242, 1813393, 1813414, 1813452, 1813460, 1813724, 1813734, 1813753, 1813766, 1813853, 1813910, 1814032, 1814033, 1814037, 1814050, 1814051, 1814076, 1814178, 1814230, 1814234, 1814287, 1814318, 1814371, 1815334, 1813716, 1813713, 1813710, 1813687, 1813467, 1813472, 1813479, 1813582, 1813642, 1813665, 1813666, 1813676, 1813688, 1813708, 1813695, 1813696, 1813700, 1813701, 1813703, 1813704, 1813706, 1813707, 1285911, 1285204, 1818163, 2820468, 2822069, 2824987, 2826134, 2834090, 2834713, 2842902, 2844151, 2844576, 2847646, 2850803, 102690302, 102719594, 102735819, 2667773, 2667849, 2667876, 2667880, 2667891, 2668371, 2820639, 2820223, 1285203, 2819655, 2816160, 2816162, 2816342, 2816509, 2816625, 2816631, 2816703, 2816806, 2816816, 2816996, 2817464, 2817881, 2817953, 2818251, 2818292, 2819121, 2819411, 2819478, 2819543, 2668391, 2703945, 2704763, 781653, 1282689, 1282690, 1282691, 1282692, 1282695, 1282699, 1282718, 1283509, 1283867, 1284072, 1284264, 1284323, 1284763, 1284868, 1284870, 1284871, 1284873, 1284877, 1285202, 1282688, 1282667, 1282660, 1277755, 835959, 1121562, 1446003, 1225151, 1225152, 1267274, 1275486, 1277294, 1279617, 1282606, 1279895, 1280808, 1281930, 1282408, 1282534, 1282543, 1282579, 1282598, 1815960, 1819797, 2711521, 2502938, 2819250, 225361, 253862, 783053, 805797, 1190288, 1201465, 1244221, 1268894, 1454123, 1552739, 1975708, 2371168, 102687516, 102697539, 2087015, 2671498, 2674281, 1815984, 2626247, 2425285, 2279740, 2425284, 2301834, 2310114, 2312068, 2350457, 2373279, 2420807, 2425975, 2532633, 2585691, 2668937, 102654130, 2340190, 2360731, 2360820, 2361348, 2361351, 2361664, 2364317, 2369178, 1815989, 1406172, 1408266, 1445957, 2854911, 2854938, 2855176, 2855225, 2855230, 2855350, 2855805, 2855856, 2855853, 2855917, 2856014, 2856565, 2856712, 2856813, 102651278, 102651433, 102651594, 102653293, 102653369, 2854907, 2854850, 2854836, 2854438, 1621314, 1708881, 2854350, 2854353, 2854355, 2854426, 2854424, 2854425, 2854450, 2854788, 2854455, 2854461, 2854464, 2854508, 2854541, 2854544, 2854586, 2854670, 2284462, 2279300, 1824378, 2222661, 2227921, 2259835, 2260120, 2260225, 2260252, 2260434, 2260579, 2260872, 2260880, 2260882, 2260894, 2260901, 2260980, 2260982, 2261060, 2261233, 2262923, 2263598, 2268319, 2222822, 2222636, 2271653, 2222585, 1841860, 1843887, 1844138, 1850223, 1854338, 1854515, 1861228, 1971589, 2025810, 2146954, 2480279, 2746168, 102734902, 2719488, 2221399, 2221416, 2221418, 2221839, 2222549, 2268475, 2268476, 2268477, 2268478, 2269173, 2269187, 2269248, 2269259, 2269272, 2269295, 2269347, 2269422, 2269427, 2269490, 2269582, 2269682, 2269695, 2270122, 2270158, 2270784, 2271224, 2271293, 2271316, 2269147, 2269093, 2269071, 2268841, 2268531, 2268540, 2268588, 2268591, 2268608, 2268671, 2268714, 2268746, 2268847, 2269063, 2268913, 2268917, 2268923, 2268959, 2269004, 2269022, 2269049, 2269054, 2816136, 2816133, 2816120, 102779399, 102779410, 102779424, 102779478, 102779612, 102779665, 102779690, 102779716, 102779739, 102779883, 102780070, 102780073, 102780136, 102780137, 102780143, 102780182, 102780313, 102780434, 102780475, 102780756, 102779400, 102779349, 102778754, 102779342, 102778775, 102778867, 102778897, 102778904, 102778915, 102778948, 102778961, 102779004, 102779040, 102779049, 102779077, 102779082, 102779116, 102779202, 102779219, 102779239, 102779245, 102779293, 102779337, 102780868, 102781245, 102781566, 102782004, 2850811, 2850822, 2850827, 2850833, 2850870, 2850903, 2851090, 2851103, 2851107, 2851141, 2851483, 2851484, 2851499, 2851823, 2852089, 2852122, 2852205, 2852344, 2852703, 2850643, 2850196, 2849776, 102785832, 102782416, 102782723, 102782816, 102783039, 102783424, 102783885, 102784707, 102784708, 2539443, 2849716, 2832065, 2832497, 2833021, 2847878, 2849205, 2849340, 2849341, 2849694, 102778762, 102778742, 2816119, 1620403, 1620423, 1620430, 1620651, 1621048, 1621073, 1621121, 1632060, 1634134, 1635443, 1637504, 1639274, 1651592, 1651997, 1655680, 1656379, 1656385, 1656389, 1664895, 1711142, 1620422, 1620286, 102778735, 1620203, 2313974, 2313975, 2314010, 2314082, 2314262, 2336576, 2340510, 2342573, 2370803, 2382615, 2408384, 1491833, 1614052, 1617012, 1619205, 1619593, 1619604, 1619617, 1619755, 1830195, 102778335, 102778336, 102778341, 102778556, 102778567, 102778574, 102778580, 102778591, 102778605, 102778613, 102778626, 102778627, 102778646, 102778650, 102778659, 102778670, 102778674, 102778684, 102778687, 102778711, 102778713, 102778734, 102778555, 102778524, 102778516, 102778427, 102778348, 102778390, 102778405, 102778407, 102778409, 102778416, 102778422, 102778423, 102778459, 102778508, 102778466, 102778475, 102778486, 102778493, 102778494, 102778495, 102778496, 102778497, 2853012, 2853023, 102636123, 2815470, 2815500, 2815507, 2815509, 2815511, 2815513, 2815517, 2815518, 2815530, 2815535, 2815540, 2815541, 2815542, 2815543, 2815544, 2815546, 2815557, 2815570, 2815575, 2815586, 2815495, 2815460, 2853186, 2815456, 1399611, 1425086, 1431630, 1444263, 1717432, 1717434, 1717435, 1717437, 1717438, 1717439, 2008364, 2686558, 2720892, 2150613, 2815259, 2815434, 2815429, 2815435, 2815451, 2815588, 2815589, 2815594, 2815595, 2815790, 2815798, 2815799, 2815806, 2815845, 2815851, 2815857, 2815875, 2815882, 2815894, 2815901, 2815917, 2815948, 2815946, 2815959, 2815982, 2816001, 2816053, 2816065, 2815756, 2815746, 2815745, 2815634, 2815591, 2815590, 2815596, 2815592, 2815602, 2815598, 2815600, 2815599, 2815642, 2815733, 2815653, 2815657, 2815662, 2815680, 2815685, 2815697, 2815700, 2815717, 1386687, 1378250, 1361573, 102699427, 2855050, 2855474, 2855504, 2855541, 2855651, 2855863, 2855881, 2856212, 2856276, 2856644, 2856685, 2856806, 102651267, 102651962, 102652792, 102652993, 102658610, 102663930, 102681284, 2855018, 2854932, 2854488, 2853547, 2853192, 2853226, 2853230, 2853299, 2853325, 2853417, 2853425, 2853423, 2853575, 2854471, 2853660, 2853654, 2853661, 2853666, 2853832, 2854127, 2854382, 2854427, 102697668, 102700576, 1333259, 102712236, 91996, 776716, 776714, 91982, 92004, 92021, 92010, 91962, 187297, 303624, 731348, 797527, 809739, 823749, 833991, 1140244, 1143971, 1228468, 1254360, 91985, 91988, 92013, 2112038, 102734901, 102748606, 102766512, 2111468, 2111494, 2111620, 2111822, 2111953, 91995, 92018, 91959, 776711, 92009, 205680, 92022, 91961, 92026, 92024, 102660552, 102667874, 102668764, 1918507, 1921736, 1921789, 1921916, 1921968, 1921976, 1922058, 1922061, 1922313, 1922351, 1922359, 1922528, 1922985, 1923000, 1923029, 1930819, 1933025, 1950566, 1951236, 2489757, 1921508, 1887491, 1284601, 2841180, 1284852, 1287508, 1287708, 1287909, 1287979, 1288394, 1288492, 1288493, 1288494, 1289859, 1290106, 1290557, 1292425, 1294563, 2698067, 2658917, 2664588, 2664876, 1498703, 2594953, 1297326, 1297327, 1297333, 1706920, 1707173, 2256332, 2256333, 2256335, 2256339, 2256341, 2256343, 2276998, 2398060, 1640762, 1642041, 2784961, 2200111, 2200112, 2265288, 2265342, 2265411, 2265535, 2150353, 2066046, 1351075, 1300356, 1297505, 1297588, 1298311, 1298324, 1299919, 1299958, 1300007, 1300256, 1300358, 1332206, 1300359, 1301273, 1301297, 1301676, 1302122, 1302739, 1304914, 1313977, 1284764, 1284388, 2796235, 2486632, 2486899, 2641236, 2644493, 2645980, 2645998, 2709043, 2709951, 2710562, 2711010, 2713312, 2816741, 1281584, 2394006, 777665, 260169, 263417, 268245, 782936, 805153, 2486876, 2485455, 1284387, 2691122, 2833489, 2833772, 2834054, 2834477, 102660453, 102680704, 102680915, 102701987, 102756593, 2357824, 2524401, 2166622, 2044706, 2680728, 2685926, 2687759, 2688682, 2688919, 2688990, 1185972, 1865662, 1869200, 1871356, 2434501, 2504814, 2590687, 2621747, 2631240, 2684064, 2765149, 2690508, 2744978, 2539960, 2404822, 2404871, 2407237, 2409975, 2637474, 2638680, 1284110, 1284120, 1284336, 2430774, 2425591, 2411816, 2612053, 1874279, 1874290, 1875934, 1877063, 1880261, 1929075, 1947132, 1964231, 2820984, 2410460, 2670487, 2400391, 2400994, 2405137, 2405263, 2405417, 2406130, 2407315, 2265690, 2265707, 2265755, 2365313, 2240098, 1560861, 1566140, 2011256, 2011847, 2017803, 1524727, 1534801, 2736504, 1615480, 1616289, 1616431, 1616681, 1665739, 1705520, 1723075, 1728340, 1728722, 1734024, 2233001, 2363749, 2265803, 2363165, 2448745, 2544621, 2600872, 2735761, 2751851, 2165216, 2169697, 2173013, 2173165, 2173632, 2173716, 2174713, 2177811, 2263962, 2265123, 2409805, 2434058, 2703159, 2728024, 1755520, 1755973, 1760965, 1822570, 102660727, 102656787, 2843303, 2820537, 2820142, 2810426, 2809767, 2801457, 2800898, 2768959, 2762860, 2755044, 2752771, 2751784, 2749176, 2739365, 2728580, 2725459, 2715296, 102699925, 102710626, 102721928, 2131039, 1822673, 1825273, 2494002, 2439205, 2439376, 2439487, 2439672, 2439807, 2196629, 102723468, 2265017, 2350026, 2802401, 102793393, 102784197, 102759162, 102752048, 102745069, 2282723, 2257466, 2005288, 240451, 1345799, 1498848, 1686877, 1686878, 1686879, 1686880, 1714411, 1716241, 1722594, 1723339, 1723784, 2485116, 2617831, 2631020, 2668282, 2721203, 2769952, 102770229, 200638, 1331174, 1190170, 1189049, 102762586, 2265914, 2266245, 2266707, 2266774, 2266775, 2269310, 2277777, 2301062, 280825, 1141028, 280820, 1240070, 1423494, 2008197, 2120582, 295016, 745150, 747809, 236644, 1415106, 1808051, 2758710, 2612185, 2632348, 1429595, 102768666, 815766, 1745341, 1836939, 1846996, 2768373, 2029698, 2456539, 1138187, 1138621, 1231986, 1398995, 1399501, 1418167, 1418709, 1492919, 2552581, 2458789, 2441089, 2424146, 2773996, 2349394, 2349395, 2357896, 2380023, 2424063, 2424062, 2424107, 2424222, 2436765, 2424695, 2425414, 2426483, 2436375, 2436400, 2436503, 2436508, 2436624, 2800721, 2795927, 102668768, 2581219, 2583624, 2583673, 2587427, 2589370, 2591017, 2591699, 2591735, 2592132, 2594440, 2595996, 196110, 218934, 251151, 1424399, 1703347, 1421601, 1514105, 1988703, 102729934, 2582093, 2570130, 2749869, 2569705, 2750535, 2750747, 2750990, 2751838, 2752890, 2755244, 2774659, 2795769, 29546, 29552, 769544, 742669, 757036, 1224873, 1264394, 1426203, 2441096, 102768086, 2801150, 102732092, 2423561, 2426218, 2434092, 253794, 253793, 805175, 1210424, 1279974, 1409177, 1452491, 1564258, 2009246, 2288164, 2288561, 2289215, 2289379, 2289628, 2290570, 2441395, 2443181, 2187898, 2188187, 33640, 2186448, 2148992, 2418885, 1429468, 1497119, 1501842, 1553477, 1660297, 2109165, 2788127, 2055756, 2642838, 2148949, 2129890, 2130199, 2130302, 2130598, 2130774, 2131844, 2135616, 2137474, 2750526, 2749748, 2776911, 102674283, 102696735, 102704104, 102719128, 102726355, 747011, 745914, 748559, 1172456, 1375303, 1417306, 1535744, 2686989, 2718487, 2282787, 2283508, 2283985, 2284986, 2285205, 2346316, 102681014, 102672849, 2749431, 102672438, 102668784, 102668952, 102668991, 102669218, 102669236, 102669237, 102669289, 102669329, 102669379, 102669491, 102669502, 102669513, 102669582, 102669642, 102669875, 102669972, 102669973, 102670299, 102670903, 2346415, 2354956, 2355094, 2355362, 2816067, 2838010, 102653373, 102660111, 102660461, 102663644, 102663862, 102665041, 102667962, 102756587, 2705396, 2705401, 2705492, 2705602, 2706209, 2706220, 2706439, 2709472, 2718177, 2772412, 2766944, 2766122, 2761977, 2355721, 2761334, 2761341, 2761344, 2761346, 2761570, 2761721, 2761750, 2762330, 2765013, 2762550, 2762638, 2762782, 2763155, 2763611, 2763906, 2764191, 2764978, 2188226, 2188972, 2313556, 1826581, 1962106, 2412422, 2538373, 2399243, 2393256, 2469011, 2815026, 1855926, 1856937, 1865453, 1877581, 1882693, 1882743, 1882842, 1883088, 1915783, 1915780, 1883277, 1883382, 1839980, 1823645, 201272, 1822411, 1433324, 1512093, 1751068, 1766709, 1811295, 1815427, 1815993, 1818212, 1818835, 1818864, 1818913, 1819227, 1819557, 1819573, 1819645, 1819656, 1819671, 1819784, 1820935, 1883710, 1883870, 1884175, 1884324, 2267284, 2751076, 2761994, 2761998, 2762000, 2762001, 2762004, 2762025, 2762288, 2762551, 2762992, 2763478, 2764234, 2765486, 2765925, 2766382, 2767153, 2768212, 2769874, 2161053, 2153089, 1973624, 1889538, 1887164, 1887421, 1889028, 1889062, 1889104, 1889145, 1889315, 1889326, 1889679, 1968038, 1889714, 1889716, 1890447, 1890466, 1918275, 1918798, 1929105, 1929465, 747579, 2771897, 2582868, 1749628, 1749258, 1749371, 1749378, 1749387, 1749451, 1749455, 1749482, 1749491, 1749507, 1749588, 1749614, 1749615, 1749617, 1749618, 1749619, 1749620, 1749622, 1749624, 1749625, 1749220, 1749204, 1749194, 1748396, 294201, 1569980, 2578549, 1780811, 1788791, 1747806, 1748302, 1748311, 1748458, 1749188, 1748469, 1748745, 1748801, 1748940, 1748951, 1748965, 1749137, 1749140, 1749626, 1749629, 2469998, 1749630, 1760297, 1762380, 1764653, 1764654, 1764655, 1764656, 1764659, 1764663, 1764658, 1764661, 1780541, 1795980, 2006371, 2007991, 2025092, 2411470, 2465757, 2497931, 2643637, 1760293, 1760286, 1760267, 1750557, 1749631, 1749633, 1749636, 1749690, 1749708, 1750025, 1750129, 1750404, 1751062, 1760242, 1757492, 1758853, 1760088, 1760111, 1760140, 1760195, 1760213, 1760222, 2313973, 2313674, 2313672, 102779644, 102779634, 102779630, 102779629, 102779627, 102779616, 102779614, 102779613, 102779609, 102779607, 102779605, 102779604, 102779601, 102779600, 102779599, 102779597, 102779596, 102779594, 102779591, 102779585, 102779639, 102779650, 102779761, 102779654, 102779747, 102779743, 102779738, 102779734, 102779729, 102779717, 102779715, 102779714, 102779701, 102779694, 102779686, 102779683, 102779671, 102779668, 102779667, 102779664, 102779661, 102779659, 102779658, 102779584, 102779581, 102779568, 102779563, 102779533, 102779531, 102779529, 102779528, 102779526, 102779524, 102779523, 102779522, 102779521, 102779519, 102779518, 102779517, 102779516, 102779515, 102779514, 102779512, 102779511, 102779510, 102779509, 102779534, 102779536, 102779538, 102779550, 102779562, 102779560, 102779558, 102779557, 102779555, 102779553, 102779552, 102779551, 102779549, 102779539, 102779548, 102779547, 102779546, 102779545, 102779544, 102779543, 102779542, 102779541, 102779759, 102779763, 102780563, 102780377, 102780374, 102780365, 102780362, 102780336, 102780332, 102780324, 102780323, 102780320, 102780317, 102780316, 102780299, 102780287, 102780271, 102780270, 102780269, 102780259, 102780257, 102780218, 102780215, 102780376, 102780382, 102709530, 102780385, 102780545, 102780543, 102780536, 102780524, 102780522, 102780513, 102780494, 102780492, 102780491, 102780483, 102780480, 102780469, 102780464, 102780424, 102780416, 102780414, 102780403, 102780397, 102780388, 102780214, 102780212, 102780210, 102780165, 102779951, 102779946, 102779938, 102779889, 102779876, 102779875, 102779874, 102779864, 102779861, 102779857, 102779856, 102779855, 102779841, 102779828, 102779826, 102779825, 102779809, 102779780, 102779767, 102779962, 102779968, 102779975, 102780058, 102780160, 102780154, 102780120, 102780099, 102780086, 102780067, 102780066, 102780063, 102780055, 102779984, 102780049, 102780043, 102780041, 102780028, 102780022, 102780006, 102780001, 102779986, 102779508, 102779507, 102779506, 2436992, 2626180, 2700536, 2852579, 2593668, 774355, 2441603, 1473339, 1476563, 1478098, 2437362, 746379, 822575, 825030, 825031, 825192, 825380, 825515, 825552, 825577, 2607124, 2260694, 102779505, 2260641, 2211403, 2211769, 2211776, 2212445, 2223637, 2258660, 2258707, 2258817, 2258818, 2258819, 2258820, 2258954, 2259058, 2259137, 2259219, 2259275, 2259436, 2259522, 2260159, 825658, 825669, 825815, 825878, 827873, 827874, 827967, 827969, 827996, 828004, 828007, 828008, 828011, 828013, 828015, 828023, 828034, 828051, 828054, 828063, 828067, 828068, 828089, 827869, 827858, 827854, 826286, 826111, 826129, 826239, 826241, 826244, 826247, 826258, 826263, 826288, 827842, 826294, 826325, 827717, 827712, 827716, 827798, 827824, 827839, 2195089, 2185223, 2850467, 2540791, 102779482, 102779481, 102779463, 2476514, 2476703, 2476777, 2476867, 2476879, 2477234, 2477236, 2477249, 2494043, 2507440, 2507521, 2507557, 2526848, 2536003, 2536036, 2536871, 102779483, 102779484, 102779485, 102779496, 102779504, 102779503, 102779502, 102779501, 102779500, 102779499, 102779498, 102779497, 102779495, 102779486, 102779494, 102779493, 102779492, 102779491, 102779490, 102779489, 102779488, 102779487, 2540301, 2540944, 2848016, 2542286, 259718, 260079, 260086, 264607, 276513, 804694, 848572, 1403605, 102699265, 102699342, 102699852, 102701655, 102701862, 102703981, 102705330, 102706704, 102710879, 102796110, 844494, 259667, 259666, 259665, 253213, 2542524, 2592854, 2099199, 2593747, 236020, 237051, 242053, 250686, 258256, 259638, 258405, 258840, 259234, 259292, 259299, 259302, 259348, 259598, 102780559, 102780580, 828094, 2816965, 2816998, 2817002, 102689917, 102697506, 2377586, 2387004, 2472374, 2472376, 2472378, 102791758, 102790153, 102789858, 102789361, 102788394, 102788020, 102787712, 102786405, 102785978, 102785260, 2816969, 2816968, 2816852, 2816962, 2816854, 2816857, 2816855, 2816856, 2816859, 2816860, 2816861, 2816862, 2816863, 2816865, 2816866, 2816864, 2816867, 2816868, 2816957, 2816951, 2816949, 2816954, 2816960, 102785098, 102785007, 102784591, 102784556, 102782650, 102782485, 102782426, 102782396, 102782395, 102782376, 102782371, 102782201, 102782182, 102782149, 102782148, 102782144, 102782142, 102782138, 102782018, 102782006, 102781998, 102781954, 102781906, 102782734, 102782748, 102782754, 102783432, 102784444, 102784391, 102784175, 102783991, 102783989, 102783620, 102783582, 102783581, 102783393, 102782769, 102783315, 102783208, 102783087, 102783049, 102783023, 102782987, 102782908, 102782779, 2816853, 2816849, 102780587, 2394975, 2396306, 2396509, 2397116, 2397160, 2397317, 2397318, 2397320, 2397321, 2397322, 2397346, 2397484, 2397534, 2398827, 2402763, 2405607, 2408706, 2410598, 2410616, 2429859, 2395055, 2391393, 2816848, 2391274, 2350047, 2351381, 2351867, 2353952, 2371007, 2378948, 2378971, 2379790, 2389492, 2389609, 2389770, 2390060, 2390180, 2390496, 2390514, 2390794, 2391040, 2391042, 2391048, 2499164, 2554371, 2626262, 2728581, 2435694, 2441401, 2457707, 2590227, 2667461, 2696564, 2814606, 2816829, 2816831, 2816830, 2816834, 2816835, 2816833, 2816838, 2816840, 2816836, 2816842, 2816844, 2816845, 2060540, 1994348, 1528903, 41785, 2731560, 2819233, 102692002, 1893757, 41783, 41789, 41784, 764506, 764505, 1515273, 41794, 277578, 303720, 319654, 761388, 1140998, 1140999, 1171169, 102781867, 102781847, 102781836, 1716104, 1765174, 1765173, 1790493, 2025380, 2069951, 2110463, 2111615, 2111718, 2111736, 2112294, 2112369, 2455267, 2776632, 123191, 1277720, 1415701, 1509593, 1724914, 2471823, 1765172, 1713737, 102781828, 102780821, 102780937, 102780922, 102780921, 102780917, 102780916, 102780910, 102780896, 102780894, 102780888, 102780887, 102780877, 102780874, 102780869, 102780863, 102780859, 102780845, 102780844, 102780837, 102780823, 846115, 1880336, 1940019, 2558455, 102780694, 102780692, 102780688, 102780669, 102780668, 102780655, 102780651, 102780650, 102780649, 102780644, 102780643, 102780642, 102780641, 102780634, 102780632, 102780627, 102780625, 102780619, 102780607, 102780699, 102780703, 102780704, 102780758, 102780816, 102780814, 102780812, 102780792, 102780770, 102780769, 102780766, 102780764, 102780748, 102780705, 102780747, 102780744, 102780725, 102780722, 102780721, 102780718, 102780717, 102780707, 102780946, 102773940, 102769874, 102780994, 102781241, 102781215, 102781194, 102781175, 102781164, 102781125, 102781096, 102781076, 102781074, 102781069, 102781058, 102781057, 102781055, 102781051, 102781044, 102781038, 102781025, 102781019, 102781005, 102781244, 102781262, 102781269, 102781460, 102781800, 102781777, 102781658, 102781611, 102781587, 102781569, 102781537, 102781469, 102781420, 102781271, 102781411, 102781374, 102781359, 102781334, 102781313, 102781297, 102781292, 102781291, 102781001, 102780989, 102769873, 102780986, 1284122, 1284360, 1284395, 1284850, 1284853, 1285176, 1285248, 1286957, 1452549, 102665296, 102665820, 102670972, 121767, 121766, 763566, 783728, 1401029, 102769494, 102769872, 1283892, 102780948, 1668173, 2353037, 102780969, 102780963, 102780956, 2346562, 2346631, 2347155, 2347857, 2348526, 2365056, 102769864, 2369335, 2407358, 2411850, 2437256, 2605241, 2608826, 2716831, 102698565, 828093, 828095, 2685372, 2375185, 203087, 160901, 160905, 160898, 160903, 160889, 160883, 301509, 816838, 1159483, 1190230, 1232009, 1400683, 1930010, 2283310, 2288529, 2289063, 2289144, 2289150, 2375264, 2337622, 832996, 2325787, 1249575, 1288554, 1331091, 1349034, 1361719, 1440513, 1655633, 1975700, 2605276, 2784530, 2297762, 2298327, 2299797, 102683854, 102708404, 2495061, 2495477, 2496072, 2325761, 2289223, 2289234, 2289697, 2304007, 2751219, 2845275, 2845296, 2845818, 2846315, 2847499, 2585537, 2585610, 2585969, 2659346, 2661155, 2661796, 2662111, 2662299, 2662579, 2662580, 1407316, 2306447, 2308812, 1357974, 1312479, 2245437, 1715912, 2328939, 2420142, 2527061, 2575120, 2632143, 2684458, 2787347, 1518552, 1772266, 2245436, 1772267, 1772265, 1772269, 1772268, 1792826, 2245431, 2245434, 2245435, 1234475, 809504, 2066914, 1949532, 2843079, 2844267, 102662066, 102763530, 2225583, 2225627, 2225669, 2225779, 2225932, 2226054, 2226082, 2226094, 2226120, 2226123, 2226160, 2226243, 2226280, 2226292, 2226295, 2657137, 1787519, 747501, 1196422, 2471724, 2612412, 2651771, 102703163, 1331289, 1418268, 1775826, 2707167, 2707170, 2707173, 2707174, 2707175, 2707177, 2707178, 2707163, 2707176, 2707276, 2829431, 2519247, 2226405, 2226616, 2235672, 2235872, 2797495, 2797515, 2797513, 2797529, 2797612, 2797625, 2797722, 2797781, 2797928, 2798255, 2798297, 2799008, 2799199, 2802159, 2808192, 2808782, 2856702, 2832327, 291229, 2797414, 2797399, 2797368, 2796747, 2259294, 2653791, 1214795, 1225786, 1710324, 1997464, 2593727, 102659241, 2797279, 2797359, 2797319, 2797336, 2797348, 2797347, 2797354, 2797353, 2797356, 2797358, 2311565, 2314020, 2314386, 102739849, 1297321, 1391582, 1424097, 1477400, 2255689, 768326, 768327, 196014, 196016, 196025, 196026, 196028, 196029, 196030, 196031, 196032, 196033, 196034, 196035, 102741806, 102732763, 2659023, 102729021, 2654136, 2708123, 2718530, 2741089, 1960935, 2347284, 2401365, 1477852, 1495745, 1612268, 221926, 2516191, 2516464, 2521920, 2533714, 2547407, 102728869, 102728870, 102729000, 196103, 196214, 196218, 196225, 209288, 216331, 217682, 218723, 230631, 237145, 247060, 252176, 252246, 254239, 295571, 800692, 821134, 824657, 840387, 846399, 1182870, 1542883, 1948666, 208716, 201056, 199604, 196326, 196230, 196235, 196317, 196318, 196320, 196321, 196322, 196325, 196327, 199239, 196329, 196330, 196331, 196332, 196333, 196396, 198950, 198976, 2631706, 2571201, 2571199, 2153350, 2681413, 2704533, 2745771, 102676554, 102720988, 2707557, 1409319, 2377172, 2462665, 2463192, 1332957, 1576401, 1576402, 1576410, 1576553, 2801631, 2801697, 2801721, 2801725, 2681359, 2675136, 2669955, 2661947, 2661372, 2661406, 2661410, 2661411, 2661428, 2661585, 2661636, 2661875, 2662028, 2669952, 2662031, 2662265, 2662360, 2662457, 2662582, 2662596, 2663445, 2663971, 102717653, 2520832, 2571200, 2538799, 1275507, 1286302, 1316874, 1331794, 1389435, 1407937, 1426762, 1477891, 1481212, 1491502, 1524815, 1656926, 1797997, 1889912, 2350278, 2468497, 2571194, 2571197, 2571198, 1269826, 1255109, 1185823, 2291178, 2622838, 2627084, 2630052, 2630051, 2633913, 2674104, 2291176, 2291177, 2291263, 835705, 2291264, 2291265, 2291271, 2745959, 2256907, 21813, 194093, 211571, 2471723, 2052051, 828097, 848434, 1268197, 2455560, 851227, 1119325, 1125303, 1144065, 2419835, 25975, 25978, 266743, 745318, 747800, 1134500, 1170761, 1246866, 1317690, 1417954, 1489822, 2008993, 849337, 845501, 832515, 841801, 832590, 832707, 833037, 833431, 833476, 833489, 833923, 833924, 833927, 834844, 835614, 835636, 836760, 836803, 838213, 838376, 840782, 840994, 841706, 2447501, 2470051, 102759269, 1161673, 2768343, 2783935, 102748790, 102796080, 1429802, 1895134, 1469454, 1469466, 1469468, 1469481, 1469532, 1469544, 1469547, 1469554, 1469560, 1469568, 1469601, 1469693, 1469695, 2729935, 2702211, 2643135, 1353415, 1166704, 1174460, 1204589, 1231799, 1291633, 1304652, 1312209, 1326255, 1517684, 2620890, 2131161, 1674534, 1794111, 1817458, 1948009, 2116571, 2303299, 2545587, 832516, 832232, 2051327, 828252, 828259, 828263, 828267, 828272, 828276, 828279, 828280, 828281, 828288, 828289, 828310, 828316, 828358, 828363, 828381, 828424, 828452, 828461, 828469, 828255, 828250, 832133, 828247, 828101, 828103, 828104, 828105, 828214, 828211, 828210, 828217, 828223, 828226, 828227, 828228, 828229, 828232, 828233, 828236, 828239, 828243, 828245, 828507, 828602, 828606, 828609, 829711, 829747, 829866, 829867, 829960, 830042, 830068, 830452, 830449, 830450, 830833, 830827, 830867, 831201, 831714, 831805, 831816, 831896, 832017, 829709, 829704, 829672, 828834, 828613, 828615, 828611, 828610, 828616, 828623, 828641, 828647, 829200, 829565, 829202, 829204, 829238, 829283, 829507, 829519, 829558, 829564, 1469914, 1469934, 1469947, 2297658, 2304881, 2306644, 2306646, 2309836, 2330573, 2360000, 2372044, 2412064, 2212688, 2212796, 2213281, 2213378, 2213473, 2213474, 2213481, 2213510, 2213573, 2213765, 2213978, 2297812, 2297601, 1469971, 2297572, 1492477, 1492481, 1494166, 1494438, 1657767, 1713956, 2451923, 1430683, 2230383, 2737772, 2402978, 2333705, 2228000, 2230733, 2248898, 2295546, 2296864, 2296957, 2297345, 2227703, 2262671, 2336436, 2130083, 2015930, 2016142, 2016151, 2016233, 2016672, 2018831, 2018924, 2019319, 2020694, 2021012, 2024713, 2025204, 2029681, 2031412, 2031675, 2045753, 2045754, 2045755, 2045756, 2015696, 2015603, 2015567, 2015131, 2770188, 1976024, 1977363, 2004160, 2005857, 2007857, 2009665, 2014850, 2015165, 2015566, 2015209, 2015304, 2015333, 2015561, 2015562, 2015563, 2015564, 2015565, 1492474, 1492473, 1492472, 1257542, 1478216, 1503181, 1508400, 1523418, 1559757, 1605237, 1655178, 1703045, 2378672, 2577801, 1664665, 2118521, 2138134, 2138384, 1688031, 1856016, 1856380, 1856466, 1856481, 1472469, 1471941, 1471701, 1470347, 1469998, 1470086, 1470103, 1470139, 1470305, 1470338, 1470341, 1470343, 1470351, 1471673, 1470374, 1470462, 1470637, 1470647, 1470677, 1470703, 1471188, 1471241, 2577840, 2178195, 1458633, 2178211, 1725598, 1725851, 1731567, 1731702, 1731703, 2027186, 2687135, 2695008, 2695009, 2695010, 2695011, 2695012, 2695136, 2286799, 102701837, 102719206, 1450651, 1458635, 1458634, 1725595, 1725580, 1725481, 2178946, 2178215, 2178216, 2178219, 2178229, 2178232, 2178234, 2178237, 2178239, 2178948, 1724939, 2178951, 2178954, 2179637, 2233031, 2414718, 1423770, 2254061, 2540346, 2712107, 2709412, 2405245, 1987935, 1988509, 1988575, 1988609, 1988836, 1988914, 1990548, 1990906, 1991641, 1993088, 1996886, 1997553, 2002185, 2011500, 2013973, 2017581, 2020268, 2027296, 2090044, 2096304, 1988195, 1987892, 1984234, 1987451, 1984361, 1984391, 1984563, 1985290, 1985307, 1985370, 1985486, 1985686, 1985733, 1985865, 1985915, 1985934, 1985973, 1985986, 1986862, 1986950, 1987045, 1987064, 1987326, 2130177, 2160730, 2164380, 2174116, 2259471, 2260532, 2263181, 2263703, 2264478, 2264561, 2265301, 2267987, 2268342, 2317259, 2409951, 2419743, 2497562, 2735692, 2129504, 2130075, 2130172, 2130212, 2130213, 2259434, 2259371, 2259147, 102656684, 2259909, 2329013, 2410703, 2546644, 2646403, 2661586, 2763456, 2771167, 102716856, 2258950, 102723250, 102785080, 2258182, 2258657, 2258843, 2258844, 2258845, 2258897, 1984358, 1983899, 2130581, 1932723, 1937802, 1950939, 1955654, 1962622, 1962873, 1966250, 1967782, 1969022, 1969131, 1975027, 1975105, 1975118, 1975134, 1975310, 1975505, 1975541, 1975590, 1975598, 1975599, 1934745, 1931019, 1983887, 1930642, 1495798, 1768473, 1816866, 2097953, 2138950, 2138951, 2138953, 2138957, 2202844, 2454789, 2464029, 2681614, 2706993, 2768274, 102694024, 102748412, 1928959, 1929025, 1930354, 1975608, 1975633, 1975670, 1975734, 1978080, 1978323, 1978340, 1978423, 1978472, 1978586, 1978716, 1978773, 1979102, 1979138, 1979727, 1979876, 1979900, 1982800, 1983467, 1983548, 1983788, 1983833, 1983834, 1977741, 1977463, 1977444, 1976308, 1975766, 1975837, 1975922, 1976003, 1976080, 1976113, 1976157, 1976170, 1976458, 1977380, 1976462, 1976466, 1976510, 1977084, 1977085, 1977130, 1977170, 1977337, 2130491, 2130631, 2709154, 2172878, 2459000, 2552268, 2568036, 2602737, 2735348, 2769593, 102686419, 102727048, 2442171, 2713485, 2448622, 1703692, 1706213, 1715365, 1715686, 1717990, 1718439, 1719799, 1720036, 2309561, 2172877, 1377456, 2172807, 1452997, 1454578, 1492305, 1571519, 1804008, 1874685, 1874686, 1874687, 1874688, 1874689, 1874690, 1874691, 2009161, 2103378, 2172798, 2172803, 2172804, 2172805, 2172806, 1720355, 1720476, 1720543, 1720733, 1722514, 1722642, 1722647, 1722716, 1722747, 1722973, 1722974, 1722976, 1722977, 1722979, 1722981, 1722982, 1722983, 1722984, 1722986, 1723058, 1723067, 1723281, 1724214, 1722487, 1722294, 1722280, 1721400, 1720771, 1720781, 1720793, 1721068, 1721071, 1721101, 1721155, 1721179, 1721543, 1722214, 1721559, 1721582, 1721587, 1721590, 1721593, 1721595, 1721770, 1721928, 1409845, 1356918, 2130651, 166678, 166679, 111792, 111781, 111771, 111726, 166672, 111815, 111733, 111721, 166685, 111817, 111763, 166682, 166680, 111767, 111764, 111752, 166673, 166674, 166681, 111809, 1250961, 2679235, 2130712, 2130722, 2130773, 2130810, 2131065, 2131392, 2131843, 2132471, 2132574, 2133067, 2134633, 2139171, 2139315, 2140096, 2140347, 2140635, 2143074, 2145336, 2155089, 166683, 111774, 111785, 111705, 166675, 111802, 193244, 217958, 290606, 290802, 292680, 296349, 297706, 320806, 729206, 760802, 797058, 809806, 821331, 840446, 1119605, 1142086, 1227247, 769668, 769670, 769675, 111707, 111732, 111725, 111708, 111709, 111714, 111791, 111751, 166686, 111786, 111729, 111712, 111800, 166684, 111728, 111776, 111757, 769667, 111813, 1447497, 1403982, 1385008, 1755234, 1755265, 1755319, 1755337, 1755348, 1755353, 1755393, 1755408, 1755412, 1755447, 1755454, 1755460, 1755465, 1755467, 1755469, 1755470, 1755472, 1755474, 1755476, 1755477, 1755261, 1755165, 1754953, 1755166, 1754961, 1754965, 1754970, 1754975, 1754987, 1754998, 1755007, 1755010, 1755012, 1755021, 1755039, 1755040, 1755049, 1755051, 1755050, 1755056, 1755061, 1755080, 1755111, 1755478, 1755484, 1755488, 1755489, 1755992, 1756066, 1756078, 1756102, 1756127, 1756186, 1756214, 1756374, 1756403, 1756977, 1757418, 1757651, 1758015, 1758382, 1758403, 1758610, 1758627, 1758645, 1758655, 1755966, 1755656, 1755639, 1755518, 1755490, 1755492, 1755493, 1755495, 1755497, 1755499, 1755501, 1755502, 1755519, 1755638, 1755547, 1755586, 1755589, 1755593, 1755598, 1755604, 1755607, 1755620, 1754958, 1754947, 1366953, 2560813, 2576510, 2595359, 2613049, 2649445, 2651000, 2758282, 2770888, 102788114, 213009, 254267, 311972, 752000, 753248, 783734, 784774, 786981, 795333, 804238, 821503, 2561595, 2506983, 1754939, 2504245, 2192738, 2192873, 2192874, 2193915, 2194024, 2194107, 2195136, 2195822, 2196685, 2217134, 2316027, 2409635, 2414482, 2415839, 2416148, 2439070, 2440215, 2453221, 2497622, 1121191, 1142397, 1189004, 1190174, 2704992, 2704989, 2750969, 2771823, 102660043, 1848498, 1910650, 1910648, 1754810, 1754873, 1754879, 1754884, 1754885, 1754888, 1754893, 1754923, 1754925, 1754926, 1754927, 2704991, 2704990, 2680825, 1663361, 1210593, 1250896, 1297472, 1332063, 1440066, 1607779, 1608079, 1608080, 1733771, 2428397, 1879520, 1918391, 1967272, 2005017, 2133769, 2201526, 2201527, 2258682, 1758668, 1758719, 1758731, 1216697, 1216701, 1216703, 1216705, 1216707, 1216847, 1216849, 1217028, 1217569, 1218095, 1218343, 1218452, 1218749, 1219138, 1219353, 1219964, 1221334, 1221500, 1221501, 1221502, 1216699, 1216696, 1758743, 1216695, 1213831, 1214731, 1214873, 1215874, 1216004, 1216008, 1216013, 1216079, 1216089, 1216411, 1216410, 1216412, 1216416, 1216414, 1216413, 1216415, 1216473, 1216693, 1216694, 1221750, 1222127, 1223689, 1223877, 1246598, 1246599, 1248630, 1248629, 1250821, 1251790, 1253839, 1257347, 1261480, 1265150, 1270987, 1272562, 1279407, 1287582, 1294529, 1299255, 1304724, 1304726, 1324044, 1245905, 1245466, 1241509, 1229175, 1224716, 1225639, 1225693, 1225895, 1227180, 1227518, 1228710, 1228746, 1229386, 1241414, 1230873, 1231247, 1232817, 1234460, 1238101, 1238396, 1240658, 1240797, 1213632, 1213537, 1213367, 1194157, 1785245, 1790621, 1792048, 1794123, 1841592, 2027964, 2059735, 2110131, 2382746, 2528157, 2560815, 2744175, 102688491, 1486710, 1801260, 1145054, 1149399, 1156792, 1161361, 1783090, 1780113, 1778647, 1761271, 1758756, 1758779, 1758783, 1758792, 1758804, 1759160, 1759350, 1759398, 1762000, 1772446, 1762249, 1772426, 1772428, 1772434, 1772435, 1772443, 1772445, 1772444, 1192995, 1195633, 1212690, 1198078, 1209849, 1209863, 1209907, 1209917, 1209918, 1209921, 1209941, 1209958, 1210120, 1210123, 1210122, 1210157, 1210214, 1210283, 1210552, 1210876, 1212425, 1212521, 1212562, 1209847, 1209838, 1209837, 1205208, 1199072, 1199669, 1203162, 1204277, 1204542, 1204755, 1204815, 1204974, 1205271, 1209836, 1205526, 1205720, 1206066, 1206307, 1206803, 1208550, 1209572, 1209669, 1724215, 1724219, 1724220, 1796003, 1796256, 1796567, 1796811, 1797064, 1816243, 1832438, 2452962, 2829146, 2435668, 102793889, 102794816, 1433963, 1434641, 1440279, 1134077, 1195747, 1258629, 1265714, 1269817, 1796211, 1795854, 2820493, 1794821, 2830705, 102665755, 102666382, 102668962, 102669253, 102671522, 102673211, 102674704, 102684645, 102684817, 102689198, 1423099, 2630028, 1726082, 1727364, 1901317, 1768157, 1794407, 1794466, 1270655, 1271581, 1274461, 1274514, 2559005, 2498964, 2464260, 2428184, 2413289, 2236717, 2236715, 2236714, 2236713, 2236712, 2236708, 2236706, 2236705, 2236704, 2236703, 2236702, 2236701, 2235367, 2191901, 2581157, 2594167, 2825615, 1922595, 1274537, 1274581, 1275003, 1275004, 1305097, 1641016, 1819716, 1922211, 1923045, 2840279, 1923696, 1924031, 1924127, 1924470, 1924635, 2778357, 2767965, 1382842, 2822236, 2820420, 2418809, 2481556, 2481702, 2481721, 2481916, 2481937, 2482015, 2482146, 2483087, 2483812, 2484276, 2484645, 2485718, 2486323, 2492439, 2499236, 2500896, 2501551, 2501947, 2503570, 2526575, 2481691, 2481329, 2818809, 2481117, 2472836, 2474214, 2475181, 2475272, 2475293, 2475341, 2475639, 2475943, 2476466, 2476866, 2478349, 2478630, 2478633, 2478635, 2479513, 2479820, 2479827, 2480969, 2480997, 2516806, 2531958, 2602946, 2608932, 746707, 1249403, 1424836, 2008141, 2667162, 2675036, 2675038, 102731358, 102776558, 2442107, 2519698, 2200433, 2515063, 2607717, 2684800, 1983751, 2067569, 2582401, 2735787, 743963, 101200, 101184, 2553008, 2670022, 2773355, 2521364, 2533561, 2534628, 2537968, 2549882, 2550717, 2636979, 101202, 2691151, 2714195, 2812445, 770660, 101187, 770661, 101194, 101204, 2175378, 2175376, 2175372, 102699154, 102695467, 102694506, 2833116, 2832466, 2831788, 2830892, 2830687, 2830584, 2830486, 2827635, 2815111, 2811118, 2801830, 2801208, 2799923, 2799628, 2798704, 2798462, 2798382, 102695489, 102699891, 2175371, 102700304, 1400385, 1400383, 1400376, 102724152, 102709519, 102709339, 102708396, 102707041, 102705453, 102705134, 102704895, 102702488, 102702455, 102701478, 102701329, 102701283, 102700727, 102700704, 102700702, 2797876, 2797660, 2797651, 2797653, 2825608, 307570, 1363166, 1365057, 1365236, 1367580, 1390827, 1657874, 1817235, 1837101, 1837103, 1876339, 2046704, 2140895, 2189358, 2193913, 2246338, 2258775, 2576851, 2755688, 2682941, 2560245, 1384707, 2797405, 2797388, 2797303, 2797276, 796293, 1364186, 1365280, 1368270, 1390826, 2267082, 1424048, 1817155, 1837104, 1873886, 1963963, 2135909, 2189352, 2194501, 1400377, 1400378, 1400380, 1409993, 1439253, 1439256, 1438286, 1438284, 1437671, 1436101, 1436011, 1431579, 1427046, 1424115, 1415518, 1414190, 1414191, 1412555, 1412492, 1412343, 1411604, 1411172, 1411061, 1459058, 1463348, 1472059, 1753725, 2175364, 2175363, 2175354, 2175343, 2175216, 1878587, 1795037, 1765921, 1753723, 1484210, 1683854, 1650794, 1552673, 1542505, 1516361, 1506033, 1488468, 1484613, 1409997, 1408302, 1400381, 1407898, 1402687, 1402685, 1402650, 1402609, 1402515, 1402500, 1402455, 1402408, 1402369, 1402138, 1402007, 1401475, 1401474, 1401347, 1401338, 1401336, 1401136, 1400888, 1400379, 1402867, 1402891, 1402906, 1405122, 1407232, 1406957, 1406819, 1406690, 1406647, 1406591, 1406527, 1405537, 1404642, 1402907, 1404531, 1404263, 1404146, 1403949, 1403891, 1402911, 1402909, 1402908, 2419504, 2417724, 1724224, 1617745, 2106503, 2199720, 2200150, 2224380, 2224519, 2224542, 2224809, 2224992, 2225158, 2225162, 2225163, 2225201, 2225359, 2225365, 2225406, 2225407, 2225723, 2226485, 2227925, 2085500, 1442454, 2482084, 1414566, 2496220, 2499240, 2499431, 2500424, 2502675, 2502927, 2504537, 2520958, 2516603, 2527660, 2541303, 2696547, 744901, 1163044, 1243627, 1273803, 1336164, 1385593, 1394300, 2233991, 2235847, 2236048, 2238576, 2246740, 2247560, 2248800, 2249848, 2251312, 2252620, 2254261, 2254482, 2254715, 2274804, 2274809, 2275755, 2278530, 2278536, 2318767, 2400631, 2415537, 2427850, 2442564, 2246711, 2245399, 2245363, 2242229, 2241977, 2241978, 2241979, 2242022, 2242040, 2242140, 2242151, 2242187, 2242245, 2243806, 2242359, 2242409, 2242439, 2242695, 2242696, 2242730, 2242811, 2243429, 2483027, 2482018, 102708411, 1761626, 1763129, 1763136, 1763144, 1763162, 1763228, 1763244, 1763257, 1763269, 1763282, 1763306, 1763307, 1763309, 1763326, 1776339, 1785038, 1790806, 1970829, 2075013, 2095410, 1761627, 1756347, 2481902, 1756063, 1724787, 1724788, 1724879, 1724988, 1725565, 1726004, 1726758, 1726861, 1727151, 1727152, 1727286, 1729510, 1730099, 1730154, 1730601, 1731862, 1734103, 1742625, 1755746, 2439343, 2455125, 2627037, 2729604, 2396140, 2396141, 2396144, 2396146, 2396148, 2396329, 2396542, 2396565, 2396842, 2396843, 2421917, 2441904, 2442830, 2481052, 2481341, 2481504, 2481620, 2481688, 2481707, 2395831, 2395612, 2395595, 1737611, 2773894, 1671813, 2768728, 28805, 230382, 254913, 1200288, 1424721, 1559755, 2395534, 1635138, 2435608, 795598, 795599, 290907, 1265199, 2395483, 2395532, 2447855, 2564943, 2573571, 2007844, 2016245, 2016327, 2016357, 2016680, 2016820, 2017458, 2017915, 2053940, 2064742, 2143874, 2535334, 2637735, 2658166, 2680597, 2702956, 2010191, 2010470, 2011308, 2011435, 2015817, 2007505, 2606647, 2007145, 2474616, 2475511, 2480536, 2525407, 2532607, 2837677, 2838584, 2427057, 2428471, 2429978, 2159858, 2164783, 2169555, 2325127, 2360768, 1931987, 1951829, 2006848, 2007083, 2011615, 2011834, 2012284, 2012368, 286287, 2764611, 2764617, 2764621, 2764626, 2764628, 2764636, 2764637, 2764640, 1311875, 1321506, 1331111, 1403714, 1402499, 1402936, 1402937, 1415620, 1829599, 102699320, 1653270, 2194208, 1978202, 1976464, 2012491, 2544719, 2474107, 2655032, 2655078, 2655103, 2655112, 2655357, 1976945, 1978198, 1977482, 1977549, 1977646, 1978106, 1978175, 1978176, 1978177, 1978178, 2578103, 2806312, 2310386, 1807106, 11386, 11385, 744843, 747782, 760685, 784823, 1144874, 1284976, 1344934, 1480660, 1555210, 1805119, 2355847, 2679526, 102773805, 1123241, 1148445, 1426367, 1519762, 2008162, 1746884, 1443938, 1473555, 2793286, 2197865, 2197994, 2201515, 2276752, 1234915, 1330984, 1356086, 1638134, 746573, 1967872, 2334401, 2631731, 2654131, 117708, 117711, 117699, 117704, 1751997, 2291759, 2292158, 2704739, 2802146, 2802491, 2802636, 2802901, 2803348, 2803408, 2803521, 2803626, 2806465, 102675601, 1922052, 2231180, 2244499, 2255401, 2288632, 2288633, 2288634, 2290639, 2291139, 2799329, 2313743, 1442998, 1391339, 2743433, 102670526, 2725074, 2417857, 2770060, 2458325, 2461506, 102795333, 1391504, 227860, 1391574, 1394236, 102686888, 102687558, 102766819, 1713567, 210019, 222588, 2190489, 2186235, 2180431, 2305506, 2305527, 2305539, 2305546, 2305552, 2305553, 2305563, 2305567, 2305581, 2305595, 2305596, 2305604, 2305605, 2305612, 2305625, 2305630, 2305644, 2305651, 2305657, 2305667, 2305512, 2305502, 2361411, 2305495, 731330, 2592123, 102708414, 102699322, 2072211, 2304083, 2304115, 2304160, 2304164, 2304165, 2304215, 2304831, 2305236, 2305277, 2305366, 2305376, 2305422, 2305480, 2305491, 2305671, 2305678, 2305681, 2305689, 2306050, 2306054, 2306058, 2306084, 2306095, 2306120, 2306145, 2306147, 2306159, 2306212, 2306222, 2306258, 2306292, 2306335, 2306430, 2306431, 2306432, 2306525, 2306538, 2306049, 2306046, 2306033, 2305850, 2305706, 2305713, 2305719, 2305749, 2305803, 2305818, 2305832, 2305834, 2305873, 2305969, 2305881, 2305889, 2305919, 2305939, 2305947, 2305954, 2305959, 2305964, 2363719, 2361408, 2623087, 2600929, 2600836, 2600822, 2600819, 2600689, 2600326, 2600298, 2600287, 2600210, 2600196, 2599641, 2598678, 2598431, 2598014, 2597496, 2593585, 2593300, 2593183, 2592082, 2591899, 2600920, 2601164, 2361406, 2601170, 2623004, 2622968, 2622817, 2622502, 2621695, 2621192, 2619385, 2618701, 2618025, 2616981, 2616540, 2614780, 2612507, 2604807, 2603181, 2603042, 2602777, 2602324, 2601409, 2591895, 2591889, 2591032, 2590949, 2589177, 2589156, 2589149, 2589143, 2589083, 2589048, 2588943, 2588839, 2588813, 2588723, 2588705, 2588703, 2588701, 2588468, 2751965, 2725701, 2608512, 2361375, 2361404, 2589269, 2589307, 2589371, 2590582, 2590896, 2590827, 2590826, 2590736, 2590720, 2590641, 2590634, 2590616, 2590485, 2589392, 2590437, 2590293, 2590232, 2589996, 2589925, 2589716, 2589491, 2589469, 2306660, 2306956, 2307644, 2004243, 2004253, 2004293, 2004305, 2004334, 2004341, 2004347, 2004362, 2004366, 2004369, 2004379, 2004400, 2004403, 2004406, 2004407, 2004409, 2004414, 2004420, 2004422, 2004424, 2004244, 2004241, 2307676, 2004238, 2763794, 102656209, 102682802, 102769066, 102699194, 102690649, 2689060, 2696779, 2706880, 1427491, 1158176, 2002900, 2004133, 2004157, 2004218, 2004219, 2004224, 2004227, 2004232, 2004425, 2004426, 2004430, 2004433, 2004585, 2004596, 2004602, 2004608, 2004609, 2004644, 2004660, 2004661, 2004662, 2004663, 2004759, 2004762, 2004761, 2004765, 2004767, 2004764, 2004809, 2004816, 2004824, 2004574, 2004573, 2004564, 2004479, 2004447, 2004452, 2004453, 2004456, 2004460, 2004465, 2004466, 2004467, 2004481, 2004558, 2004485, 2004486, 2004520, 2004522, 2004528, 2004534, 2004535, 2004538, 2748621, 2723969, 2704467, 2314700, 2314067, 2314088, 2314118, 2314302, 2314327, 2314329, 2314330, 2314331, 2314375, 2314446, 2314511, 2314517, 2314519, 2314639, 2314687, 2314688, 2314689, 2314692, 2314695, 2314038, 2314036, 2314032, 2313223, 2307935, 2308433, 2308576, 2308723, 2308874, 2309046, 2309306, 2312138, 2313240, 2313995, 2313349, 2313810, 2313818, 2313879, 2313945, 2313988, 2313989, 2313993, 2314697, 2315590, 2659937, 2315592, 2370546, 2371161, 2420709, 2426150, 2429930, 2431552, 2433811, 2474768, 2497127, 2503320, 2525814, 2530599, 2548446, 2560246, 2574259, 2574835, 2577915, 2602662, 2642446, 2367516, 2356194, 2345334, 2317906, 2315687, 2316318, 2316334, 2316525, 2316526, 2317142, 2317335, 2317529, 2318037, 2342768, 2318153, 2318833, 2318983, 2321349, 2326562, 2329398, 2338780, 2339053, 2623038, 2623125, 2004829, 2655913, 2654860, 2654751, 2654672, 2654668, 2654665, 2654626, 2654524, 2653014, 2653013, 2653012, 2653007, 2653006, 2653005, 2653004, 2652987, 2652985, 2652747, 2652233, 2652137, 2655204, 2655972, 2661503, 2656294, 2661016, 2659936, 2659847, 2659432, 2658334, 2658124, 2657757, 2657619, 2657183, 2657007, 2656997, 2656906, 2656743, 2656652, 2656632, 2656607, 2656488, 2656466, 2656395, 2651463, 2651404, 2650919, 2650399, 2646052, 2645608, 2644391, 2644367, 2644152, 2643923, 2643677, 2643562, 2643423, 2643293, 2643283, 2643089, 2643069, 2643004, 2642920, 2642873, 2642869, 2642839, 2642326, 2646134, 2646277, 2646588, 2648613, 2650173, 2649764, 2649711, 2649278, 2649277, 2649226, 2649089, 2648842, 2648408, 2646600, 2647846, 2647838, 2647579, 2647546, 2647429, 2647372, 2647348, 2646649, 2661054, 2661540, 2623333, 2672549, 2672154, 2671934, 2671360, 2671151, 2671012, 2670906, 2670696, 2670649, 2670647, 2669913, 2669912, 2669858, 2669624, 2669127, 2668931, 2668901, 2668782, 2668769, 2668762, 2672273, 2674982, 2661754, 2675810, 2707988, 2707936, 2707709, 2704775, 2702779, 2702621, 2699693, 2699533, 2697908, 2694379, 2691133, 2689102, 2688994, 2687005, 2685401, 2683236, 2683075, 2682089, 2681187, 2668700, 2668628, 2668607, 2668492, 2666733, 2666301, 2666149, 2665907, 2665673, 2665556, 2665531, 2665329, 2665040, 2664804, 2664753, 2664359, 2664343, 2663898, 2663896, 2663179, 2662637, 2662297, 2662125, 2666753, 2666846, 2666886, 2668034, 2668413, 2668381, 2668255, 2668219, 2668217, 2668092, 2668045, 2668041, 2667890, 2666928, 2667842, 2667837, 2667792, 2667788, 2667786, 2667682, 2666969, 2666957, 2642086, 2642032, 2642028, 2634876, 2634826, 2634798, 2634782, 2634757, 2634751, 2634747, 2634591, 2634504, 2634426, 2634383, 2634373, 2634356, 2634341, 2634337, 2634329, 2634308, 2634307, 2634262, 2634246, 2634854, 2634956, 2641930, 2634985, 2636172, 2636098, 2636052, 2636024, 2635738, 2635687, 2635630, 2635510, 2635487, 2635480, 2635426, 2635323, 2635204, 2635189, 2635169, 2635167, 2635145, 2635037, 2635010, 2634040, 2634027, 2633886, 2633832, 2629123, 2628132, 2628081, 2627816, 2627312, 2627159, 2626709, 2625942, 2625540, 2625197, 2625136, 2624840, 2624608, 2624290, 2624038, 2623914, 2623787, 2623658, 2623441, 2629239, 2629680, 2629959, 2632871, 2633824, 2633772, 2633624, 2633610, 2633489, 2633308, 2633247, 2633032, 2632778, 2630484, 2632497, 2632163, 2632128, 2632056, 2631987, 2631640, 2631182, 2630862, 2636254, 2636576, 2636577, 2639114, 2639903, 2639854, 2639839, 2639782, 2639755, 2639674, 2639642, 2639634, 2639626, 2639543, 2639541, 2639442, 2639430, 2639429, 2639359, 2639256, 2639224, 2639205, 2639178, 2640075, 2640081, 2640148, 2641485, 2641896, 2641830, 2641800, 2641674, 2641593, 2641592, 2641571, 2641496, 2641418, 2640255, 2641271, 2641124, 2640858, 2640776, 2640583, 2640564, 2640533, 2640499, 2639136, 2638962, 2636615, 2638902, 2637617, 2637596, 2637508, 2637417, 2637390, 2637381, 2637316, 2637313, 2637297, 2637054, 2637012, 2636863, 2636829, 2636827, 2636760, 2636731, 2636707, 2636703, 2636648, 2637708, 2637716, 2637871, 2638554, 2638823, 2638808, 2638774, 2638768, 2638702, 2638617, 2638593, 2638580, 2638526, 2637992, 2638463, 2638447, 2638364, 2638294, 2638109, 2638080, 2638069, 2638021, 2004827, 2004831, 2179520, 2530344, 2530505, 2530527, 2530732, 2530763, 2530775, 2530811, 2530781, 2530937, 2530972, 2531063, 2532264, 2532257, 2532260, 2532300, 2532309, 2532374, 2532406, 2532485, 2532677, 2530364, 2530087, 2528978, 2529595, 2528988, 2529009, 2529011, 2529016, 2529052, 2529059, 2529062, 2529157, 2529231, 2529242, 2529279, 2529402, 2529406, 2529465, 2529468, 2530141, 2529523, 2529565, 2530109, 2532682, 2532681, 2532739, 2532794, 2534202, 2534325, 2534382, 2534464, 2534490, 2534514, 2534541, 2534550, 2534573, 2534593, 2534611, 2534757, 2534779, 2534783, 2534821, 2534823, 2534863, 2534901, 2534917, 2534072, 2534015, 2533773, 2533063, 2532879, 2532881, 2532882, 2532916, 2532922, 2532977, 2532986, 2532993, 2533100, 2533772, 2533162, 2533170, 2533194, 2533447, 2533512, 2533613, 2533620, 2533739, 2528989, 2528966, 234838, 254254, 260004, 274240, 277278, 282049, 289903, 731466, 755958, 840316, 1291621, 1499029, 1567554, 1747550, 1817278, 1949417, 2774636, 2779425, 2786171, 2506498, 2506520, 259798, 253549, 2528817, 248956, 235016, 235022, 235185, 235191, 235197, 235229, 235250, 235285, 235336, 236105, 236106, 236373, 236397, 236728, 240459, 240602, 240603, 240633, 243416, 2508162, 2506618, 2506662, 2506743, 2511612, 2513130, 2513640, 2515769, 2518167, 2519016, 2519093, 2519361, 2519441, 2520665, 2522266, 2524037, 2526435, 2527090, 2527786, 2528492, 2528567, 2528603, 2528709, 2511458, 2511374, 2511141, 2508835, 2506740, 2506741, 2506742, 2508264, 2508355, 2508605, 2508633, 2508664, 2508924, 2510796, 2509187, 2509320, 2509379, 2509376, 2509449, 2509669, 2509886, 2510681, 2534952, 2534953, 2535032, 2163126, 2163215, 2163229, 2163280, 2163333, 2163366, 2163513, 2163524, 2163705, 2163734, 2163735, 2163813, 2163822, 2163838, 2163910, 2163989, 2164207, 2164480, 2164551, 2164961, 2163145, 2163125, 2535069, 2163122, 2129362, 2151095, 2152232, 2153316, 2153325, 2153395, 2153652, 2153753, 2153777, 2153836, 2153842, 2153947, 2154110, 2154419, 2154880, 2156683, 2156727, 2157074, 2161894, 2165068, 2165186, 2165283, 2165430, 2171434, 2171454, 2172084, 2172107, 2173848, 2174844, 2177779, 2177923, 2178578, 2178586, 2178588, 2178591, 2178592, 2178593, 2178595, 2178596, 2178597, 2178606, 2178742, 2170717, 2170401, 2170300, 2167497, 2165452, 2165518, 2166210, 2167346, 2167397, 2167478, 2167479, 2167490, 2167515, 2169942, 2167707, 2167851, 2168351, 2168875, 2168974, 2169476, 2169777, 2169846, 2110135, 102719345, 2809956, 2548583, 2546256, 2546528, 2546570, 2546871, 2546928, 2546931, 2546937, 2546991, 2547079, 2547142, 2547400, 2547446, 2547527, 2547530, 2547666, 2547739, 2547875, 2547935, 2548096, 2543546, 2542360, 2541236, 2536248, 2535168, 2535227, 2535457, 2535689, 2535691, 2535909, 2535986, 2536044, 2536482, 2541234, 2536627, 2536977, 2536995, 2538176, 2538456, 2538518, 2538703, 2538819, 2548101, 2549293, 2786866, 2552822, 2598511, 2602568, 2602852, 2618442, 2619430, 2637184, 2644504, 2649853, 2664625, 2665015, 2671564, 2703073, 2717945, 2748932, 2750155, 2760319, 2764073, 2768705, 2779699, 2592864, 2582434, 2578699, 2555720, 2553121, 2553575, 2553891, 2553942, 2554090, 2554465, 2554741, 2555550, 2556100, 2568912, 2556251, 2556812, 2556986, 2557553, 2559134, 2559195, 2560203, 2561306, 234994, 234836, 2004834, 1512028, 1512045, 1512084, 1512097, 1512112, 1512118, 1512121, 1512146, 1512190, 1512282, 1512305, 1512349, 1512440, 1512445, 1512459, 1512478, 1512487, 1512495, 1512498, 1512514, 1512040, 1511396, 2426755, 1511387, 2524459, 2534208, 2539437, 2548075, 2563804, 2584378, 2648995, 2703753, 2721752, 102721990, 102786494, 1484270, 1484280, 1489539, 1491633, 1496237, 1505588, 1508503, 1510927, 1512515, 1512592, 1512611, 1512618, 1512751, 1512752, 1512754, 1512763, 1512781, 1512784, 1512792, 1898332, 1512793, 1512797, 1512801, 1512803, 1512817, 1512825, 1512830, 1512832, 1512835, 1512840, 1512852, 1512747, 1512743, 1512734, 1512676, 1512620, 1512634, 1512640, 1512654, 1512657, 1512660, 1512663, 1512669, 1512680, 1512723, 1512686, 1512687, 1512688, 1512705, 1512707, 1512718, 1512719, 1512722, 2506185, 2415359, 234833, 2005439, 2005667, 2005782, 2005801, 2005813, 2005822, 2005844, 2006142, 2006160, 2006175, 2006182, 2006197, 2006241, 2006366, 2006398, 2006418, 2006547, 2006555, 2006614, 2006733, 2005475, 2005267, 2287452, 2005245, 2004835, 2004840, 2004866, 2004877, 2004896, 2004903, 2004911, 2004914, 2004925, 2004930, 2004947, 2004956, 2005006, 2005031, 2005037, 2005043, 2005129, 2005186, 2005191, 2006752, 2006826, 2006847, 2006872, 2028487, 2031777, 2044829, 2046791, 2047297, 2051375, 2051530, 2055284, 2055576, 2087957, 2091296, 2105066, 2107175, 2122331, 2128936, 2130539, 2150838, 2259935, 2279767, 2016859, 2012476, 2012223, 2007504, 2006919, 2006950, 2006965, 2006966, 2007046, 2007045, 2007117, 2007427, 2009623, 2012222, 2009685, 2010178, 2010393, 2010516, 2011288, 2011536, 2011540, 2012200, 1512856, 1512874, 1512877, 2191098, 2594307, 2744496, 2767948, 2796765, 766920, 234112, 234116, 234183, 234191, 234208, 234312, 234485, 234508, 234510, 234514, 234518, 234520, 234522, 234523, 2447898, 1978855, 1512881, 1925912, 1564655, 1565583, 1568335, 1568336, 1569173, 1569174, 1569518, 1572159, 1600915, 1636809, 1640047, 1652289, 1706740, 1711953, 1733538, 1746930, 1748890, 1782833, 1841493, 234524, 234552, 234575, 234576, 234703, 234704, 234706, 234707, 234709, 234710, 234713, 234739, 234753, 234755, 234758, 2173742, 234800, 234813, 234814, 234815, 234824, 234830, 234831, 234701, 234699, 234697, 234661, 234577, 234578, 234579, 234580, 234581, 234582, 234583, 234591, 234673, 234696, 234682, 234684, 234688, 234689, 234690, 234691, 234692, 234693, 1555899, 1555259, 1547863, 1513074, 1512991, 1512992, 1512997, 1513000, 1513002, 1513004, 1513007, 1513009, 1513012, 1513016, 1513019, 1513026, 1513029, 1513031, 1513034, 1513037, 1513039, 1513041, 1513050, 1512989, 1512987, 1512983, 1512923, 1512885, 1512890, 1512894, 1512896, 1512900, 1512902, 1512907, 1512918, 1512925, 1512981, 1512929, 1512934, 1512935, 1512950, 1512964, 1512970, 1512976, 1512978, 1513073, 1513092, 1546448, 1513093, 1514434, 1514779, 1520989, 1521204, 1521671, 1522137, 1522119, 1522117, 1522118, 1522114, 1523167, 1523242, 1525002, 1525035, 1533143, 1534156, 1535676, 1539322, 1546398, 1514424, 1514311, 1514146, 1513390, 1513134, 1513169, 1513211, 1513218, 1513258, 1513259, 1513286, 1513315, 1513416, 1514007, 1513431, 1513444, 1513453, 1513454, 1513531, 1513760, 1513777, 1513885, 2706950, 1997752, 2824802, 1366688, 1304141, 1304140, 1291635, 1282098, 1281622, 1276784, 1257508, 1248923, 1243699, 1235033, 1234546, 1234258, 1218925, 1215183, 1210977, 1209937, 1204557, 1203437, 1201675, 1343459, 1391653, 2168136, 1409701, 2168133, 2168132, 2168131, 1996983, 1928613, 1926315, 1894868, 1823225, 1816597, 1764912, 1699815, 1676580, 1675021, 1659861, 1654997, 1554512, 1515486, 1463610, 1414154, 1200328, 1199406, 1198153, 1195395, 1171523, 1171483, 1171189, 1171187, 1171191, 1171107, 1171037, 1170983, 1170824, 1170819, 1170818, 1170769, 1170728, 1170569, 1170563, 1170553, 1170550, 2432364, 2721025, 1171568, 1171569, 1171655, 1177017, 1194532, 1193285, 1183822, 1183235, 1178500, 1178165, 1178045, 1177396, 1176677, 1171695, 1175907, 1172668, 1172665, 1172466, 1172208, 1172199, 1172053, 1171737, 2168135, 2168137, 1324455, 2430873, 2573358, 2578324, 2762452, 2684436, 2739126, 55366, 55370, 55375, 55386, 55391, 55362, 55385, 55373, 55392, 55389, 55381, 55365, 55367, 55364, 2499758, 2426721, 2168138, 2419874, 2198461, 2199534, 2204956, 2206559, 2207789, 2209144, 2210218, 2221619, 2236644, 2237230, 2237239, 2237351, 2237376, 2237452, 2237525, 2237840, 2238933, 2241874, 2334828, 185585, 288115, 1138786, 1291349, 102656691, 2833108, 2831465, 2514390, 2728811, 2699163, 2678029, 2677603, 2659414, 2638551, 2634728, 2503910, 2466384, 2225651, 2225650, 2225649, 2168142, 2168141, 2168139, 102693602, 102713603, 2308701, 2596464, 1406604, 1444411, 2690494, 102697583, 2535206, 2535800, 2541194, 2581760, 2554374, 2308702, 2309070, 2308978, 2308953, 2308940, 2308931, 2308930, 2308923, 2308704, 2250509, 1324465, 1822491, 2272425, 2499553, 2521391, 2563426, 2613607, 2693639, 1780408, 20799, 1414609, 2805914, 2813099, 102657363, 2442447, 2474416, 1844766, 1845366, 1845365, 1850748, 1872816, 1877278, 2411965, 2136412, 2755838, 2136013, 2422300, 2109366, 2111530, 2124890, 2124888, 2124889, 2132062, 2132543, 2132595, 2132808, 2132941, 2133048, 2133083, 2133181, 2133182, 2133460, 2136009, 2136010, 2136011, 1877346, 1877347, 1877353, 1877356, 1935884, 1935888, 1960787, 2006378, 2112502, 2181970, 2812056, 2812093, 2812094, 2812114, 2812163, 2812750, 2812922, 2813030, 2813032, 2813222, 2813618, 2813622, 2814095, 1933135, 1932577, 1932232, 1877993, 1877390, 1877399, 1877405, 1877474, 1877483, 1877590, 1877751, 1877886, 1878065, 1931813, 1878493, 1878494, 1879234, 1930723, 1930838, 1930927, 1930933, 1931448, 2414016, 2712898, 1324559, 1719466, 1719540, 1719670, 1719725, 1719803, 1719889, 1719927, 1719928, 1721212, 1724231, 1724282, 1724284, 1724884, 1725375, 1727373, 1727786, 1728383, 1728386, 1728653, 1728706, 1719505, 1719196, 2662881, 1719189, 1336201, 1337989, 1337990, 1337993, 1342317, 1365290, 2579566, 1634510, 1635760, 1676173, 1700744, 1702042, 1716951, 1717459, 1717524, 1718796, 1718834, 1718944, 1719092, 1728734, 1730230, 1730276, 1731054, 1170538, 1170501, 1170280, 1170272, 1170213, 1170215, 1170157, 2512064, 1408147, 2632813, 1150222, 1188996, 1276419, 1293081, 1361932, 1403751, 1406894, 1512774, 1669794, 1434741, 2455757, 2027767, 1748290, 1732051, 1732680, 1733446, 1734718, 1734720, 1736387, 1747925, 1748289, 1751914, 2025940, 1757442, 1769382, 1769381, 1786342, 1848515, 1863121, 1929615, 1972621, 2198365, 2198346, 2198104, 2309112, 1389474, 1651063, 1706214, 2638379, 102670452, 102689766, 102700234, 2423570, 281921, 285731, 308386, 309035, 309418, 309522, 309606, 309753, 309754, 309867, 309869, 2309097, 2309161, 2310517, 2309168, 2310431, 2310421, 2310287, 2310278, 2310044, 2310031, 2310030, 2310018, 2309995, 2309969, 2309954, 2309521, 2309403, 2309334, 2309329, 2309316, 2309314, 2309294, 2309229, 310080, 310583, 310775, 310776, 1161205, 1161446, 1161468, 1161762, 1161775, 1161980, 1162204, 1162299, 1162459, 1162460, 1162461, 1162462, 1162463, 1162464, 1162883, 1162882, 1167221, 1168078, 1168096, 1161006, 1159472, 1158114, 727576, 310926, 310928, 310929, 311799, 313995, 314153, 315563, 315619, 731145, 1134154, 744728, 812345, 822116, 1423462, 817697, 830716, 1127440, 1131763, 2310459, 2310529, 2197280, 2311352, 2311334, 2311328, 2311323, 2311321, 2311316, 2311312, 2311288, 2311285, 2311283, 2311277, 2311261, 2311256, 2311254, 2311239, 2311233, 2311232, 2311206, 2311202, 2311184, 2311335, 2311389, 2310645, 2311405, 2312974, 2312956, 2312921, 2312786, 2312724, 2312663, 2312651, 2312627, 2312342, 2312139, 2311959, 2311652, 2311619, 2311587, 2311573, 2311561, 2311560, 2311443, 2311407, 2311163, 2311141, 2311132, 2311128, 2310944, 2310918, 2310910, 2310908, 2310904, 2310903, 2310900, 2310890, 2310885, 2310882, 2310836, 2310829, 2310826, 2310821, 2310775, 2310751, 2310740, 2310696, 2310652, 2310967, 2310973, 2310975, 2311060, 2311112, 2311103, 2311091, 2311085, 2311082, 2311080, 2311067, 2311061, 2311052, 2310977, 2311047, 2311038, 2311037, 2311034, 2311020, 2311011, 2310998, 2310987, 1168603, 1170098, 1170144, 1764616, 1764611, 1764619, 1777282, 1784561, 1790712, 1795603, 2025081, 2030255, 2728118, 2452006, 2454536, 2467395, 2467697, 2467893, 2468070, 2468220, 2468359, 2468549, 2471245, 1764612, 1764609, 1170166, 1759605, 1743270, 1743547, 1744245, 1744396, 1744480, 1745021, 1745079, 1745127, 1745469, 1745500, 1745515, 1745535, 1745547, 1745555, 1746199, 1748636, 1755758, 1757496, 1757534, 2759434, 2164522, 2164717, 2189974, 2192278, 2192319, 2192648, 2192821, 2192906, 2193322, 2193491, 2193584, 2193781, 2193904, 2194662, 2194676, 2194729, 2194785, 2194819, 2194979, 2195466, 2196922, 2196977, 2192156, 2192152, 2192107, 2191152, 2190865, 2190914, 2190933, 2190988, 2191024, 2191050, 2191099, 2191120, 2191155, 2191712, 2191232, 2191282, 2191287, 2191299, 2191338, 2191430, 2191450, 2191500, 1743151, 1742835, 1742755, 1741935, 1189278, 1193180, 1414276, 1429243, 1519363, 2435954, 2447209, 102714591, 2333180, 2333181, 2333182, 2333644, 2335332, 2363305, 2363646, 1741768, 1741821, 1741826, 1741913, 1187176, 1185592, 1185591, 1177237, 1170167, 1170973, 1171273, 1172789, 1173795, 1173797, 1176031, 1176357, 1177746, 1185467, 1178141, 1178411, 1178732, 1179125, 1183378, 1183380, 1183381, 1183568, 1741927, 1741941, 1742677, 1741973, 1742336, 1742340, 1742342, 1742356, 1742357, 1742370, 1742371, 1742374, 1742377, 1742378, 1742381, 1742383, 1742414, 1742498, 1742503, 1742559, 1742567, 1742644, 1742670, 1742332, 1742330, 1742329, 1742114, 1741976, 1741989, 1741992, 1742000, 1742028, 1742063, 1742090, 1742102, 1742126, 1742327, 1742147, 1742172, 1742187, 1742198, 1742200, 1742199, 1742197, 1742267, 2814360, 2814733, 2814853, 2716275, 2716277, 2716278, 2716279, 2716280, 2716281, 2723615, 2770114, 102702401, 102750060, 102786737, 102792411, 102792427, 102794208, 102794924, 102795043, 31944, 31942, 31937, 31938, 2716276, 2716274, 102715036, 2716273, 102715039, 102715040, 102715042, 102715043, 102715044, 102715045, 102715046, 102715047, 102715048, 102715049, 102715050, 102715051, 102715052, 102715053, 102716404, 102716542, 102781185, 102783535, 2715773, 745568, 793820, 1143169, 1250844, 294334, 1885657, 793429, 805742, 813296, 828407, 1245956, 1315490, 1365565, 1400599, 1476580, 1577249, 1793588, 2129253, 2300348, 2357419, 2359499, 2511330, 2616683, 2692044, 102779426, 102775679, 2212908, 1440063, 1444911, 1446004, 1535261, 1808244, 1853885, 2212906, 2212907, 2212909, 102773968, 2212910, 2212911, 2227895, 2470175, 102718185, 102771864, 102772540, 102772978, 102715037, 102715035, 1212455, 1577308, 1609403, 1710109, 1710110, 1714961, 1787513, 1797295, 1950469, 1964630, 1969165, 2127349, 2129436, 2129437, 2169303, 2183035, 2183036, 2183037, 2183038, 2183039, 2183040, 1577309, 1568431, 102714995, 1545623, 1221891, 1248813, 1250196, 1251441, 1251550, 1256159, 1258412, 1281596, 1286106, 1292948, 1307824, 1349081, 1349989, 1358609, 1369906, 1381432, 1443028, 1482329, 1528024, 2183041, 2248074, 2441856, 2454114, 102714937, 102714940, 102714942, 102714943, 102714945, 102714949, 102714950, 102714957, 102714964, 102714966, 102714974, 102714978, 102714980, 102714983, 102714984, 102714986, 102714988, 102714990, 102714992, 102714935, 102714933, 102714932, 2721441, 2461483, 2473956, 2505841, 2521454, 2560413, 2634735, 2666298, 2687382, 102654480, 102714931, 102687725, 102700178, 102714918, 102714924, 102714925, 102714926, 102714927, 102714929, 2849663, 2849677, 2849698, 1168589, 1168570, 1168392, 1168298, 1168247, 1168055, 1168016, 1167894, 1167204, 1163796, 1163432, 1162525, 1162480, 1159937, 1159402, 1157483, 1149910, 1137038, 851717, 851109, 1168577, 1168605, 102755208, 1168612, 1168956, 1168954, 1168952, 1168946, 1168943, 1168939, 1168938, 1168937, 1168936, 1168935, 1168934, 1168913, 1168908, 1168892, 1168884, 1168882, 1168879, 1168876, 1168672, 840407, 837680, 825814, 813873, 1921752, 1879992, 1841634, 1840304, 1838952, 1837237, 1835781, 1835483, 1831926, 1824196, 1824177, 1823871, 1823869, 1823414, 1823413, 1823411, 1823114, 1823038, 1822638, 1973779, 2026934, 2287362, 2777051, 811365, 808626, 808625, 808630, 808624, 808200, 806689, 805288, 2767533, 2418377, 2746304, 2744644, 2594106, 2586745, 2538771, 2528201, 2504851, 2446988, 1168998, 1169005, 1169008, 1170008, 102727556, 2483626, 2697074, 2744713, 2744873, 2745412, 2750008, 2772842, 2773341, 2791637, 1780066, 1780384, 1780725, 2025882, 102735535, 102754082, 174578, 1408192, 1525740, 2782150, 2775905, 2775489, 2381162, 2455403, 2805153, 2805271, 2805684, 2806268, 2809128, 102740975, 2380968, 2381163, 2774885, 2381164, 2381165, 2381668, 2381682, 2449098, 2454602, 2771642, 2773651, 2413229, 1170007, 1169073, 1170004, 1169496, 1169493, 1169272, 1169271, 1169259, 1169258, 1169257, 1169210, 1169194, 1169191, 1169188, 1169169, 1169168, 1169162, 1169161, 1169102, 1169094, 1169077, 1169076, 1169495, 1169498, 1169491, 1169991, 1170003, 1170002, 1170000, 1169999, 1169997, 1169995, 1169993, 1169992, 1169989, 1169489, 1169988, 1169987, 1169986, 1169980, 1169972, 1169955, 1169951, 1169492, 1218547, 1204343, 2815193, 1440189, 1934942, 2106361, 2450557, 2538122, 2694420, 2694423, 2724316, 2771946, 2785955, 2786086, 2786236, 2787709, 2787728, 2787800, 2791784, 2792614, 2794597, 2797780, 2802649, 1564334, 1408070, 160095, 1380652, 772950, 160081, 160103, 160066, 160125, 160086, 757685, 828296, 834197, 839968, 1142973, 1157995, 1174391, 1175859, 1195195, 1203980, 1313465, 1314496, 1350416, 1220595, 1736492, 2465957, 2540693, 2452018, 2452020, 2452346, 2452689, 2453126, 2453251, 2453663, 2453671, 2467612, 2473396, 2475854, 2478514, 2479092, 2479291, 2550117, 2624717, 2633629, 2700658, 102767987, 2443394, 2434123, 2416924, 2292567, 27201, 310482, 1146755, 1385248, 1388730, 1421164, 1840325, 1959803, 2489455, 2397237, 2608814, 2667481, 2832778, 1424431, 2310842, 2397049, 2397050, 2397051, 160114, 160064, 1202000, 2818072, 2818302, 2818464, 2818959, 2819964, 2827074, 2827418, 2834109, 102656053, 102657557, 102685513, 102691535, 2683274, 2817754, 201170, 207619, 207623, 207621, 816805, 1124595, 2818254, 2817458, 160065, 2817210, 2815280, 2815296, 2815326, 2815328, 2815401, 2815510, 2815514, 2815654, 2815656, 2815708, 2815719, 2815801, 2815954, 2815963, 2816030, 2816461, 2816480, 2816841, 2816901, 1140934, 1161196, 1205057, 1214408, 1170019, 2475372, 2476024, 2502724, 2514256, 2517979, 2517982, 2518298, 2518688, 2519503, 2538218, 2541456, 2575420, 2590757, 1907570, 1907571, 160089, 160087, 772951, 1170023, 1170024, 1170064, 1794721, 1214405, 1214406, 1259368, 1423472, 1501145, 1523026, 1760786, 1794719, 1794722, 1170094, 2180515, 2424756, 2588325, 2750641, 102670651, 102796048, 1170143, 1170139, 2203182, 2505777, 102730358, 1537636, 2511689, 2544693, 2553366, 2553643, 2582920, 2583641, 2583895, 2536597, 2584446, 2592794, 2650066, 2721208, 1422847, 1423924, 1430287, 1713711, 1805575, 2607643, 2621667, 1585847, 1421135, 1493870, 1266945, 2095131, 2095606, 2100413, 2100770, 2100952, 2101092, 2101441, 2633039, 102781683, 2385597, 2385607, 2385875, 2386106, 2387302, 1397051, 1406652, 102725547, 36357, 1146634, 2683855, 1898478, 1473377, 1473848, 15602, 15613, 15598, 15599, 214807, 225175, 743002, 743752, 744823, 746972, 754213, 761209, 809590, 813322, 815789, 829444, 835227, 1143137, 1170532, 15600, 773425, 1620505, 1610114, 1473875, 1484994, 1498340, 1508406, 1607682, 1607831, 1608749, 1609787, 1610528, 1620503, 1610529, 1610530, 1610532, 1610738, 1610736, 1611152, 1611765, 1612230, 1941508, 1920660, 1891864, 2795556, 2400400, 2401265, 2448221, 2532844, 2726066, 2478709, 2479008, 2502241, 2744609, 2794684, 2794745, 2794797, 2794825, 2794934, 2795144, 2795165, 2795360, 2795415, 2795463, 2400102, 2399264, 2399091, 2398176, 1807111, 2332166, 2332169, 2332179, 102786958, 2321452, 2360022, 2379444, 2398234, 2399045, 2398338, 2398631, 2398639, 2398748, 2398757, 2398817, 2398910, 2398980, 2795497, 2795615, 2152371, 2796623, 2362634, 2363324, 2363591, 2370217, 2371509, 2372568, 2372777, 2376605, 2444151, 2422764, 2495116, 2499716, 2605656, 2631867, 2704367, 1640094, 1833105, 1875041, 2836660, 2362480, 2362358, 2362328, 1170016, 2796963, 2799148, 102663410, 102704099, 2027132, 2688589, 1170018, 1170017, 1170014, 2362155, 1170013, 1170010, 1170009, 2314505, 2314760, 2315817, 2361909, 2362149, 2312977, 2313271, 2313607, 2630208, 2631636, 2632342, 2632929, 2633073, 2634674, 2637493, 2639825, 1685619, 1855807, 102771344, 102771345, 102771346, 102771347, 102771798, 102771841, 102772166, 102772192, 102772948, 102773386, 2630427, 2629824, 2193101, 2629761, 2193544, 2198885, 2334810, 2439213, 2727759, 2749330, 2749332, 2804960, 2321022, 2324280, 2324500, 2324503, 304583, 753420, 1255273, 1355015, 1413562, 1600124, 2628836, 102773604, 102774136, 102774288, 102775607, 1634854, 2233546, 25748, 25744, 25738, 775569, 775568, 260209, 743736, 745156, 751716, 761304, 793813, 817944, 826257, 1145081, 1176395, 1288042, 1311665, 102788776, 102785578, 102785345, 102780640, 102775807, 102775962, 102776035, 102776216, 102777080, 102777114, 102777413, 102779812, 102781248, 102783552, 102781296, 102781428, 102781726, 102781805, 102782104, 102782346, 102783016, 102783125, 2193348, 2192997, 1564787, 740872, 748515, 792582, 1125052, 1189913, 1389091, 1447693, 2605726, 2698112, 2702105, 2703935, 2713715, 2306485, 2306571, 2306769, 2306837, 2306993, 2307033, 2307099, 2307134, 741080, 280535, 2192912, 19785, 1570072, 1572486, 1577455, 1584634, 1584883, 1584972, 1585048, 1585049, 1585090, 1598636, 1598637, 1608333, 1613294, 1613409, 1620049, 1973970, 2810923, 102695733, 19786, 2307140, 2307181, 2307214, 2307342, 2192522, 2192536, 2192548, 2192556, 2192676, 2192689, 2192726, 2192739, 2192740, 2192742, 2192791, 2192794, 2192795, 2192800, 2192803, 2192809, 2192814, 2192825, 2192910, 2753882, 2750319, 2749805, 2331092, 2307397, 2307455, 2307599, 2309740, 2311305, 2317149, 2317997, 2318486, 2331240, 2749722, 2331245, 2331596, 2331618, 2332311, 2371017, 2475537, 102682799, 1193333, 1349704, 1372591, 1415183, 2086967, 2087008, 2087013, 2087020, 2087039, 2087055, 2087062, 2087071, 2087072, 2087073, 2087089, 2087095, 2087109, 2087116, 2087120, 2087128, 2087130, 2087133, 2087134, 2087141, 2086990, 2086963, 1443552, 2086896, 2417924, 2437176, 2457905, 2500002, 2525857, 2535804, 2560298, 2569474, 2695225, 2783627, 2082502, 2082546, 2082561, 2082684, 2086857, 2086886, 2086890, 2086891, 2086892, 2087142, 2087143, 2087149, 2087156, 2087292, 2087300, 2087308, 2087309, 2087310, 2087311, 2087314, 2087332, 2087333, 2087343, 2087345, 2087348, 2087351, 2087352, 2087353, 2087355, 2087356, 2087363, 2087365, 2087283, 2087281, 2087279, 2087239, 2087157, 2087179, 2087180, 2087208, 2087228, 2087233, 2087237, 2087238, 2087240, 2087277, 2087249, 2087251, 2087260, 2087262, 2087265, 2087266, 2087274, 2087276, 2416913, 2414429, 2412145, 2349120, 2342519, 2342526, 2342534, 2342539, 2342545, 2342707, 2343602, 2343639, 2348713, 2348730, 2348801, 2348857, 2348949, 2348975, 2348978, 2348996, 2349012, 2349036, 2349050, 2342348, 2342259, 2342223, 2305182, 1485018, 1983060, 2009329, 2456100, 2814668, 102679513, 102679540, 102693129, 2309760, 2342095, 2313195, 2334409, 2336226, 2338349, 2340997, 2341406, 2341409, 2341895, 2349088, 2349192, 2386294, 2349234, 2351631, 2351643, 2352037, 2352344, 2352414, 2352422, 2353179, 2353603, 2354256, 2354794, 2363604, 2365840, 2367248, 2370305, 2370792, 2370938, 2371122, 2375836, 2385000, 2351554, 2351421, 2351416, 2349577, 2349271, 2349329, 2349421, 2349426, 2349438, 2349443, 2349470, 2349513, 2349719, 2351233, 2350646, 2350746, 2350761, 2350825, 2350845, 2350858, 2350891, 2350939, 1564788, 1561165, 2087386, 102693094, 102777697, 2377873, 16440, 278844, 311807, 744833, 746602, 1190246, 1303026, 1408679, 2582002, 2839564, 102719286, 76631, 76632, 1382804, 1450083, 1949788, 2716058, 102773055, 102665023, 2546372, 2851325, 2560778, 2564291, 2567155, 2594948, 2595659, 2613496, 2619332, 2619814, 2647842, 2683462, 2697505, 2742679, 2758348, 2762381, 2768651, 2770830, 2798039, 2800969, 2803126, 2673296, 2676710, 2685274, 2723247, 2578676, 2667740, 2711130, 2711134, 40118, 1331736, 1389371, 1421390, 2449999, 2600722, 2600898, 2601232, 2601391, 2604369, 2604382, 2604993, 2608740, 2610403, 2610665, 2578671, 2578342, 2577587, 1354373, 2803961, 1816342, 1874367, 766697, 292525, 304361, 1136853, 1300619, 1359653, 2535376, 1406490, 1475477, 1509434, 1680513, 1713287, 1742849, 2302315, 2498304, 2551608, 2529807, 1546322, 2175713, 2176039, 2176040, 2176136, 2176289, 2176719, 2176998, 2177263, 2177776, 2178305, 2178338, 2178888, 2179382, 2179386, 2179389, 2179477, 2179519, 2179950, 2181076, 2181093, 2175750, 2175681, 2532798, 2175676, 2173827, 2174158, 2174266, 2174427, 2174674, 2174757, 2174787, 2174846, 2174872, 2174877, 2174879, 2174887, 2174972, 2175137, 2175172, 2175304, 2175480, 2175637, 2175663, 2181674, 2181715, 2181716, 2182253, 2257391, 2261636, 2287589, 2315303, 2332182, 2332183, 2348824, 2358633, 2358634, 2358635, 2384392, 2402612, 2404724, 2429128, 2442481, 2458762, 2460575, 2479417, 2505785, 2213012, 2202835, 2198692, 2188680, 2182485, 2183950, 2186256, 2186889, 2187531, 2187720, 2188109, 2188362, 2188689, 2196361, 2188765, 2188855, 2188924, 2189020, 2189345, 2189662, 2189693, 2194808, 2610819, 2615498, 2619545, 2568169, 2568197, 2568230, 2568233, 2568231, 2568262, 2568264, 2568286, 2568359, 2568408, 2568444, 2568507, 2568533, 2568534, 2568554, 2568692, 2568987, 2569014, 2569149, 2569164, 2568175, 2568000, 2631465, 2567917, 2566873, 2566883, 2566915, 2567059, 2567101, 2567123, 2567228, 2567245, 2567311, 2567446, 2567462, 2567523, 2567536, 2567537, 2567625, 2567737, 2567752, 2567765, 2567812, 2569557, 2569587, 2569685, 2570270, 2701283, 2702789, 2705917, 2708033, 2711373, 2742280, 2769311, 2773542, 2797545, 2822875, 102663747, 102719993, 102724789, 1384307, 1404628, 1541921, 1541922, 1541923, 1544679, 2675739, 2667435, 2665023, 2588486, 2571111, 2575159, 2575320, 2576693, 2579360, 2579433, 2581852, 2588381, 2588499, 2661776, 2593601, 2603709, 2603820, 2606309, 2616827, 2623988, 2656709, 2658515, 2566858, 2566831, 2566753, 2564417, 2784714, 102717392, 102718031, 102727868, 102728083, 102728116, 102728592, 102729194, 102735579, 2564391, 2564405, 2564402, 2564403, 2564406, 2564407, 2564408, 2564410, 2564414, 2564415, 2779861, 2779642, 2779076, 2839200, 2674472, 2692789, 2692867, 2692868, 2796767, 102734404, 2837449, 2838491, 2839266, 2777221, 2839898, 2840417, 102653995, 1298244, 1299353, 1303857, 1305422, 2580562, 2564416, 2564418, 2566729, 2564419, 2565141, 2565277, 2565497, 2565602, 2565850, 2566001, 2566032, 2566248, 2566306, 2566335, 2566338, 2566391, 2566422, 2566590, 2566635, 2566668, 2566681, 2566708, 2566710, 2565111, 2565101, 2564961, 2564547, 2564420, 2564421, 2564425, 2564429, 2564434, 2564463, 2564518, 2564529, 2564550, 2564866, 2564578, 2564600, 2564619, 2564625, 2564627, 2564645, 2564849, 2564858, 2087382, 2087393, 2313690, 1124553, 1125504, 1127129, 1127841, 1127856, 1128089, 1128090, 1128244, 1128348, 1128349, 1128350, 1139386, 1139724, 1179536, 1179782, 1189197, 1204630, 1219221, 1219383, 1235065, 1124587, 1122981, 848098, 1122737, 849510, 849513, 851476, 851815, 851828, 1027452, 1118458, 1118572, 1118965, 1120040, 1120067, 1120081, 1120117, 1120257, 1120468, 1120469, 1121374, 1122683, 1122685, 1245554, 1253224, 1274285, 1385026, 2172376, 2172357, 2156065, 2157398, 2284531, 2284609, 2284627, 2284748, 2284819, 2284837, 2284854, 2284886, 2285188, 2285220, 2285234, 2285281, 2285344, 2285361, 2285546, 2172412, 2172432, 2172549, 2173587, 1528625, 1640985, 1721615, 1781721, 1863534, 2708616, 102721073, 2173597, 2173551, 2172641, 2173480, 2173450, 2173360, 2173262, 2172915, 2172753, 2172653, 2172642, 848155, 847875, 2703708, 2810483, 102666817, 102670542, 102706397, 1287037, 1302184, 1380513, 1407419, 1434359, 1671638, 2530186, 102731081, 102732848, 102734604, 2153896, 2154015, 2154084, 2160766, 2161045, 2168100, 2821733, 2785867, 847450, 2766175, 2703895, 2703917, 2703962, 2704372, 2704657, 2705128, 2705456, 2705466, 2706249, 2706323, 2706490, 2706724, 2707050, 2709568, 2710326, 2711973, 2712284, 2725428, 2729788, 2189340, 2520668, 2406820, 2407060, 842695, 843173, 844376, 844391, 844703, 845027, 845046, 845542, 846098, 846383, 847119, 847146, 847184, 847185, 847226, 847247, 847245, 847246, 847449, 842650, 842648, 842645, 836433, 2408689, 2411779, 319224, 757905, 788866, 820477, 831843, 834507, 839056, 842531, 839681, 841658, 841986, 842032, 842225, 842262, 842375, 842374, 2285556, 2285625, 2286053, 2737301, 2643023, 2195379, 2157246, 2687661, 2620676, 102731533, 102682791, 2763813, 2748674, 2731635, 2705617, 2704395, 2701518, 2681016, 2668972, 2650658, 2638071, 2636392, 2577058, 2737206, 2822557, 2286615, 2828793, 2164191, 2164190, 2164189, 2164188, 2164187, 2164186, 2164185, 2148266, 2147092, 2145346, 2144660, 2144532, 2144404, 2144298, 2144244, 2144193, 2144001, 2143958, 2143566, 2574244, 2525892, 2525824, 2499652, 2334943, 2333310, 2332198, 2332054, 2328897, 2327768, 2327519, 2325489, 2325365, 2323575, 2321355, 2317162, 2315650, 2315576, 2314793, 2314212, 2313969, 2313877, 2313693, 2335102, 2340314, 2341611, 2385006, 2497129, 2454628, 2440328, 2433832, 2432001, 2429995, 2427610, 2388604, 2379713, 2345151, 2371173, 2370545, 2370544, 2367234, 2365641, 2364557, 2360929, 2345946, 2164192, 2164404, 2165530, 2172175, 116407, 116376, 203850, 116386, 116385, 116398, 292178, 300559, 825486, 1124878, 1141304, 1423564, 2586696, 2661140, 2715639, 2738974, 2738975, 2172261, 2172206, 116420, 116416, 116381, 2420884, 2290832, 2294830, 2303825, 2304038, 2304039, 2304184, 2318088, 2327437, 2440143, 116375, 2791493, 102694117, 2405186, 2476619, 116414, 116393, 204285, 116410, 2172178, 2172159, 2168886, 2172149, 2171199, 2171155, 2171147, 2171085, 2171084, 2171065, 2170935, 2170854, 2170785, 2170690, 2170675, 2170648, 2170619, 2170061, 2169731, 2169463, 2169409, 2169257, 2169040, 2171202, 2171228, 2171237, 2171542, 2172139, 2172119, 2172041, 2171982, 2171964, 2171904, 2171696, 2171669, 2171474, 2171274, 2171455, 2171415, 2171410, 2171348, 2171340, 2171322, 2171319, 2171299, 2703714, 2703537, 2087422, 2096524, 2103226, 2103507, 2103768, 2103975, 2104413, 2104455, 2106910, 2107595, 2107811, 2108949, 2119015, 2120496, 2128225, 2128226, 2131078, 2131222, 2144258, 2148680, 2150900, 2100473, 2094018, 2089154, 2093075, 2089346, 2089378, 2089694, 2089776, 2090121, 2090127, 2090128, 2091600, 2091873, 2092008, 2092090, 2092174, 2092291, 2092299, 2092320, 2092344, 2092357, 2092690, 2092693, 2184991, 2191992, 2287192, 2287193, 2747214, 102655288, 102744046, 1403497, 2410028, 2414424, 2438777, 2601600, 2610552, 2647152, 2173626, 2173614, 2760210, 2761758, 2762979, 2762981, 2764261, 2765482, 2767326, 2734826, 2727866, 2703281, 2508246, 2287194, 2340427, 2410676, 2417138, 2420302, 2429531, 2480025, 2505345, 2524714, 2675577, 2545445, 2546468, 2548061, 2551219, 2570736, 2576576, 2595504, 2609871, 2089313, 2089066, 2703769, 2087532, 2087571, 2087570, 2087602, 2087606, 2087607, 2087609, 2087610, 2087613, 2087614, 2087619, 2087625, 2087631, 2087638, 2087639, 2087641, 2087643, 2087650, 2087655, 2087656, 2087539, 2087531, 2089059, 2087492, 2087439, 2087440, 2087441, 2087448, 2087453, 2087462, 2087464, 2087468, 2087469, 2087471, 2087472, 2087474, 2087477, 2087486, 2087487, 2087488, 2087489, 2087490, 2087491, 2087657, 2087658, 2087660, 2087667, 2087809, 2087831, 2087836, 2087880, 2087892, 2087931, 2087961, 2088050, 2088220, 2088244, 2088333, 2088341, 2088531, 2088721, 2088868, 2088902, 2088930, 2089014, 2089017, 2087806, 2087801, 2087799, 2087712, 2087668, 2087669, 2087684, 2087686, 2087693, 2087697, 2087706, 2087707, 2087724, 2087787, 2087728, 2087731, 2087732, 2087734, 2087740, 2087750, 2087772, 2087784, 2769824, 2770094, 2796724, 1137733, 1138070, 1138074, 1139122, 1139125, 1139155, 1139240, 1146563, 1157950, 1160781, 1163704, 1168306, 1172640, 1174361, 1174684, 1175909, 1177006, 1196631, 1200198, 1234650, 1137767, 1137718, 2796757, 1137686, 1136955, 1136957, 1136958, 1136959, 1136965, 1137040, 1137042, 1137051, 1137122, 1137123, 1137152, 1137181, 1137183, 1137189, 1137362, 1137387, 1137412, 1137431, 1137474, 1295159, 1816542, 1948128, 2212849, 2702431, 2702459, 2702462, 2702538, 2702569, 2702663, 2702717, 2702766, 2702915, 2702952, 2702975, 2703069, 2703075, 2703222, 2703246, 2703373, 2703390, 2703424, 2703312, 2702396, 2702350, 2702336, 2663645, 2303467, 2447194, 2546325, 2577947, 2720903, 2663213, 2663406, 2663465, 2663774, 2702252, 2664200, 2666537, 2668060, 2674217, 2676124, 2698506, 2700417, 2702246, 1136953, 1136951, 1136948, 1136619, 1135977, 1136265, 1136321, 1136344, 1136347, 1136393, 1136396, 1136400, 1136406, 1136411, 1136414, 1136415, 1136422, 1136427, 1136441, 1136443, 1136445, 1136451, 1136454, 1135906, 1135898, 1135862, 102667288, 2797364, 2797668, 2799296, 2803455, 2803490, 2804656, 2837666, 102667091, 102668594, 1134851, 102668635, 102671586, 102672333, 102676151, 1134299, 1134545, 1134551, 1134610, 1136600, 1136621, 1136944, 1136628, 1136895, 1136896, 1136898, 1136900, 1136902, 1136903, 1136904, 1136907, 1136908, 1136910, 1136913, 1136918, 1136923, 1136925, 1136930, 1136932, 1136934, 1136936, 1136943, 1136891, 1136887, 1136870, 1136691, 1136631, 1136644, 1136646, 1136689, 1136676, 1136692, 1136678, 1136677, 1136690, 1136864, 1136686, 1136684, 1136683, 1136680, 1136674, 1136675, 1136756, 1136861, 1822492, 1821113, 1941324, 1809356, 1810043, 1810186, 1810517, 1810525, 1810549, 1810577, 1810601, 1913320, 1811157, 1811177, 1811276, 1811278, 1811506, 1812034, 1812139, 1813192, 1815865, 1818816, 1820739, 1809681, 1802410, 1191243, 1799825, 1191153, 1190742, 1190025, 1189957, 1189937, 1189922, 1189897, 1189868, 1189643, 1189556, 265862, 265861, 276764, 2853749, 102706352, 1708897, 1740551, 1773391, 1775400, 1821264, 1822300, 1823599, 1823968, 1189283, 1189231, 1188745, 1188693, 1188407, 1188362, 1188192, 1188183, 1188081, 1188079, 1187858, 1187860, 1187861, 1187828, 1187795, 1187668, 1187576, 1187543, 1187539, 1189289, 1189299, 1189391, 2026650, 1824371, 1826280, 1826460, 1826555, 1826661, 1834060, 1836741, 1841770, 2602985, 1189396, 2710861, 2154194, 1525763, 2157236, 2612737, 1189559, 1189507, 1189429, 1191193, 1191311, 1187536, 2625440, 2628040, 2630650, 2639798, 2706996, 2710248, 2710253, 2710637, 2710690, 2710714, 2710835, 2710877, 2710944, 2711056, 2711088, 2711097, 2711304, 2711554, 2711634, 2711749, 2625885, 2624571, 2685828, 2623451, 1396570, 1396630, 1397323, 1398317, 1401921, 1449768, 2008235, 21801, 1344185, 1426513, 2678247, 2678248, 2678250, 1780218, 1811150, 1848064, 1852709, 2622450, 2623002, 2711812, 2712118, 2712435, 2712460, 2191519, 2192649, 2194397, 2334826, 2737780, 1216541, 1331482, 1337150, 1340752, 2667796, 2672637, 2249355, 2314758, 2438275, 2439195, 1220125, 1331155, 1417337, 1712794, 2191401, 2191242, 2191139, 2714923, 2712655, 2712718, 2713296, 2713747, 2713873, 2713883, 2714094, 2714922, 2714976, 2191107, 2715880, 2717825, 2749004, 2750564, 2751157, 2752331, 2762223, 2190986, 1187538, 1187535, 1819957, 2798908, 2798895, 2798916, 2798935, 2798737, 2798768, 2798680, 2798770, 2798860, 2798830, 2798814, 2798616, 2798610, 2798164, 2798034, 2798017, 2797702, 2797122, 288243, 2018129, 2798889, 2798942, 2799753, 2799049, 2799576, 2799561, 2799558, 2799519, 2799518, 2799375, 2799369, 2799364, 2799351, 2799314, 2799293, 2799261, 2799189, 2799178, 2799164, 2799126, 2799111, 2799100, 2799089, 2058386, 2571920, 89609, 849374, 2762605, 2762558, 2762239, 2761951, 2761854, 2761839, 2761752, 2761729, 2761703, 2761445, 2761379, 2761363, 2761275, 2761156, 2761105, 2761104, 2761102, 2761100, 2761085, 2762744, 2763122, 2764235, 2769896, 1122211, 1382682, 1431510, 1800490, 2145639, 2790724, 2774830, 2774520, 2768578, 2764716, 2768213, 2768107, 2767374, 2765912, 2765893, 2765822, 2766166, 2765603, 2799746, 2799754, 1187528, 1186025, 1185634, 1183799, 1182696, 1179018, 1178194, 1176680, 1131602, 839531, 837381, 2571074, 2081596, 2221933, 2606968, 2112414, 2113335, 2113770, 2113830, 2113831, 2113916, 1185996, 1186050, 2799756, 1186246, 1187419, 1187407, 1187252, 1187253, 1187254, 1187213, 1187177, 1187148, 1187146, 1187145, 1187143, 1187141, 1187139, 1186926, 1186804, 1186540, 1186499, 1186289, 1186258, 2114059, 2114346, 2116155, 2116266, 2806338, 2804790, 2803477, 2803425, 2802841, 2801996, 2801620, 2801487, 2801377, 2801245, 2800930, 2800736, 2800724, 2800236, 2800122, 2800051, 2799944, 2799884, 2799866, 2806771, 2809646, 2810278, 2650952, 2123423, 2501013, 2747953, 2748435, 2059146, 2059486, 2721019, 2657084, 102707196, 2820754, 102667694, 2856498, 2845681, 2844414, 2843204, 2834380, 2832854, 2829780, 1396420, 1396419, 1395723, 102694027, 2470288, 2206447, 2137569, 2137568, 2090855, 2082829, 1947786, 1932849, 1918586, 1817279, 1773078, 1750308, 1749941, 1695548, 1655024, 1652884, 1615483, 1567555, 1480036, 2503445, 2464668, 1919500, 2464891, 1919437, 1919435, 1919323, 1919317, 1919240, 1919033, 1918985, 1918971, 1918957, 1918916, 1918762, 1918668, 2607653, 2290763, 2719270, 2471422, 2465704, 2465456, 2464983, 1451437, 1368162, 1366691, 1365179, 1232241, 1231522, 1229628, 1222622, 1219156, 1209830, 1209694, 1205316, 1204833, 1202718, 1201534, 1201262, 1200366, 1199830, 1199782, 1199382, 1199130, 1198613, 1198001, 1234291, 1235351, 1236510, 1291640, 1358562, 1352350, 1350701, 1326157, 1324089, 1309478, 1304151, 1304150, 1279392, 1238115, 1255981, 1248381, 1246452, 1245820, 1243852, 1240799, 1239296, 1238790, 1919438, 1920451, 1394346, 2337047, 2337025, 2337002, 2336998, 2336984, 2336983, 2336982, 2336979, 2336977, 2336944, 2336928, 2336926, 2336923, 2336909, 2336890, 2336885, 2336880, 2336871, 2336834, 2336827, 2337040, 2337064, 2082167, 2337068, 1668176, 1228272, 2337592, 2337590, 2337513, 2337483, 2337471, 2337391, 2337363, 2337352, 2337323, 2337310, 2337282, 2337251, 2337249, 2337243, 2337183, 2337099, 2337087, 2336814, 2336811, 2336759, 2336754, 2326987, 2326986, 2326983, 2326890, 2326888, 2326756, 2326713, 2326709, 2326691, 2326689, 2326688, 2326687, 2326574, 2326548, 2326122, 2326120, 2325715, 2324459, 2170128, 2326988, 2326999, 2327094, 2336193, 2336739, 2336737, 2336736, 2336670, 2336581, 2336556, 2336542, 2336319, 2335478, 2327162, 2330109, 2329158, 2327797, 2327790, 2327373, 2327321, 2327182, 2327175, 1197530, 1197432, 1197431, 2068316, 2068373, 2068528, 2068535, 2068542, 2068544, 2068874, 2070366, 2070436, 2070489, 2071713, 2071759, 2073348, 2075122, 2081079, 2084569, 2086818, 2094399, 2096593, 2097259, 2068372, 2068151, 1197428, 2068070, 2064842, 2064908, 2065211, 2065226, 2065302, 2065399, 2065480, 2065509, 2065584, 2065585, 2065622, 2065719, 2065752, 2066200, 2066202, 2066688, 2067104, 2067907, 2068030, 2097398, 2097480, 2097634, 2097635, 1417630, 1475713, 1842854, 2005226, 2256376, 2270294, 2328822, 2355223, 2371884, 2640871, 2759559, 2759566, 2759569, 2759572, 1252141, 1252356, 1386651, 1394031, 1394342, 1315871, 1311059, 1147377, 2145497, 2097636, 2097715, 2097859, 2098145, 2098202, 2106551, 2109262, 2114727, 2337462, 7726, 2402712, 2420283, 2486507, 2505182, 2553092, 2729355, 2739952, 2792715, 2064198, 2060266, 2059881, 2220155, 1192920, 1192919, 1192918, 1192917, 1192916, 1192914, 1192912, 1192911, 1192766, 1192692, 1192688, 1192684, 1192674, 1192576, 1192529, 1192500, 1192472, 1192464, 2220106, 1192922, 1192923, 1192925, 1195610, 1197426, 1197424, 1197333, 1197135, 1196556, 1196453, 1196056, 1195632, 1195305, 1193091, 1195030, 1193958, 1193839, 1193092, 1193090, 1193088, 1193087, 1193089, 2220153, 2220373, 2059498, 2221036, 2059082, 2059090, 2059117, 2059118, 2059149, 2059162, 2059173, 2059178, 2059182, 2059188, 2059200, 2059261, 2059305, 2059341, 2059348, 2059429, 2059462, 2059483, 2059495, 2059056, 2058980, 2058946, 2057260, 2221330, 2221885, 2222423, 2222553, 2222673, 2009937, 2046259, 2051931, 2057327, 2058842, 2057508, 2057819, 2058556, 2058586, 2058606, 2058775, 2058798, 2058814, 2557108, 2707293, 2707825, 2569167, 2569373, 2569501, 2569552, 2569569, 2569607, 2569669, 2569681, 2569711, 2569698, 2569709, 2569736, 2569788, 2569818, 2570070, 2570068, 2570108, 2570205, 2570292, 2570327, 2569240, 2568707, 2566046, 2568621, 2566289, 2566350, 2566504, 2566591, 2566614, 2567054, 2567107, 2567278, 2567342, 2567359, 2567375, 2567485, 2567613, 2567654, 2567918, 2568055, 2568119, 2568368, 2568495, 2570339, 2570426, 2570615, 2570617, 2571789, 2571800, 2571908, 2571923, 2571933, 2571983, 2572002, 2572053, 2572059, 2572069, 2572335, 2572379, 2572386, 2572396, 2572439, 2572456, 2572574, 2572581, 2572589, 2571750, 2571712, 2571708, 2571120, 2570671, 2570726, 2570731, 2570984, 2570986, 2570995, 2571087, 2571095, 2571148, 2571691, 2571226, 2571281, 2571302, 2571305, 2571398, 2571637, 2571642, 2571675, 2566090, 2566023, 2404554, 2404815, 2404867, 2404889, 2404905, 2404918, 2404924, 2404925, 2404927, 2404982, 2404992, 2404993, 2405003, 2405016, 2405045, 2405100, 2405102, 2405138, 2405193, 2405487, 2405786, 2404845, 2404814, 2566014, 2404799, 2404567, 2404583, 2404588, 2404593, 2404604, 2404602, 2404615, 2404624, 2404647, 2404649, 2404653, 2404660, 2404690, 2404694, 2404710, 2404757, 2404767, 2404772, 2404785, 2406207, 2406360, 2406388, 2406492, 2605626, 2615704, 2634610, 2689520, 2700843, 2703651, 2704301, 2728645, 2559284, 2451025, 2451781, 2454288, 2486397, 2489689, 2491483, 2492289, 2740457, 2565961, 2565975, 2559646, 2557665, 2525063, 2407465, 2406643, 2406739, 2406964, 2406998, 2407007, 2407013, 2407302, 2407379, 2410677, 2517397, 2414568, 2427165, 2427692, 2440747, 2450535, 2452637, 2489877, 2504783, 2572620, 2572635, 2572660, 1890942, 2069054, 2069055, 2309872, 2342523, 2530807, 2544556, 2698960, 2715907, 2744975, 102697477, 2200161, 2415542, 2538293, 2714677, 1173889, 1185579, 1246443, 102032, 102027, 1936496, 1782497, 2572780, 1751234, 1958242, 1429335, 1446337, 2670399, 2339302, 808301, 1288553, 1307215, 1317455, 1319125, 1319950, 1321616, 1344291, 1364052, 1373503, 1404716, 1480337, 1492852, 1573768, 102021, 102036, 102034, 757531, 2221110, 2221111, 2221112, 2221113, 2225578, 2226112, 2226287, 2229215, 2230255, 2236195, 2236240, 2236696, 2236697, 2331852, 2599453, 102704417, 1705125, 1922388, 1930108, 2195601, 2614065, 2612657, 2399542, 1667596, 2008410, 2456864, 2457718, 2375011, 2376071, 2384019, 2399167, 2434990, 2491236, 2439820, 2443352, 2445806, 2450003, 2460437, 2530347, 1468881, 2566535, 1955045, 1951812, 2075442, 2817262, 2581835, 2583528, 2583894, 2584178, 2590861, 2591592, 2593361, 2595380, 2598903, 2608086, 2615977, 2616823, 2629083, 2658486, 2661223, 2686694, 2699108, 2701274, 2708025, 2580859, 2578206, 2577949, 2573625, 2572900, 2573069, 2573084, 2573082, 2573088, 2573312, 2573482, 2573548, 2573793, 2576934, 2573805, 2574002, 2575059, 2575337, 2575544, 2575593, 2576649, 2576752, 2742285, 2827732, 2654019, 102722162, 102692703, 102729110, 2246671, 2256964, 2256977, 2256979, 2279460, 2280087, 2335185, 2434987, 2719406, 2798316, 2798304, 2797845, 2586835, 2587030, 2587989, 2588405, 2602116, 2457330, 2468891, 2392529, 1291045, 10934, 214690, 748315, 750769, 839970, 1142151, 1245237, 1287550, 1344807, 2098273, 1413683, 1444986, 1755976, 1803800, 1804051, 1811515, 1813121, 1967157, 2404559, 2404534, 2822414, 1855449, 1855430, 1855429, 1855419, 1855418, 1855416, 1855404, 1855403, 1855401, 1855383, 1855373, 1855372, 1855363, 1855361, 1855358, 1855351, 1855339, 1855322, 1855321, 1855318, 1855438, 1855466, 1855637, 1855474, 1855578, 1855566, 1855558, 1855553, 1855549, 1855548, 1855542, 1855540, 1855536, 1855523, 1855515, 1855511, 1855508, 1855503, 1855501, 1855500, 1855491, 1855484, 1855481, 1855305, 1855296, 1855282, 1855275, 1855173, 1855172, 1855168, 1855156, 1855148, 1855142, 1855141, 1855126, 1855123, 1855115, 1855113, 1855107, 1855105, 1855104, 1855103, 1855088, 1855071, 1855063, 1855055, 1855181, 1855182, 1855185, 1855233, 1855271, 1855262, 1855260, 1855254, 1855250, 1855248, 1855243, 1855240, 1855231, 1855194, 1855227, 1855223, 1855217, 1855207, 1855206, 1855199, 1855197, 1855196, 1855626, 1855658, 2404529, 102711788, 2768355, 2746142, 2745269, 2728578, 2704629, 2594727, 2585812, 2524423, 2150739, 2149350, 2107393, 2027639, 2025522, 2014952, 2008194, 1984064, 1971010, 1962619, 1933226, 2855184, 102663625, 1855678, 2676356, 9051, 794976, 831123, 1144837, 1183266, 1253596, 1276696, 1292803, 1313373, 1403635, 1404298, 1749782, 2087797, 2122704, 2236925, 2295910, 2447064, 2618311, 2642610, 1924956, 1922583, 1917854, 1886941, 1857208, 1857155, 1856839, 1856836, 1856629, 1856226, 1856195, 1856100, 1855984, 1855952, 1855904, 1855827, 1855821, 1855800, 1855761, 1855739, 1855714, 1855708, 1855686, 1857450, 1857865, 1858474, 1868747, 1879910, 1876763, 1876501, 1874934, 1873375, 1873108, 1870014, 1868934, 1865599, 1859006, 1864662, 1860566, 1859986, 1859622, 1859410, 1859274, 1859240, 1859170, 1855049, 1855044, 1855043, 102675807, 102674239, 102670611, 102670495, 102670326, 102668869, 102668530, 102668524, 102668455, 102667043, 102667003, 102666874, 102666823, 102666345, 102666280, 102666247, 102666209, 102665769, 102665323, 102664141, 102674241, 102679976, 1855041, 102699400, 1854603, 1854572, 1854571, 1854570, 1854569, 1854568, 1854554, 1854535, 1854534, 1854414, 1853770, 1853737, 1853385, 1853158, 1853156, 1851977, 102708165, 102704116, 102703298, 102663772, 2821058, 2818553, 2818546, 102757827, 102758648, 102758681, 102759647, 102760070, 2404496, 2404518, 2404530, 2404532, 2404485, 2404494, 2404495, 2404499, 2404500, 2404501, 2404502, 2404503, 2404520, 2404525, 102757497, 102756335, 2798323, 2799556, 2816254, 2812006, 2803182, 2802895, 2801877, 2801879, 2799925, 2799645, 2799425, 2798326, 2799399, 2799294, 2798978, 2798722, 2798847, 2798627, 2798598, 2798330, 1854608, 1854616, 1854629, 1854822, 1854928, 1854919, 1854916, 1854912, 1854904, 1854902, 1854900, 1854899, 1854896, 1854886, 1854878, 1854876, 1854867, 1854850, 1854849, 1854848, 1854845, 1854839, 1854838, 1854932, 1854940, 1854947, 1854992, 1855034, 1855032, 1855020, 1855019, 1855015, 1855014, 1855002, 1854996, 1854985, 1854948, 1854981, 1854975, 1854971, 1854961, 1854959, 1854956, 1854953, 1854950, 1854830, 1854820, 1854634, 1675970, 1854819, 1854815, 1854812, 1854810, 1854805, 1854785, 1854784, 1854733, 1854724, 1854723, 1854718, 1854712, 1854704, 1854697, 1854680, 1854668, 1854663, 1854648, 1854643, 2059850, 2028181, 2027209, 1683250, 1905132, 1679044, 1680692, 1680707, 1680806, 1681643, 1681644, 1683175, 1683431, 1695965, 1683476, 1683713, 1683939, 1683940, 1684411, 1684436, 1689063, 1690996, 1663602, 1663465, 1663463, 2371627, 2371668, 2371673, 2371674, 2371676, 2371677, 2371698, 2371724, 2371731, 2371732, 2371742, 2371773, 2371775, 2371793, 2371799, 2371803, 2371817, 2371833, 2371840, 2371882, 2371632, 2371613, 102692854, 2370513, 2364627, 2364628, 2364692, 2364825, 2364921, 2364922, 2365176, 2365268, 2365390, 2365621, 2365622, 2365623, 2365624, 2365922, 2365970, 2367915, 2368370, 2368549, 2369525, 2371906, 2371911, 2372008, 2372109, 2373044, 2373135, 2373151, 2373210, 2373328, 2373334, 2373460, 2373693, 2377224, 2377482, 2379031, 2390551, 2420011, 2422523, 2427139, 2427744, 2433296, 2433637, 2467845, 2372808, 2372804, 2372795, 2372460, 2372111, 2372117, 2372118, 2372169, 2372191, 2372328, 2372356, 2372415, 2372462, 2372714, 2372504, 2372531, 2372690, 2372694, 2372699, 2372700, 2372702, 2372705, 2364332, 2845433, 2501059, 2355703, 2354631, 2354404, 2354111, 2350418, 2348285, 2347415, 2345975, 2342569, 2316072, 76934, 76963, 76945, 76935, 76942, 76936, 76943, 76944, 76962, 76933, 2355024, 2358403, 2750966, 2359462, 2429679, 2422434, 2420590, 2419619, 2414261, 2413224, 2407367, 2400734, 2370460, 2370459, 2369555, 2369157, 2369153, 2366950, 2366546, 2366407, 2365705, 2363613, 2362232, 76955, 76964, 76947, 203238, 1839308, 1869981, 2008366, 2546302, 2546306, 2546314, 2546317, 2546318, 2546319, 2546320, 2546321, 2546322, 2546324, 2546329, 2546333, 2546355, 2571008, 2573231, 2722309, 1724668, 1724667, 1724666, 1232884, 76939, 193295, 297170, 303628, 811694, 822289, 1186095, 1202250, 1253506, 1724665, 1254311, 1255058, 1265436, 1435346, 1445049, 1460232, 1481187, 1709201, 2526913, 2527953, 2530614, 2325163, 2338313, 2343792, 2343793, 2344799, 2344800, 2344801, 2344814, 2348981, 2356041, 2366959, 2367232, 2368367, 2375830, 2400691, 2423801, 2474764, 2535832, 2555340, 2607141, 2325267, 2325106, 2558406, 2324885, 2306985, 2307037, 2307046, 2307066, 2307105, 2307115, 2307425, 2307446, 2308326, 2308975, 2310059, 2313351, 2316645, 2319731, 2324191, 2324512, 2324646, 2324736, 2324737, 2611472, 2715201, 2827366, 2827377, 1800161, 1800188, 1800290, 1800361, 1800369, 1800464, 1800743, 1800822, 1800944, 1800976, 1800990, 1801011, 1801140, 1801215, 1802180, 2732561, 2732563, 2733486, 1267971, 1799878, 1724699, 1713182, 2527089, 2831021, 102744910, 2633378, 2684633, 2455546, 2455638, 2463124, 2471069, 2655512, 2340551, 1470875, 1720531, 1720533, 2116618, 2639998, 2759083, 2845358, 2341119, 2306921, 2306803, 2306324, 2681827, 1747986, 1748001, 1748010, 1748031, 1748053, 1748513, 1824307, 1830780, 1831049, 1831139, 1831140, 1831513, 1832773, 1832781, 1834994, 1951139, 2557351, 2680201, 2545718, 1747981, 1747973, 1747958, 1332024, 2563224, 2615267, 2616282, 2692902, 2692903, 1220352, 1225225, 1242064, 1423397, 1747873, 2513047, 1865663, 1702878, 1704964, 1744491, 1747848, 1747856, 1747864, 2681604, 2682355, 2304413, 2683292, 2296126, 2296130, 2296362, 2296484, 2296581, 2296643, 2296678, 2297121, 2297257, 2297280, 2297285, 2297347, 2297386, 2297397, 2297456, 2297526, 2297873, 2298815, 2302902, 2296086, 2296040, 2295871, 1682809, 2686715, 2705177, 1429250, 2824886, 102689629, 1682804, 1682807, 1682808, 1841409, 2295832, 2836630, 2294690, 2294691, 2294692, 2294693, 2294694, 2294695, 2294696, 2449093, 2573406, 1274180, 142191, 142207, 162157, 162145, 773460, 204160, 142110, 162142, 142111, 142089, 142092, 142117, 142118, 142083, 142113, 142085, 162144, 162151, 142093, 142206, 162141, 142081, 2730300, 2202712, 1982971, 1983068, 1983098, 1983655, 1983780, 1983786, 1983994, 1984201, 1984202, 1984261, 1984482, 1984844, 1985617, 1993024, 2155270, 14443, 1315708, 1409245, 1878728, 162147, 142201, 162139, 773466, 162136, 162140, 142222, 162148, 162150, 162153, 162155, 162158, 162138, 162146, 773461, 162149, 204287, 162154, 773463, 142158, 779774, 192832, 219487, 142221, 142154, 142149, 142142, 162143, 162156, 142115, 142178, 142196, 162137, 142087, 142112, 142150, 142134, 142164, 142180, 142188, 206288, 142218, 142210, 162152, 142127, 2836029, 2705357, 2641977, 1815799, 1815746, 1815735, 1815725, 1815713, 1815705, 1815697, 1815695, 1815692, 1815687, 1815681, 1815673, 1815672, 1815579, 1815577, 1815566, 1815564, 1815559, 1815555, 1815546, 1815754, 1815932, 2628604, 1815955, 1819792, 1819769, 1818701, 1818649, 1818635, 1818469, 1818383, 1818176, 1818171, 1817713, 1817582, 1817578, 1817573, 1816377, 1816361, 1816170, 1816084, 1816072, 1816069, 1815531, 1814380, 1814357, 1814317, 2509993, 2510286, 2511419, 2511523, 2512210, 2512322, 2512758, 1813727, 2518863, 2532023, 2541379, 2570265, 2583656, 2584019, 2625619, 2625732, 2625809, 2625947, 2626556, 1813731, 1813740, 1813745, 1814049, 1814229, 1814224, 1814205, 1814170, 1814150, 1814148, 1814077, 1814056, 1814024, 1813763, 1814021, 1814001, 1813984, 1813974, 1813972, 1813919, 1813893, 1813851, 268710, 284905, 294164, 1813228, 1813224, 1813212, 1813208, 1813198, 1813193, 1813189, 1813185, 1813180, 1813176, 1813170, 1813160, 1813159, 1813150, 1813145, 1813141, 1813134, 1813119, 1813117, 1813116, 1813226, 1813229, 727647, 1813234, 1813570, 1813569, 1813566, 1813561, 1813553, 1813551, 1813541, 1813540, 1813535, 1813533, 1813531, 1813523, 1813522, 1813517, 1813512, 1813501, 1813378, 1813240, 1813235, 1813114, 1813112, 1813098, 1813092, 1812763, 1812760, 1812739, 1812737, 1812701, 1812700, 1812684, 1812683, 1812682, 1812676, 1812672, 1812609, 1812606, 1812604, 1812590, 1812569, 2763897, 2755709, 2711587, 1812849, 1812850, 1812861, 1813022, 1813084, 1813083, 1813082, 1813057, 1813054, 1813047, 1813040, 1813038, 1812969, 1812865, 1812962, 1812960, 1812942, 1812939, 1812922, 1812904, 1812898, 1812867, 1813572, 1813574, 1813576, 102712720, 2853899, 2853902, 2854225, 2854260, 2854982, 2855037, 2855175, 2855482, 2855644, 2855907, 2856361, 102651659, 102651922, 102653152, 102655513, 102660246, 102660677, 102702379, 102711937, 2853758, 2458321, 2474221, 2683505, 761013, 840613, 1143145, 1169719, 1183023, 1747669, 1950417, 2517676, 2768401, 102796136, 1585646, 201278, 1217886, 1424911, 2454420, 1601774, 1618529, 102717217, 102712689, 102712736, 1813584, 102712749, 1813720, 1813719, 1813698, 1813693, 1813692, 1813686, 1813657, 1813656, 1813641, 1813640, 1813627, 1813625, 1813623, 1813620, 1813611, 1813608, 1813602, 1813599, 1813595, 2620855, 2462228, 2461271, 102716638, 102712843, 102713110, 102713113, 102713148, 102713174, 102713417, 102713986, 102714991, 102744701, 2460895, 102751123, 2535472, 2174969, 2703031, 2347904, 2348129, 2356648, 2357935, 1272498, 1274790, 1663338, 1497374, 1497379, 1893860, 1497384, 1497387, 1497399, 1497459, 1497467, 1497471, 1497473, 1497476, 1497498, 1497503, 1497508, 1497511, 1497524, 1497525, 1497529, 1497535, 1497539, 1497378, 1497370, 1497050, 1497367, 1497147, 1497182, 1497192, 1497197, 1497198, 1497205, 1497206, 1497219, 1497220, 1497223, 1497229, 1497250, 1497251, 1497260, 1497263, 1497275, 1497277, 1497311, 1497357, 1497542, 1497546, 1497548, 1497554, 1497610, 1497611, 1497614, 1497620, 1497662, 1497703, 1497798, 1498319, 1498331, 1498406, 1498617, 1498646, 1498875, 1499023, 1499386, 1499450, 1500195, 1500294, 1502008, 1497609, 1497606, 1497602, 1497574, 1497555, 1497560, 1497564, 1497568, 1497569, 1497571, 1497572, 1497573, 1497581, 1497601, 1497584, 1497585, 1497587, 1497588, 1497589, 1497595, 1497596, 1497600, 1497101, 1497002, 2192585, 2272588, 1752985, 1760178, 1760575, 1761216, 1774290, 1780206, 1849690, 2026808, 2279673, 1358851, 1532018, 2756238, 2706540, 2448513, 1898229, 755434, 838420, 839016, 848121, 1915185, 2337680, 1496858, 2337748, 2192644, 2198037, 2205555, 755237, 1177808, 1192874, 1331960, 1608081, 1708650, 1779926, 2275431, 1704797, 1706211, 2432088, 2432108, 2482463, 2544328, 2737244, 2337751, 1334896, 1424006, 1431140, 1486334, 2815647, 2815957, 2816794, 2817865, 2850943, 102653316, 1494529, 1496271, 1496376, 1496383, 1496390, 1496507, 1496540, 1496541, 1496621, 1496765, 1496791, 1496808, 1496834, 2814350, 2742565, 2758391, 102730478, 1496971, 2019471, 2231519, 2633360, 2668412, 2686395, 2820038, 2821783, 1390751, 2716789, 1428104, 2225355, 2406136, 2407368, 2448796, 2455343, 2476990, 2524439, 1502317, 1502665, 1503084, 102761506, 102764107, 102765470, 102765580, 102767453, 102769889, 102772722, 102772988, 102774026, 102774309, 102774883, 102776234, 102779431, 102779433, 102781257, 102784174, 102785179, 102785317, 242804, 247040, 102762717, 102761153, 1503098, 102760257, 102756498, 102756509, 102756662, 102756754, 102757582, 102757591, 102757649, 102757757, 102757863, 102757887, 102758212, 102758267, 102758322, 102758513, 102758715, 102758829, 102759959, 102760113, 102760160, 283810, 798965, 802243, 802459, 1359801, 1368497, 1427701, 1443017, 1688471, 1766004, 1816692, 1821085, 2408582, 2138857, 2189952, 2190227, 2190329, 2190452, 2190453, 1447259, 1450073, 1548133, 1662922, 1355141, 1341069, 1179181, 802957, 802500, 802563, 802592, 802636, 802673, 802727, 802948, 802953, 802959, 1134266, 802960, 804255, 804274, 805566, 806159, 806402, 811679, 1122717, 102756317, 102756080, 102756052, 102754645, 102731050, 102731114, 102731431, 102732556, 102733195, 102733436, 102734236, 102734609, 102734686, 102734769, 102734895, 102734974, 102737114, 102737161, 102743118, 102751987, 102752490, 102752956, 102754086, 102730774, 102730765, 102730761, 1612486, 1503101, 1503105, 1503094, 1505975, 1506853, 1513179, 1553696, 1603186, 1640042, 102730760, 2516093, 2647176, 2728864, 102730559, 102730579, 102730641, 102730665, 102730740, 102754527, 102754824, 102756002, 102754935, 102755438, 102755447, 102755475, 102755552, 102755576, 102755618, 102755633, 102755681, 102755688, 102755689, 102755691, 102755720, 102755752, 102755777, 102755816, 102755819, 102755852, 102755956, 102755968, 102755437, 102755415, 102755412, 102755152, 102755012, 102755027, 102755032, 102755033, 102755034, 102755046, 102755048, 102755150, 102755154, 102755402, 102755185, 102755197, 102755200, 102755213, 102755222, 102755326, 102755336, 102755354, 2192620, 2192363, 1275519, 1280102, 1281774, 1282515, 1284111, 1285243, 1292760, 1300400, 1302247, 1303103, 1303350, 1303949, 1312568, 1319994, 1332099, 1346335, 1349480, 1358529, 1369660, 1542735, 1620905, 1280880, 1279833, 1276882, 1279821, 1276915, 1276918, 1276920, 1277276, 1277284, 1277305, 1277511, 1277528, 1277555, 1277582, 1277811, 1277972, 1277995, 1278118, 1278305, 1278436, 1279620, 1279652, 1279785, 1819711, 1948915, 2443023, 2578317, 2339122, 2338841, 2338732, 2338278, 2337990, 2337785, 2201335, 2575741, 16952, 16955, 733698, 788683, 1147534, 1179504, 1188287, 1205600, 1287548, 1321161, 1389825, 2339123, 2339147, 1787439, 2169035, 2646194, 2340527, 2340052, 2340051, 2340037, 2339899, 2339461, 2339290, 1847513, 102776388, 2745163, 102685075, 102685119, 102685943, 2510602, 2568580, 2569269, 2569428, 1276906, 1276875, 2192317, 1276251, 1276258, 1276260, 1276263, 1276265, 1276266, 1276267, 1276273, 1276275, 1276301, 1276303, 1276337, 1276338, 1276342, 1276344, 1276381, 1276383, 1276384, 1276387, 1276389, 1276254, 1276244, 1276712, 1276241, 1275793, 1275795, 1275906, 1275917, 1275952, 1276095, 1276102, 1276112, 1276124, 1276129, 1276134, 1276141, 1276195, 1276202, 1276204, 1276212, 1276213, 1276230, 1276239, 1276390, 1276422, 1276428, 1276432, 1276612, 1276614, 1276616, 1276618, 1276619, 1276622, 1276623, 1276626, 1276629, 1276635, 1276642, 1276643, 1276660, 1276673, 1276676, 1276680, 1276681, 1276694, 1276711, 1276610, 1276609, 1276608, 1276578, 1276436, 1276444, 1276448, 1276462, 1276534, 1276552, 1276559, 1276570, 1276582, 1276605, 1276585, 1276589, 1276593, 1276594, 1276595, 1276599, 1276600, 1276602, 1403682, 1411772, 1431139, 745125, 1168067, 1177182, 1406114, 1407365, 1444768, 2009260, 2661017, 2691084, 102688831, 102748365, 1567995, 13171, 13170, 774229, 13180, 304700, 745577, 761913, 809767, 796501, 295017, 1472444, 239917, 1933771, 1933993, 1936783, 2261410, 2262924, 102739080, 102741783, 110664, 2156700, 2161658, 2162298, 2162726, 2162804, 2163696, 2163779, 2167954, 2170286, 773371, 12914, 836140, 838538, 1118832, 1118995, 2774013, 38576, 744819, 801824, 1189828, 1302990, 1383493, 1426211, 1712833, 2357449, 215817, 1302529, 1407347, 2132378, 2484844, 2191933, 2191960, 2192088, 2192222, 2683753, 2673673, 2568440, 1317243, 1121592, 1124795, 1177661, 1190529, 1207347, 1223671, 1288031, 1316552, 1334924, 2382311, 1348640, 1407738, 1488529, 1509619, 1613735, 1643211, 1742573, 1949094, 1933536, 1933177, 1930565, 162567, 162579, 162581, 138375, 138386, 138402, 138406, 138429, 138436, 162577, 162578, 138374, 138376, 138387, 138428, 138431, 162572, 162575, 138373, 138390, 138433, 162570, 2716131, 2561577, 1481988, 1498669, 1669741, 1669751, 1671697, 2561450, 2561466, 2561576, 2561580, 2275731, 2561582, 2828588, 2154343, 2497632, 1274554, 1333869, 1449927, 1449929, 138378, 138443, 1930305, 138405, 138448, 138451, 162566, 199290, 250465, 295466, 731350, 760503, 819207, 822374, 1139015, 1378373, 1509360, 1608903, 1608905, 1745259, 1863231, 1936695, 2577123, 138447, 138398, 138414, 162574, 138372, 138430, 777352, 162565, 162568, 138388, 138391, 138382, 138415, 162571, 138403, 162580, 162573, 138427, 138442, 138380, 138389, 162569, 2618695, 234771, 2173761, 1316623, 2814918, 2814916, 2814917, 2814913, 2814914, 2728776, 2410094, 2385975, 2008654, 1687424, 1676574, 1418406, 1314618, 2572047, 1249476, 1238162, 1209647, 1196110, 1163827, 843209, 841019, 782262, 22873, 2804269, 2804270, 2804268, 102676707, 102738588, 102758085, 1680078, 2689915, 2694091, 2852876, 2852783, 2852727, 2852684, 2852668, 2852667, 2852662, 2852624, 2852599, 2852520, 2852500, 2852487, 2852481, 2852478, 2852468, 2852430, 2852413, 2852394, 2852393, 2852383, 2852366, 1740542, 1702236, 2804272, 2804273, 2804324, 2808692, 2808862, 2808911, 2808912, 2808978, 2808990, 2809000, 2809038, 2809037, 2809058, 2809064, 2809102, 2809127, 2809135, 2809138, 2809161, 2809183, 2809185, 2809269, 2809281, 2809394, 2809431, 2809444, 2809448, 2809482, 2809495, 2808788, 2808651, 2804585, 2808647, 2804609, 2804675, 2804683, 2804777, 2804860, 2804880, 2805097, 2373897, 2374325, 2374693, 2375671, 2386992, 2391435, 2392073, 2466338, 2805256, 2805470, 2806011, 2807048, 2807050, 2807332, 2808532, 2808554, 2808624, 2808627, 2640725, 2569526, 2809515, 102700751, 102652044, 102651833, 102651550, 102651540, 2856898, 2856837, 2856798, 2856683, 102699244, 102699341, 102699380, 102700358, 102700788, 2567727, 102704044, 2856587, 2856559, 2856168, 2855837, 2855653, 2853954, 2853935, 2853708, 2853678, 2853305, 102776223, 102652251, 102652267, 102652593, 102652662, 102739174, 102737483, 102733434, 102728463, 102728154, 102708525, 102703852, 102697969, 102692645, 102692205, 102690425, 102689025, 102688930, 102672289, 102671552, 102670518, 102662160, 102662025, 102660176, 102659986, 102656526, 102655755, 102655686, 102652664, 102652663, 2485917, 2479154, 2403992, 2419636, 2420065, 2420836, 2420889, 2421595, 2422069, 2422070, 2422071, 2422072, 2422073, 2425963, 2426656, 2427104, 2430065, 2434793, 2434876, 2443120, 2443388, 2446201, 2447096, 2447352, 2452255, 2460488, 2462389, 2523898, 2537502, 2419895, 2419483, 1332061, 2419356, 1245306, 2853227, 102636002, 2853120, 2853073, 2853071, 2853069, 2853043, 2852962, 2852939, 2852916, 2383547, 2383646, 2386997, 2390858, 2390966, 2392495, 2417780, 2418481, 2418673, 2418981, 2419066, 2419081, 2419246, 2419301, 2809511, 2809535, 102777494, 2811050, 2784918, 2784920, 2784921, 2784922, 2784926, 2784925, 2784933, 2784932, 2810697, 2810855, 2810994, 2811040, 2811195, 2810357, 2811245, 2811254, 2811498, 2811501, 2811503, 2811526, 2811555, 2811600, 2811648, 2811652, 2811655, 2811666, 2784914, 2784913, 2784916, 2784911, 2810387, 2810401, 2810419, 2810475, 2810478, 2851750, 2851753, 2851766, 2851803, 2851954, 2851981, 2852022, 2852114, 2852119, 2852131, 2852145, 2852156, 2852153, 2810484, 2810504, 2810632, 2810645, 2810667, 2810681, 1950516, 2811700, 2811703, 2811828, 2817206, 2818587, 2819570, 2819584, 2821392, 2832729, 2834120, 2834149, 2834601, 2834639, 2844623, 2849366, 102656054, 102663795, 102719632, 102726312, 102739115, 102740998, 102793245, 2845534, 2390351, 1258036, 2852227, 2852257, 2852351, 2852365, 2818402, 2816898, 2811855, 2816321, 2811857, 2811960, 2812089, 2812088, 2812152, 2812205, 2812215, 2812566, 2812744, 2812763, 2812832, 2812870, 2813253, 2813286, 2813701, 2813714, 2814340, 2814860, 2814892, 2815457, 2815487, 2815524, 2815623, 2815900, 2816081, 2810361, 2810341, 2809554, 2809727, 2804352, 2805165, 2806691, 2808881, 2809633, 2809663, 2809682, 2809685, 2809691, 2809703, 2809698, 2809704, 2809740, 2810340, 2809777, 2809780, 2809788, 2809808, 2809816, 2809826, 2809880, 2809886, 2809918, 2809921, 2809925, 2809942, 2803509, 2802587, 2801710, 2801676, 2809553, 2809562, 2809591, 2792276, 2792615, 2793789, 2794885, 2795333, 2797539, 2799046, 2799860, 2799894, 2799943, 2799972, 2800434, 2800575, 2800647, 2800778, 2801090, 2801151, 2801205, 2801214, 2801485, 2801515, 2801614, 2809945, 2809969, 2809978, 2841618, 2850584, 2851043, 2851303, 2851304, 2851468, 2851519, 2851529, 2851714, 2851730, 2851731, 2851739, 2810133, 2810141, 2810159, 2810193, 2810202, 2810220, 2810217, 2810214, 2810227, 2810250, 2810269, 2810279, 2810294, 2810332, 2848070, 2840616, 2806146, 2832582, 2806584, 2807033, 2807046, 2807185, 2807234, 2809980, 2809984, 2810019, 2810051, 2810069, 2810072, 2810075, 2810085, 2810093, 2810114, 2810131, 2810124, 2808186, 2809026, 2809028, 2809030, 2826953, 2830121, 2831592, 2832477, 102764198, 2854632, 102788413, 102671390, 2554831, 2559221, 2662483, 2664682, 2712102, 2715809, 2849576, 102671389, 102671393, 2337497, 102671396, 102671409, 102671413, 102671532, 102671533, 102671544, 102671551, 102671554, 2514867, 2247434, 1435686, 1562074, 1190248, 1265513, 1363640, 1372069, 1518627, 1525595, 1556945, 1562073, 1705906, 2189948, 1709676, 1715957, 1748056, 1753560, 1755004, 1797564, 1806320, 1811392, 102671576, 102671666, 102671757, 102716576, 102672424, 102672426, 102672428, 102672431, 102672432, 102672433, 102681213, 102706526, 2589329, 102671758, 2561320, 2558517, 102719875, 102776330, 1436294, 1436290, 1435993, 1435969, 102672422, 102672420, 102672419, 102672411, 2174257, 2174784, 2779687, 2713763, 2679571, 2677892, 2677130, 2676006, 2656067, 2639665, 2613615, 102671787, 102671953, 102671958, 102671965, 102672406, 102672407, 1141791, 817053, 757882, 2615041, 1549964, 1649363, 1816511, 102704860, 2817984, 2754690, 2722988, 2672499, 2582967, 1315869, 2299785, 2241590, 2240629, 2239786, 2008578, 1940303, 1806464, 1518857, 1490091, 1478488, 1471690, 1470709, 102666507, 102689102, 102689106, 1437204, 1437307, 1439997, 1441490, 1441487, 1441488, 1443453, 1444190, 1452090, 1465997, 1467012, 1468343, 1469638, 1470635, 1415404, 1256678, 748641, 1436469, 2758778, 2759105, 2759258, 2765227, 102764831, 2197854, 1436471, 1436470, 1436468, 1245285, 1436467, 1436330, 7977, 200074, 730867, 2723005, 746739, 747053, 2757981, 2757938, 1436472, 1436473, 820091, 788215, 760005, 751874, 745625, 183212, 39869, 39870, 39877, 1437198, 1437172, 1436818, 102792049, 1436477, 1436475, 1436474, 102791564, 1435895, 102658290, 2818309, 2383850, 1524495, 102791093, 1524501, 1524603, 1524696, 1524699, 1524825, 1524826, 1525090, 2610169, 2361504, 2383618, 1435636, 2383849, 2383851, 1524470, 2383852, 2701159, 1525092, 1525093, 2694068, 1525867, 1525965, 1526042, 1526487, 1526588, 1527518, 1528084, 1528270, 1528731, 1524485, 1524435, 1532300, 102690514, 2829843, 2829841, 1243723, 1744754, 2438807, 2583601, 2829844, 2829842, 2830393, 2832356, 2841201, 2847315, 102689615, 102690421, 1677659, 1524309, 102690778, 2159965, 102691635, 1714027, 102699321, 102708389, 102719102, 1439571, 1469911, 1501461, 1501604, 1507000, 1524237, 1524255, 1532233, 2383620, 1536999, 1553677, 1752599, 1888998, 2140894, 2189776, 2462625, 2562173, 2754248, 1537058, 2754249, 2824701, 1543026, 1544321, 1547742, 1549914, 1553858, 1752597, 1537038, 1559293, 1560634, 1562783, 1603484, 1635482, 1717664, 2455853, 2461216, 2467747, 2689553, 2711872, 1892940, 1435589, 1752598, 1554182, 1640627, 1364277, 2518647, 2518727, 2519110, 2519116, 1529759, 2518140, 2518030, 2351647, 2691936, 2519400, 2519573, 2520589, 2522428, 2536371, 2519180, 1368664, 1495439, 1374388, 1382168, 1390831, 1395661, 2556115, 1440824, 2522622, 2541770, 1480323, 2545218, 1509124, 1371770]\n",
      "12394\n"
     ]
    },
    {
     "data": {
      "text/plain": [
       "(1432569, 11)"
      ]
     },
     "execution_count": 18,
     "metadata": {},
     "output_type": "execute_result"
    }
   ],
   "source": [
    "\"\"\" different critics can be reviewed same movie\"\"\"\n",
    "\"\"\" review id is not a unique identifier of critic\"\"\"\n",
    "f = review_df['reviewId'].value_counts()\n",
    "f = f[f.values>1]\n",
    "print(list(f.index))\n",
    "print(len(list(f.index)))\n",
    "reviewid_unique = review_df.drop_duplicates(subset=['reviewId'], keep = 'first')\n",
    "# review_df[review_df['reviewId']==1813245]\n",
    "reviewid_unique.shape\n"
   ]
  },
  {
   "cell_type": "markdown",
   "metadata": {
    "id": "blxI-v1ZSL1n"
   },
   "source": [
    "### Merging both data set"
   ]
  },
  {
   "cell_type": "code",
   "execution_count": null,
   "metadata": {
    "colab": {
     "base_uri": "https://localhost:8080/",
     "height": 600
    },
    "id": "8MC8E0vT5blp",
    "outputId": "d22fa095-58d8-47ec-8d9f-f0c145e3afca"
   },
   "outputs": [
    {
     "name": "stdout",
     "output_type": "stream",
     "text": [
      "(1432714, 19)\n"
     ]
    },
    {
     "data": {
      "text/html": [
       "\n",
       "\n",
       "  <div id=\"df-07b9a5e2-3e40-4aaa-bd26-18fc6205792e\">\n",
       "    <div class=\"colab-df-container\">\n",
       "      <div>\n",
       "<style scoped>\n",
       "    .dataframe tbody tr th:only-of-type {\n",
       "        vertical-align: middle;\n",
       "    }\n",
       "\n",
       "    .dataframe tbody tr th {\n",
       "        vertical-align: top;\n",
       "    }\n",
       "\n",
       "    .dataframe thead th {\n",
       "        text-align: right;\n",
       "    }\n",
       "</style>\n",
       "<table border=\"1\" class=\"dataframe\">\n",
       "  <thead>\n",
       "    <tr style=\"text-align: right;\">\n",
       "      <th></th>\n",
       "      <th>id</th>\n",
       "      <th>reviewId</th>\n",
       "      <th>creationDate</th>\n",
       "      <th>criticName</th>\n",
       "      <th>isTopCritic</th>\n",
       "      <th>originalScore</th>\n",
       "      <th>reviewState</th>\n",
       "      <th>publicatioName</th>\n",
       "      <th>reviewText</th>\n",
       "      <th>scoreSentiment</th>\n",
       "      <th>reviewUrl</th>\n",
       "      <th>title</th>\n",
       "      <th>audienceScore</th>\n",
       "      <th>tomatoMeter</th>\n",
       "      <th>runtimeMinutes</th>\n",
       "      <th>genre</th>\n",
       "      <th>originalLanguage</th>\n",
       "      <th>director</th>\n",
       "      <th>writer</th>\n",
       "    </tr>\n",
       "  </thead>\n",
       "  <tbody>\n",
       "    <tr>\n",
       "      <th>0</th>\n",
       "      <td>beavers</td>\n",
       "      <td>1145982</td>\n",
       "      <td>2003-05-23</td>\n",
       "      <td>Ivan M. Lincoln</td>\n",
       "      <td>False</td>\n",
       "      <td>3.5/4</td>\n",
       "      <td>fresh</td>\n",
       "      <td>Deseret News (Salt Lake City)</td>\n",
       "      <td>Timed to be just long enough for most youngste...</td>\n",
       "      <td>POSITIVE</td>\n",
       "      <td>http://www.deseretnews.com/article/700003233/B...</td>\n",
       "      <td>Beavers</td>\n",
       "      <td>75.0</td>\n",
       "      <td>NaN</td>\n",
       "      <td>30.0</td>\n",
       "      <td>Documentary</td>\n",
       "      <td>English</td>\n",
       "      <td>Stephen Low</td>\n",
       "      <td>NaN</td>\n",
       "    </tr>\n",
       "    <tr>\n",
       "      <th>1</th>\n",
       "      <td>blood_mask</td>\n",
       "      <td>1636744</td>\n",
       "      <td>2007-06-02</td>\n",
       "      <td>The Foywonder</td>\n",
       "      <td>False</td>\n",
       "      <td>1/5</td>\n",
       "      <td>rotten</td>\n",
       "      <td>Dread Central</td>\n",
       "      <td>It doesn't matter if a movie costs 300 million...</td>\n",
       "      <td>NEGATIVE</td>\n",
       "      <td>http://www.dreadcentral.com/index.php?name=Rev...</td>\n",
       "      <td>Blood Mask</td>\n",
       "      <td>NaN</td>\n",
       "      <td>NaN</td>\n",
       "      <td>NaN</td>\n",
       "      <td>NaN</td>\n",
       "      <td>NaN</td>\n",
       "      <td>Unknown Director</td>\n",
       "      <td>NaN</td>\n",
       "    </tr>\n",
       "    <tr>\n",
       "      <th>2</th>\n",
       "      <td>city_hunter_shinjuku_private_eyes</td>\n",
       "      <td>2590987</td>\n",
       "      <td>2019-05-28</td>\n",
       "      <td>Reuben Baron</td>\n",
       "      <td>False</td>\n",
       "      <td>NaN</td>\n",
       "      <td>fresh</td>\n",
       "      <td>CBR</td>\n",
       "      <td>The choreography is so precise and lifelike at...</td>\n",
       "      <td>POSITIVE</td>\n",
       "      <td>https://www.cbr.com/city-hunter-shinjuku-priva...</td>\n",
       "      <td>City Hunter: Shinjuku Private Eyes</td>\n",
       "      <td>NaN</td>\n",
       "      <td>NaN</td>\n",
       "      <td>NaN</td>\n",
       "      <td>NaN</td>\n",
       "      <td>NaN</td>\n",
       "      <td>Kenji Kodama</td>\n",
       "      <td>NaN</td>\n",
       "    </tr>\n",
       "    <tr>\n",
       "      <th>3</th>\n",
       "      <td>city_hunter_shinjuku_private_eyes</td>\n",
       "      <td>2558908</td>\n",
       "      <td>2019-02-14</td>\n",
       "      <td>Matt Schley</td>\n",
       "      <td>False</td>\n",
       "      <td>2.5/5</td>\n",
       "      <td>rotten</td>\n",
       "      <td>Japan Times</td>\n",
       "      <td>The film's out-of-touch attempts at humor may ...</td>\n",
       "      <td>NEGATIVE</td>\n",
       "      <td>https://www.japantimes.co.jp/culture/2019/02/0...</td>\n",
       "      <td>City Hunter: Shinjuku Private Eyes</td>\n",
       "      <td>NaN</td>\n",
       "      <td>NaN</td>\n",
       "      <td>NaN</td>\n",
       "      <td>NaN</td>\n",
       "      <td>NaN</td>\n",
       "      <td>Kenji Kodama</td>\n",
       "      <td>NaN</td>\n",
       "    </tr>\n",
       "    <tr>\n",
       "      <th>4</th>\n",
       "      <td>dangerous_men_2015</td>\n",
       "      <td>2504681</td>\n",
       "      <td>2018-08-29</td>\n",
       "      <td>Pat Padua</td>\n",
       "      <td>False</td>\n",
       "      <td>NaN</td>\n",
       "      <td>fresh</td>\n",
       "      <td>DCist</td>\n",
       "      <td>Its clumsy determination is endearing and some...</td>\n",
       "      <td>POSITIVE</td>\n",
       "      <td>http://dcist.com/2015/11/out_of_frame_dangerou...</td>\n",
       "      <td>Dangerous Men</td>\n",
       "      <td>42.0</td>\n",
       "      <td>50.0</td>\n",
       "      <td>NaN</td>\n",
       "      <td>NaN</td>\n",
       "      <td>NaN</td>\n",
       "      <td>Unknown Director</td>\n",
       "      <td>NaN</td>\n",
       "    </tr>\n",
       "  </tbody>\n",
       "</table>\n",
       "</div>\n",
       "      <button class=\"colab-df-convert\" onclick=\"convertToInteractive('df-07b9a5e2-3e40-4aaa-bd26-18fc6205792e')\"\n",
       "              title=\"Convert this dataframe to an interactive table.\"\n",
       "              style=\"display:none;\">\n",
       "\n",
       "  <svg xmlns=\"http://www.w3.org/2000/svg\" height=\"24px\"viewBox=\"0 0 24 24\"\n",
       "       width=\"24px\">\n",
       "    <path d=\"M0 0h24v24H0V0z\" fill=\"none\"/>\n",
       "    <path d=\"M18.56 5.44l.94 2.06.94-2.06 2.06-.94-2.06-.94-.94-2.06-.94 2.06-2.06.94zm-11 1L8.5 8.5l.94-2.06 2.06-.94-2.06-.94L8.5 2.5l-.94 2.06-2.06.94zm10 10l.94 2.06.94-2.06 2.06-.94-2.06-.94-.94-2.06-.94 2.06-2.06.94z\"/><path d=\"M17.41 7.96l-1.37-1.37c-.4-.4-.92-.59-1.43-.59-.52 0-1.04.2-1.43.59L10.3 9.45l-7.72 7.72c-.78.78-.78 2.05 0 2.83L4 21.41c.39.39.9.59 1.41.59.51 0 1.02-.2 1.41-.59l7.78-7.78 2.81-2.81c.8-.78.8-2.07 0-2.86zM5.41 20L4 18.59l7.72-7.72 1.47 1.35L5.41 20z\"/>\n",
       "  </svg>\n",
       "      </button>\n",
       "\n",
       "\n",
       "\n",
       "    <div id=\"df-db7e4943-7c06-4f6f-a5f9-ac61b79629af\">\n",
       "      <button class=\"colab-df-quickchart\" onclick=\"quickchart('df-db7e4943-7c06-4f6f-a5f9-ac61b79629af')\"\n",
       "              title=\"Suggest charts.\"\n",
       "              style=\"display:none;\">\n",
       "\n",
       "<svg xmlns=\"http://www.w3.org/2000/svg\" height=\"24px\"viewBox=\"0 0 24 24\"\n",
       "     width=\"24px\">\n",
       "    <g>\n",
       "        <path d=\"M19 3H5c-1.1 0-2 .9-2 2v14c0 1.1.9 2 2 2h14c1.1 0 2-.9 2-2V5c0-1.1-.9-2-2-2zM9 17H7v-7h2v7zm4 0h-2V7h2v10zm4 0h-2v-4h2v4z\"/>\n",
       "    </g>\n",
       "</svg>\n",
       "      </button>\n",
       "    </div>\n",
       "\n",
       "<style>\n",
       "  .colab-df-quickchart {\n",
       "    background-color: #E8F0FE;\n",
       "    border: none;\n",
       "    border-radius: 50%;\n",
       "    cursor: pointer;\n",
       "    display: none;\n",
       "    fill: #1967D2;\n",
       "    height: 32px;\n",
       "    padding: 0 0 0 0;\n",
       "    width: 32px;\n",
       "  }\n",
       "\n",
       "  .colab-df-quickchart:hover {\n",
       "    background-color: #E2EBFA;\n",
       "    box-shadow: 0px 1px 2px rgba(60, 64, 67, 0.3), 0px 1px 3px 1px rgba(60, 64, 67, 0.15);\n",
       "    fill: #174EA6;\n",
       "  }\n",
       "\n",
       "  [theme=dark] .colab-df-quickchart {\n",
       "    background-color: #3B4455;\n",
       "    fill: #D2E3FC;\n",
       "  }\n",
       "\n",
       "  [theme=dark] .colab-df-quickchart:hover {\n",
       "    background-color: #434B5C;\n",
       "    box-shadow: 0px 1px 3px 1px rgba(0, 0, 0, 0.15);\n",
       "    filter: drop-shadow(0px 1px 2px rgba(0, 0, 0, 0.3));\n",
       "    fill: #FFFFFF;\n",
       "  }\n",
       "</style>\n",
       "\n",
       "    <script>\n",
       "      async function quickchart(key) {\n",
       "        const containerElement = document.querySelector('#' + key);\n",
       "        const charts = await google.colab.kernel.invokeFunction(\n",
       "            'suggestCharts', [key], {});\n",
       "      }\n",
       "    </script>\n",
       "\n",
       "      <script>\n",
       "\n",
       "function displayQuickchartButton(domScope) {\n",
       "  let quickchartButtonEl =\n",
       "    domScope.querySelector('#df-db7e4943-7c06-4f6f-a5f9-ac61b79629af button.colab-df-quickchart');\n",
       "  quickchartButtonEl.style.display =\n",
       "    google.colab.kernel.accessAllowed ? 'block' : 'none';\n",
       "}\n",
       "\n",
       "        displayQuickchartButton(document);\n",
       "      </script>\n",
       "      <style>\n",
       "    .colab-df-container {\n",
       "      display:flex;\n",
       "      flex-wrap:wrap;\n",
       "      gap: 12px;\n",
       "    }\n",
       "\n",
       "    .colab-df-convert {\n",
       "      background-color: #E8F0FE;\n",
       "      border: none;\n",
       "      border-radius: 50%;\n",
       "      cursor: pointer;\n",
       "      display: none;\n",
       "      fill: #1967D2;\n",
       "      height: 32px;\n",
       "      padding: 0 0 0 0;\n",
       "      width: 32px;\n",
       "    }\n",
       "\n",
       "    .colab-df-convert:hover {\n",
       "      background-color: #E2EBFA;\n",
       "      box-shadow: 0px 1px 2px rgba(60, 64, 67, 0.3), 0px 1px 3px 1px rgba(60, 64, 67, 0.15);\n",
       "      fill: #174EA6;\n",
       "    }\n",
       "\n",
       "    [theme=dark] .colab-df-convert {\n",
       "      background-color: #3B4455;\n",
       "      fill: #D2E3FC;\n",
       "    }\n",
       "\n",
       "    [theme=dark] .colab-df-convert:hover {\n",
       "      background-color: #434B5C;\n",
       "      box-shadow: 0px 1px 3px 1px rgba(0, 0, 0, 0.15);\n",
       "      filter: drop-shadow(0px 1px 2px rgba(0, 0, 0, 0.3));\n",
       "      fill: #FFFFFF;\n",
       "    }\n",
       "  </style>\n",
       "\n",
       "      <script>\n",
       "        const buttonEl =\n",
       "          document.querySelector('#df-07b9a5e2-3e40-4aaa-bd26-18fc6205792e button.colab-df-convert');\n",
       "        buttonEl.style.display =\n",
       "          google.colab.kernel.accessAllowed ? 'block' : 'none';\n",
       "\n",
       "        async function convertToInteractive(key) {\n",
       "          const element = document.querySelector('#df-07b9a5e2-3e40-4aaa-bd26-18fc6205792e');\n",
       "          const dataTable =\n",
       "            await google.colab.kernel.invokeFunction('convertToInteractive',\n",
       "                                                     [key], {});\n",
       "          if (!dataTable) return;\n",
       "\n",
       "          const docLinkHtml = 'Like what you see? Visit the ' +\n",
       "            '<a target=\"_blank\" href=https://colab.research.google.com/notebooks/data_table.ipynb>data table notebook</a>'\n",
       "            + ' to learn more about interactive tables.';\n",
       "          element.innerHTML = '';\n",
       "          dataTable['output_type'] = 'display_data';\n",
       "          await google.colab.output.renderOutput(dataTable, element);\n",
       "          const docLink = document.createElement('div');\n",
       "          docLink.innerHTML = docLinkHtml;\n",
       "          element.appendChild(docLink);\n",
       "        }\n",
       "      </script>\n",
       "    </div>\n",
       "  </div>\n"
      ],
      "text/plain": [
       "                                  id  reviewId creationDate       criticName  \\\n",
       "0                            beavers   1145982   2003-05-23  Ivan M. Lincoln   \n",
       "1                         blood_mask   1636744   2007-06-02    The Foywonder   \n",
       "2  city_hunter_shinjuku_private_eyes   2590987   2019-05-28     Reuben Baron   \n",
       "3  city_hunter_shinjuku_private_eyes   2558908   2019-02-14      Matt Schley   \n",
       "4                 dangerous_men_2015   2504681   2018-08-29        Pat Padua   \n",
       "\n",
       "   isTopCritic originalScore reviewState                 publicatioName  \\\n",
       "0        False         3.5/4       fresh  Deseret News (Salt Lake City)   \n",
       "1        False           1/5      rotten                  Dread Central   \n",
       "2        False           NaN       fresh                            CBR   \n",
       "3        False         2.5/5      rotten                    Japan Times   \n",
       "4        False           NaN       fresh                          DCist   \n",
       "\n",
       "                                          reviewText scoreSentiment  \\\n",
       "0  Timed to be just long enough for most youngste...       POSITIVE   \n",
       "1  It doesn't matter if a movie costs 300 million...       NEGATIVE   \n",
       "2  The choreography is so precise and lifelike at...       POSITIVE   \n",
       "3  The film's out-of-touch attempts at humor may ...       NEGATIVE   \n",
       "4  Its clumsy determination is endearing and some...       POSITIVE   \n",
       "\n",
       "                                           reviewUrl  \\\n",
       "0  http://www.deseretnews.com/article/700003233/B...   \n",
       "1  http://www.dreadcentral.com/index.php?name=Rev...   \n",
       "2  https://www.cbr.com/city-hunter-shinjuku-priva...   \n",
       "3  https://www.japantimes.co.jp/culture/2019/02/0...   \n",
       "4  http://dcist.com/2015/11/out_of_frame_dangerou...   \n",
       "\n",
       "                                title  audienceScore  tomatoMeter  \\\n",
       "0                             Beavers           75.0          NaN   \n",
       "1                          Blood Mask            NaN          NaN   \n",
       "2  City Hunter: Shinjuku Private Eyes            NaN          NaN   \n",
       "3  City Hunter: Shinjuku Private Eyes            NaN          NaN   \n",
       "4                       Dangerous Men           42.0         50.0   \n",
       "\n",
       "   runtimeMinutes        genre originalLanguage          director writer  \n",
       "0            30.0  Documentary          English       Stephen Low    NaN  \n",
       "1             NaN          NaN              NaN  Unknown Director    NaN  \n",
       "2             NaN          NaN              NaN      Kenji Kodama    NaN  \n",
       "3             NaN          NaN              NaN      Kenji Kodama    NaN  \n",
       "4             NaN          NaN              NaN  Unknown Director    NaN  "
      ]
     },
     "execution_count": 19,
     "metadata": {},
     "output_type": "execute_result"
    }
   ],
   "source": [
    "# merging movie and review data\n",
    "\n",
    "merge_df = pd.merge(reviewid_unique, movie_df, 'left', 'id')\n",
    "print(merge_df.shape)\n",
    "merge_df.head()"
   ]
  },
  {
   "cell_type": "code",
   "execution_count": null,
   "metadata": {
    "colab": {
     "base_uri": "https://localhost:8080/"
    },
    "id": "10IzAXBnwMiF",
    "outputId": "549abba2-2272-439d-8938-d1c6456c6b90"
   },
   "outputs": [
    {
     "data": {
      "text/plain": [
       "(1432714, 19)"
      ]
     },
     "execution_count": 20,
     "metadata": {},
     "output_type": "execute_result"
    }
   ],
   "source": [
    "merge_df.drop_duplicates(inplace=True, ignore_index=True)\n",
    "merge_df.shape"
   ]
  },
  {
   "cell_type": "code",
   "execution_count": null,
   "metadata": {
    "colab": {
     "base_uri": "https://localhost:8080/",
     "height": 645
    },
    "id": "zKQNcgJZoLeV",
    "outputId": "a2e84054-6dbb-46e0-e038-ea318b98896d"
   },
   "outputs": [
    {
     "data": {
      "text/html": [
       "\n",
       "\n",
       "  <div id=\"df-f52e5e08-75b9-42f9-9e53-dbb09116f62d\">\n",
       "    <div class=\"colab-df-container\">\n",
       "      <div>\n",
       "<style scoped>\n",
       "    .dataframe tbody tr th:only-of-type {\n",
       "        vertical-align: middle;\n",
       "    }\n",
       "\n",
       "    .dataframe tbody tr th {\n",
       "        vertical-align: top;\n",
       "    }\n",
       "\n",
       "    .dataframe thead th {\n",
       "        text-align: right;\n",
       "    }\n",
       "</style>\n",
       "<table border=\"1\" class=\"dataframe\">\n",
       "  <thead>\n",
       "    <tr style=\"text-align: right;\">\n",
       "      <th></th>\n",
       "      <th>feature</th>\n",
       "      <th>type</th>\n",
       "      <th>non_null</th>\n",
       "      <th>non_null_percentage</th>\n",
       "    </tr>\n",
       "  </thead>\n",
       "  <tbody>\n",
       "    <tr>\n",
       "      <th>0</th>\n",
       "      <td>id</td>\n",
       "      <td>object</td>\n",
       "      <td>1432714</td>\n",
       "      <td>100.000000</td>\n",
       "    </tr>\n",
       "    <tr>\n",
       "      <th>1</th>\n",
       "      <td>reviewId</td>\n",
       "      <td>int64</td>\n",
       "      <td>1432714</td>\n",
       "      <td>100.000000</td>\n",
       "    </tr>\n",
       "    <tr>\n",
       "      <th>2</th>\n",
       "      <td>creationDate</td>\n",
       "      <td>object</td>\n",
       "      <td>1432714</td>\n",
       "      <td>100.000000</td>\n",
       "    </tr>\n",
       "    <tr>\n",
       "      <th>3</th>\n",
       "      <td>criticName</td>\n",
       "      <td>object</td>\n",
       "      <td>1432714</td>\n",
       "      <td>100.000000</td>\n",
       "    </tr>\n",
       "    <tr>\n",
       "      <th>4</th>\n",
       "      <td>isTopCritic</td>\n",
       "      <td>bool</td>\n",
       "      <td>1432714</td>\n",
       "      <td>100.000000</td>\n",
       "    </tr>\n",
       "    <tr>\n",
       "      <th>5</th>\n",
       "      <td>originalScore</td>\n",
       "      <td>object</td>\n",
       "      <td>1001281</td>\n",
       "      <td>69.887012</td>\n",
       "    </tr>\n",
       "    <tr>\n",
       "      <th>6</th>\n",
       "      <td>reviewState</td>\n",
       "      <td>object</td>\n",
       "      <td>1432714</td>\n",
       "      <td>100.000000</td>\n",
       "    </tr>\n",
       "    <tr>\n",
       "      <th>7</th>\n",
       "      <td>publicatioName</td>\n",
       "      <td>object</td>\n",
       "      <td>1432714</td>\n",
       "      <td>100.000000</td>\n",
       "    </tr>\n",
       "    <tr>\n",
       "      <th>8</th>\n",
       "      <td>reviewText</td>\n",
       "      <td>object</td>\n",
       "      <td>1364019</td>\n",
       "      <td>95.205254</td>\n",
       "    </tr>\n",
       "    <tr>\n",
       "      <th>9</th>\n",
       "      <td>scoreSentiment</td>\n",
       "      <td>object</td>\n",
       "      <td>1432714</td>\n",
       "      <td>100.000000</td>\n",
       "    </tr>\n",
       "    <tr>\n",
       "      <th>10</th>\n",
       "      <td>reviewUrl</td>\n",
       "      <td>object</td>\n",
       "      <td>1223573</td>\n",
       "      <td>85.402460</td>\n",
       "    </tr>\n",
       "    <tr>\n",
       "      <th>11</th>\n",
       "      <td>title</td>\n",
       "      <td>object</td>\n",
       "      <td>1432417</td>\n",
       "      <td>99.979270</td>\n",
       "    </tr>\n",
       "    <tr>\n",
       "      <th>12</th>\n",
       "      <td>audienceScore</td>\n",
       "      <td>float64</td>\n",
       "      <td>1364142</td>\n",
       "      <td>95.213839</td>\n",
       "    </tr>\n",
       "    <tr>\n",
       "      <th>13</th>\n",
       "      <td>tomatoMeter</td>\n",
       "      <td>float64</td>\n",
       "      <td>1362930</td>\n",
       "      <td>95.129244</td>\n",
       "    </tr>\n",
       "    <tr>\n",
       "      <th>14</th>\n",
       "      <td>runtimeMinutes</td>\n",
       "      <td>float64</td>\n",
       "      <td>1403576</td>\n",
       "      <td>97.966238</td>\n",
       "    </tr>\n",
       "    <tr>\n",
       "      <th>15</th>\n",
       "      <td>genre</td>\n",
       "      <td>object</td>\n",
       "      <td>1409417</td>\n",
       "      <td>98.373925</td>\n",
       "    </tr>\n",
       "    <tr>\n",
       "      <th>16</th>\n",
       "      <td>originalLanguage</td>\n",
       "      <td>object</td>\n",
       "      <td>1403392</td>\n",
       "      <td>97.953395</td>\n",
       "    </tr>\n",
       "    <tr>\n",
       "      <th>17</th>\n",
       "      <td>director</td>\n",
       "      <td>object</td>\n",
       "      <td>1423697</td>\n",
       "      <td>99.370635</td>\n",
       "    </tr>\n",
       "    <tr>\n",
       "      <th>18</th>\n",
       "      <td>writer</td>\n",
       "      <td>object</td>\n",
       "      <td>1278565</td>\n",
       "      <td>89.240770</td>\n",
       "    </tr>\n",
       "  </tbody>\n",
       "</table>\n",
       "</div>\n",
       "      <button class=\"colab-df-convert\" onclick=\"convertToInteractive('df-f52e5e08-75b9-42f9-9e53-dbb09116f62d')\"\n",
       "              title=\"Convert this dataframe to an interactive table.\"\n",
       "              style=\"display:none;\">\n",
       "\n",
       "  <svg xmlns=\"http://www.w3.org/2000/svg\" height=\"24px\"viewBox=\"0 0 24 24\"\n",
       "       width=\"24px\">\n",
       "    <path d=\"M0 0h24v24H0V0z\" fill=\"none\"/>\n",
       "    <path d=\"M18.56 5.44l.94 2.06.94-2.06 2.06-.94-2.06-.94-.94-2.06-.94 2.06-2.06.94zm-11 1L8.5 8.5l.94-2.06 2.06-.94-2.06-.94L8.5 2.5l-.94 2.06-2.06.94zm10 10l.94 2.06.94-2.06 2.06-.94-2.06-.94-.94-2.06-.94 2.06-2.06.94z\"/><path d=\"M17.41 7.96l-1.37-1.37c-.4-.4-.92-.59-1.43-.59-.52 0-1.04.2-1.43.59L10.3 9.45l-7.72 7.72c-.78.78-.78 2.05 0 2.83L4 21.41c.39.39.9.59 1.41.59.51 0 1.02-.2 1.41-.59l7.78-7.78 2.81-2.81c.8-.78.8-2.07 0-2.86zM5.41 20L4 18.59l7.72-7.72 1.47 1.35L5.41 20z\"/>\n",
       "  </svg>\n",
       "      </button>\n",
       "\n",
       "\n",
       "\n",
       "    <div id=\"df-20a4e94c-1540-4c2e-9cb5-8e71182de89c\">\n",
       "      <button class=\"colab-df-quickchart\" onclick=\"quickchart('df-20a4e94c-1540-4c2e-9cb5-8e71182de89c')\"\n",
       "              title=\"Suggest charts.\"\n",
       "              style=\"display:none;\">\n",
       "\n",
       "<svg xmlns=\"http://www.w3.org/2000/svg\" height=\"24px\"viewBox=\"0 0 24 24\"\n",
       "     width=\"24px\">\n",
       "    <g>\n",
       "        <path d=\"M19 3H5c-1.1 0-2 .9-2 2v14c0 1.1.9 2 2 2h14c1.1 0 2-.9 2-2V5c0-1.1-.9-2-2-2zM9 17H7v-7h2v7zm4 0h-2V7h2v10zm4 0h-2v-4h2v4z\"/>\n",
       "    </g>\n",
       "</svg>\n",
       "      </button>\n",
       "    </div>\n",
       "\n",
       "<style>\n",
       "  .colab-df-quickchart {\n",
       "    background-color: #E8F0FE;\n",
       "    border: none;\n",
       "    border-radius: 50%;\n",
       "    cursor: pointer;\n",
       "    display: none;\n",
       "    fill: #1967D2;\n",
       "    height: 32px;\n",
       "    padding: 0 0 0 0;\n",
       "    width: 32px;\n",
       "  }\n",
       "\n",
       "  .colab-df-quickchart:hover {\n",
       "    background-color: #E2EBFA;\n",
       "    box-shadow: 0px 1px 2px rgba(60, 64, 67, 0.3), 0px 1px 3px 1px rgba(60, 64, 67, 0.15);\n",
       "    fill: #174EA6;\n",
       "  }\n",
       "\n",
       "  [theme=dark] .colab-df-quickchart {\n",
       "    background-color: #3B4455;\n",
       "    fill: #D2E3FC;\n",
       "  }\n",
       "\n",
       "  [theme=dark] .colab-df-quickchart:hover {\n",
       "    background-color: #434B5C;\n",
       "    box-shadow: 0px 1px 3px 1px rgba(0, 0, 0, 0.15);\n",
       "    filter: drop-shadow(0px 1px 2px rgba(0, 0, 0, 0.3));\n",
       "    fill: #FFFFFF;\n",
       "  }\n",
       "</style>\n",
       "\n",
       "    <script>\n",
       "      async function quickchart(key) {\n",
       "        const containerElement = document.querySelector('#' + key);\n",
       "        const charts = await google.colab.kernel.invokeFunction(\n",
       "            'suggestCharts', [key], {});\n",
       "      }\n",
       "    </script>\n",
       "\n",
       "      <script>\n",
       "\n",
       "function displayQuickchartButton(domScope) {\n",
       "  let quickchartButtonEl =\n",
       "    domScope.querySelector('#df-20a4e94c-1540-4c2e-9cb5-8e71182de89c button.colab-df-quickchart');\n",
       "  quickchartButtonEl.style.display =\n",
       "    google.colab.kernel.accessAllowed ? 'block' : 'none';\n",
       "}\n",
       "\n",
       "        displayQuickchartButton(document);\n",
       "      </script>\n",
       "      <style>\n",
       "    .colab-df-container {\n",
       "      display:flex;\n",
       "      flex-wrap:wrap;\n",
       "      gap: 12px;\n",
       "    }\n",
       "\n",
       "    .colab-df-convert {\n",
       "      background-color: #E8F0FE;\n",
       "      border: none;\n",
       "      border-radius: 50%;\n",
       "      cursor: pointer;\n",
       "      display: none;\n",
       "      fill: #1967D2;\n",
       "      height: 32px;\n",
       "      padding: 0 0 0 0;\n",
       "      width: 32px;\n",
       "    }\n",
       "\n",
       "    .colab-df-convert:hover {\n",
       "      background-color: #E2EBFA;\n",
       "      box-shadow: 0px 1px 2px rgba(60, 64, 67, 0.3), 0px 1px 3px 1px rgba(60, 64, 67, 0.15);\n",
       "      fill: #174EA6;\n",
       "    }\n",
       "\n",
       "    [theme=dark] .colab-df-convert {\n",
       "      background-color: #3B4455;\n",
       "      fill: #D2E3FC;\n",
       "    }\n",
       "\n",
       "    [theme=dark] .colab-df-convert:hover {\n",
       "      background-color: #434B5C;\n",
       "      box-shadow: 0px 1px 3px 1px rgba(0, 0, 0, 0.15);\n",
       "      filter: drop-shadow(0px 1px 2px rgba(0, 0, 0, 0.3));\n",
       "      fill: #FFFFFF;\n",
       "    }\n",
       "  </style>\n",
       "\n",
       "      <script>\n",
       "        const buttonEl =\n",
       "          document.querySelector('#df-f52e5e08-75b9-42f9-9e53-dbb09116f62d button.colab-df-convert');\n",
       "        buttonEl.style.display =\n",
       "          google.colab.kernel.accessAllowed ? 'block' : 'none';\n",
       "\n",
       "        async function convertToInteractive(key) {\n",
       "          const element = document.querySelector('#df-f52e5e08-75b9-42f9-9e53-dbb09116f62d');\n",
       "          const dataTable =\n",
       "            await google.colab.kernel.invokeFunction('convertToInteractive',\n",
       "                                                     [key], {});\n",
       "          if (!dataTable) return;\n",
       "\n",
       "          const docLinkHtml = 'Like what you see? Visit the ' +\n",
       "            '<a target=\"_blank\" href=https://colab.research.google.com/notebooks/data_table.ipynb>data table notebook</a>'\n",
       "            + ' to learn more about interactive tables.';\n",
       "          element.innerHTML = '';\n",
       "          dataTable['output_type'] = 'display_data';\n",
       "          await google.colab.output.renderOutput(dataTable, element);\n",
       "          const docLink = document.createElement('div');\n",
       "          docLink.innerHTML = docLinkHtml;\n",
       "          element.appendChild(docLink);\n",
       "        }\n",
       "      </script>\n",
       "    </div>\n",
       "  </div>\n"
      ],
      "text/plain": [
       "             feature     type  non_null  non_null_percentage\n",
       "0                 id   object   1432714           100.000000\n",
       "1           reviewId    int64   1432714           100.000000\n",
       "2       creationDate   object   1432714           100.000000\n",
       "3         criticName   object   1432714           100.000000\n",
       "4        isTopCritic     bool   1432714           100.000000\n",
       "5      originalScore   object   1001281            69.887012\n",
       "6        reviewState   object   1432714           100.000000\n",
       "7     publicatioName   object   1432714           100.000000\n",
       "8         reviewText   object   1364019            95.205254\n",
       "9     scoreSentiment   object   1432714           100.000000\n",
       "10         reviewUrl   object   1223573            85.402460\n",
       "11             title   object   1432417            99.979270\n",
       "12     audienceScore  float64   1364142            95.213839\n",
       "13       tomatoMeter  float64   1362930            95.129244\n",
       "14    runtimeMinutes  float64   1403576            97.966238\n",
       "15             genre   object   1409417            98.373925\n",
       "16  originalLanguage   object   1403392            97.953395\n",
       "17          director   object   1423697            99.370635\n",
       "18            writer   object   1278565            89.240770"
      ]
     },
     "execution_count": 21,
     "metadata": {},
     "output_type": "execute_result"
    }
   ],
   "source": [
    "# checking null values\n",
    "\n",
    "df_info = pd.concat([pd.DataFrame(merge_df.dtypes), pd.DataFrame(merge_df.count())], axis=1).reset_index(drop=False)\n",
    "n = merge_df.shape[0]\n",
    "df_info.columns = ['feature', 'type', 'non_null']\n",
    "df_info['non_null_percentage'] = df_info['non_null'].apply(lambda x : (x/n)*100)\n",
    "df_info"
   ]
  },
  {
   "cell_type": "markdown",
   "metadata": {
    "id": "SdPNsgUtpPw5"
   },
   "source": [
    "### No of unique item in key + categorical fetaures"
   ]
  },
  {
   "cell_type": "code",
   "execution_count": null,
   "metadata": {
    "colab": {
     "base_uri": "https://localhost:8080/"
    },
    "id": "j65MryHFpQY2",
    "outputId": "cda954f5-709d-4e23-a72a-896d72becc13"
   },
   "outputs": [
    {
     "name": "stdout",
     "output_type": "stream",
     "text": [
      "no of unique criticName : 15510\n",
      "no of unique is top critic : 2\n",
      "no of unique reviewState : 2\n",
      "no of unique publicatioName : 2707\n",
      "no of unique scoreSentiment : 2\n",
      "no of unique movies : 63591\n",
      "no of unique genre : 2179\n",
      "no of unique originalLanguage : 110\n",
      "no of unique director : 32908\n"
     ]
    }
   ],
   "source": [
    "print(f\"no of unique criticName : {len(np.unique(merge_df['criticName']))}\")\n",
    "print(f\"no of unique is top critic : {len(np.unique(merge_df['isTopCritic']))}\")\n",
    "print(f\"no of unique reviewState : {len(np.unique(merge_df['reviewState'].astype('str')))}\")\n",
    "print(f\"no of unique publicatioName : {len(np.unique(merge_df['publicatioName'].astype('str')))}\")\n",
    "print(f\"no of unique scoreSentiment : {len(np.unique(merge_df['scoreSentiment'].astype('str')))}\")\n",
    "print(f\"no of unique movies : {len(np.unique(merge_df['title'].astype('str')))}\")\n",
    "print(f\"no of unique genre : {len(np.unique(merge_df['genre'].astype('str')))}\")\n",
    "print(f\"no of unique originalLanguage : {len(np.unique(merge_df['originalLanguage'].astype('str')))}\")\n",
    "print(f\"no of unique director : {len(np.unique(merge_df['director'].astype('str')))}\")"
   ]
  },
  {
   "cell_type": "markdown",
   "metadata": {
    "id": "Y3zgLe1ByqeC"
   },
   "source": [
    "## Standerdising Original score <br/>\n",
    "Steps: <br/>\n",
    "    1- splitting ratings in numerator and denominator and ordinal (which can not be split) <br/>\n",
    "    2- create a mapping of numerator and denominator for ordinal ratings (which ever is possible). <br/>\n",
    "    3- standardising all ratings on the scale of 5 <br/>\n",
    "    4- missing value treatment of standard score using mean of available standard score of that perticular movie"
   ]
  },
  {
   "cell_type": "code",
   "execution_count": null,
   "metadata": {
    "colab": {
     "base_uri": "https://localhost:8080/"
    },
    "id": "PTh3YuR06HGQ",
    "outputId": "023fed91-85cc-4f6f-cc0b-e615a6e0a04c"
   },
   "outputs": [
    {
     "data": {
      "text/plain": [
       "(1729, 2)"
      ]
     },
     "execution_count": 23,
     "metadata": {},
     "output_type": "execute_result"
    }
   ],
   "source": [
    "ordinal_rating = merge_df['originalScore'].value_counts().reset_index()\n",
    "ordinal_rating.shape"
   ]
  },
  {
   "cell_type": "markdown",
   "metadata": {
    "id": "KFmOLrniT2r7"
   },
   "source": [
    "#### **Step-1:** Splitting rating in 3 columns:- Numerator, Denominator and Ordinal (rating witch can not be broken into numerator and denominator)"
   ]
  },
  {
   "cell_type": "code",
   "execution_count": null,
   "metadata": {
    "id": "9lanHfFV6GsP"
   },
   "outputs": [],
   "source": [
    "# Function of splitting rating in numerator\n",
    "def RatingNumerator(x):\n",
    "    try:\n",
    "        g = float(x.split(\"/\")[0])\n",
    "    except:\n",
    "        g = np.nan\n",
    "    return g\n",
    "\n",
    "# Function of splitting rating in denominator\n",
    "def RatingDenominator(x):\n",
    "    try:\n",
    "        g = float(x.split(\"/\")[1])\n",
    "    except:\n",
    "        g = np.nan\n",
    "    return g\n",
    "\n",
    "# Function of extracting ordinal ratings\n",
    "def RatingOrdinal(x):\n",
    "    g = x.split(\"/\")[0]\n",
    "    g = np.nan\n",
    "    return g\n"
   ]
  },
  {
   "cell_type": "code",
   "execution_count": null,
   "metadata": {
    "id": "CgxBFHYM6G5G"
   },
   "outputs": [],
   "source": [
    "# Splitting ratings in numerator, denominator and ordinal columns\n",
    "\n",
    "merge_df['rating_nume'] = merge_df['originalScore'].apply(lambda x : RatingNumerator(x))\n",
    "merge_df['rating_denom'] = merge_df['originalScore'].apply(lambda x : RatingDenominator(x))\n",
    "merge_df['rating_ordinal'] = merge_df.apply(lambda row : row['originalScore'] if np.isnan(row['rating_nume']) else np.nan, axis = 1)\n"
   ]
  },
  {
   "cell_type": "code",
   "execution_count": null,
   "metadata": {
    "colab": {
     "base_uri": "https://localhost:8080/"
    },
    "id": "yvK0IXZSz-jY",
    "outputId": "7eeaf3ea-6464-4154-f6ab-76b3467686ef"
   },
   "outputs": [
    {
     "name": "stdout",
     "output_type": "stream",
     "text": [
      "591690\n",
      "595294\n",
      "1272457\n"
     ]
    }
   ],
   "source": [
    "#  Checking null values in numerator and denominator columns\n",
    "nume_null_before = merge_df['rating_nume'].isna().sum()\n",
    "denom_null_before = merge_df['rating_denom'].isna().sum()\n",
    "print(nume_null_before)\n",
    "print(denom_null_before)\n",
    "print(merge_df['rating_ordinal'].isna().sum())"
   ]
  },
  {
   "cell_type": "code",
   "execution_count": null,
   "metadata": {
    "id": "NzOYrN_YYtiv"
   },
   "outputs": [],
   "source": [
    "\"\"\"\n",
    "In above cells no. of null values are high. We can reduce it by treating ordinal ratings upto certaing extent\n",
    "\"\"\""
   ]
  },
  {
   "cell_type": "markdown",
   "metadata": {
    "id": "SlBUV6Ia4qUC"
   },
   "source": [
    "#### **Step-2:** Creating a mapping of numerator and denominator for ordinal ratings (which ever is possible) and import in dataframe <br/>\n"
   ]
  },
  {
   "cell_type": "code",
   "execution_count": null,
   "metadata": {
    "id": "auCok6Hnv9Rm"
   },
   "outputs": [],
   "source": [
    "# temp = merge_df[(pd.notna(merge_df['rating_ordinal'])) & (pd.isna(merge_df['rating_denom']))]\n",
    "# rating_mapping = temp['rating_ordinal'].value_counts().reset_index()\n",
    "# rating_mapping.columns = ['ordinal_rating', 'count']\n",
    "# print(rating_mapping)\n",
    "\n",
    "## saving mapping file\n",
    "# path = \"/content/drive/MyDrive/Colab Notebooks/CapstoneProject/ratingMapping.csv\"\n",
    "# with open(path, 'w', encoding = 'utf-8-sig') as f:\n",
    "#     rating_mapping.to_csv(f, index = False)\n"
   ]
  },
  {
   "cell_type": "code",
   "execution_count": null,
   "metadata": {
    "id": "Ibz1embYxHic"
   },
   "outputs": [],
   "source": [
    "##********** append any left out ordinal rating into mapping csv file which is left out******\n",
    "# df_temp = pd.DataFrame([['3 1/2', 3.5,5]], columns = rating_mapping.columns)\n",
    "# rating_mapping = pd.concat([rating_mapping, df_temp], ignore_index=True)\n",
    "# from sqlalchemy.schema import DropIndex\n",
    "# path = \"/content/drive/MyDrive/Colab Notebooks/CapstoneProject/ratingMapping.csv\"\n",
    "# with open(path, 'w', encoding = 'utf-8-sig') as f:\n",
    "#     rating_mapping.to_csv(f, index = False)"
   ]
  },
  {
   "cell_type": "code",
   "execution_count": null,
   "metadata": {
    "id": "4gClVU3xnxbM"
   },
   "outputs": [],
   "source": [
    "# Exporting mapping of ordinal rating file created manually and get mapped numerator and denominator\n",
    "\n",
    "rating_mapping = pd.read_csv(\"/content/drive/MyDrive/Colab Notebooks/CapstoneProject/ratingMapping.csv\")\n",
    "dict_rating_nume = pd.Series(rating_mapping['num'].values, index = rating_mapping['rating']).to_dict()\n",
    "dict_rating_denom = pd.Series(rating_mapping['Denom'].values, index = rating_mapping['rating']).to_dict()"
   ]
  },
  {
   "cell_type": "code",
   "execution_count": null,
   "metadata": {
    "id": "dK8AV-aHI0g7"
   },
   "outputs": [],
   "source": [
    "# Creating functions to import numerator and denominator values from mapping into dataframe\n",
    "\n",
    "#  function of getting denominator values from mapping\n",
    "def getDenom(row):\n",
    "    g = row['rating_ordinal']\n",
    "    if (pd.notna(g)) & (g in dict_rating_denom.keys()):\n",
    "        denom = dict_rating_denom[g]\n",
    "    else:\n",
    "        denom = row['rating_denom']\n",
    "    return denom\n",
    "\n",
    "#  function of getting numerator values from mapping\n",
    "def getNume(row):\n",
    "    g = row['rating_ordinal']\n",
    "    if (pd.notna(g)) & (g in dict_rating_nume.keys()):\n",
    "        nume = dict_rating_nume[g]\n",
    "    else:\n",
    "        nume = row['rating_nume']\n",
    "    return nume"
   ]
  },
  {
   "cell_type": "code",
   "execution_count": null,
   "metadata": {
    "id": "xkSWy2klpKQ-"
   },
   "outputs": [],
   "source": [
    "# appying function to get numerator and denominator\n",
    "merge_df['rating_denom'] = merge_df.apply(lambda row : getDenom(row), axis = 1)\n",
    "merge_df['rating_nume'] = merge_df.apply(lambda row : getNume(row), axis = 1)"
   ]
  },
  {
   "cell_type": "code",
   "execution_count": null,
   "metadata": {
    "colab": {
     "base_uri": "https://localhost:8080/"
    },
    "id": "-Kl74vJUCy4V",
    "outputId": "273883de-7f84-41cc-cfbd-38d2861795f9"
   },
   "outputs": [
    {
     "name": "stdout",
     "output_type": "stream",
     "text": [
      "Number of null values filled in numerator column after ordinal rating treatment :  160204\n",
      "Number of null values filled in denominator column after ordinal rating treatment :  160166\n",
      "*********************************************************************************************************************\n",
      "non null values in numerator columns :  1001228\n",
      "non null values in denominator columns :  997586\n"
     ]
    }
   ],
   "source": [
    "# analysing number of null values we have filled after ordinal rating treatment\n",
    "\n",
    "nume_null_after = merge_df['rating_nume'].isna().sum()\n",
    "denom_null_after = merge_df['rating_denom'].isna().sum()\n",
    "\n",
    "print(\"Number of null values filled in numerator column after ordinal rating treatment : \", nume_null_before - nume_null_after)\n",
    "print(\"Number of null values filled in denominator column after ordinal rating treatment : \", denom_null_before - denom_null_after)\n",
    "\n",
    "print('*********************************************************************************************************************')\n",
    "print(\"non null values in numerator columns : \", merge_df['rating_nume'].notna().sum())\n",
    "print(\"non null values in denominator columns : \", merge_df['rating_denom'].notna().sum())"
   ]
  },
  {
   "cell_type": "code",
   "execution_count": null,
   "metadata": {
    "colab": {
     "base_uri": "https://localhost:8080/"
    },
    "id": "8VL9w0YDrVVk",
    "outputId": "0a380213-f2b3-46f7-a829-5fefbe19fd3e"
   },
   "outputs": [
    {
     "data": {
      "text/plain": [
       "Index(['id', 'reviewId', 'creationDate', 'criticName', 'isTopCritic',\n",
       "       'originalScore', 'reviewState', 'publicatioName', 'reviewText',\n",
       "       'scoreSentiment', 'reviewUrl', 'title', 'audienceScore', 'tomatoMeter',\n",
       "       'runtimeMinutes', 'genre', 'originalLanguage', 'director', 'writer',\n",
       "       'rating_nume', 'rating_denom', 'rating_ordinal'],\n",
       "      dtype='object')"
      ]
     },
     "execution_count": 31,
     "metadata": {},
     "output_type": "execute_result"
    }
   ],
   "source": [
    "merge_df.columns"
   ]
  },
  {
   "cell_type": "markdown",
   "metadata": {
    "id": "HqWRtokJcJJ8"
   },
   "source": [
    "#### **Step-3:** Standardising all ratings on the scale of 5"
   ]
  },
  {
   "cell_type": "code",
   "execution_count": null,
   "metadata": {
    "id": "fI6hdRRb6Hnh"
   },
   "outputs": [],
   "source": [
    "def standardise_rating(row):\n",
    "    if row['rating_denom']==0.0:\n",
    "        g = np.nan\n",
    "    elif pd.isna(row['rating_denom']):\n",
    "        g = np.nan\n",
    "    else:\n",
    "        g = (row['rating_nume'] / row['rating_denom'])*5\n",
    "    return g"
   ]
  },
  {
   "cell_type": "code",
   "execution_count": null,
   "metadata": {
    "id": "jr_PkEBPzr6b"
   },
   "outputs": [],
   "source": [
    "merge_df['standard _rating'] = merge_df.apply(standardise_rating, axis=1)"
   ]
  },
  {
   "cell_type": "code",
   "execution_count": null,
   "metadata": {
    "colab": {
     "base_uri": "https://localhost:8080/"
    },
    "id": "4J0LB5puG7mX",
    "outputId": "5dc2a39f-0431-474e-ca85-84c822593bfa"
   },
   "outputs": [
    {
     "name": "stdout",
     "output_type": "stream",
     "text": [
      "Non null values in standard rating :  997576\n",
      "Null values in standard rating :  435138\n"
     ]
    }
   ],
   "source": [
    "stndrd_null_before = merge_df['standard _rating'].isna().sum()\n",
    "stndrd_nonNull_before = merge_df['standard _rating'].notna().sum()\n",
    "\n",
    "print(\"Non null values in standard rating : \",stndrd_nonNull_before)\n",
    "print(\"Null values in standard rating : \",stndrd_null_before)"
   ]
  },
  {
   "cell_type": "code",
   "execution_count": null,
   "metadata": {
    "colab": {
     "base_uri": "https://localhost:8080/"
    },
    "id": "7MnLS8Uem8Wm",
    "outputId": "b9b0f8e1-2dae-4a31-c1ef-9dcf691a232c"
   },
   "outputs": [
    {
     "data": {
      "text/plain": [
       "Index(['id', 'reviewId', 'creationDate', 'criticName', 'isTopCritic',\n",
       "       'originalScore', 'reviewState', 'publicatioName', 'reviewText',\n",
       "       'scoreSentiment', 'reviewUrl', 'title', 'audienceScore', 'tomatoMeter',\n",
       "       'runtimeMinutes', 'genre', 'originalLanguage', 'director', 'writer',\n",
       "       'rating_nume', 'rating_denom', 'rating_ordinal', 'standard _rating'],\n",
       "      dtype='object')"
      ]
     },
     "execution_count": 35,
     "metadata": {},
     "output_type": "execute_result"
    }
   ],
   "source": [
    "merge_df.columns"
   ]
  },
  {
   "cell_type": "markdown",
   "metadata": {
    "id": "y-9ePYBEoPle"
   },
   "source": [
    "#### **Step-4:** Missing value treatment of standard score using mean of available standard score of that perticular movie"
   ]
  },
  {
   "cell_type": "code",
   "execution_count": null,
   "metadata": {
    "id": "qhrUbVvFlhjw"
   },
   "outputs": [],
   "source": [
    "\"\"\"\n",
    "creating a 3 dictionary of mean score\n",
    "1- a simple dict with mean score as value of each movie as key irrespective of sentiment\n",
    "2- a dict with mean score based on positive sentiment with mean score as value of each movie as key.\n",
    "3- a dict with mean score based on negative sentiment with mean score as value of each movie as key.\n",
    "\n",
    "\"\"\"\n",
    "\n",
    "#  dict of mean score of each movie\n",
    "dict_meanScore = merge_df.groupby(['title'])['standard _rating'].mean().to_dict()\n",
    "dict_meanScore = {k:v for k,v in dict_meanScore.items() if pd.notna(v)}\n",
    "\n",
    "#  datframe of mean scroe of each movie based on the score sentiment\n",
    "sentimentMeanScore = merge_df.groupby(['title', 'scoreSentiment'])['standard _rating'].mean().reset_index()\n",
    "sentimentMeanScore.set_index('title', inplace = True)\n",
    "# titleWiseMeanScore\n",
    "\n",
    "# creating a dict with mean score based on positive sentiment with mean score as value of each movie as key\n",
    "dict_positiveMeanScore = sentimentMeanScore[sentimentMeanScore['scoreSentiment']=='POSITIVE']['standard _rating'].to_dict()\n",
    "dict_positiveMeanScore = {k:v for k,v in dict_positiveMeanScore.items() if pd.notna(v)}\n",
    "# dict_positiveMeanScore\n",
    "\n",
    "# creating a dict with mean score based on positive sentiment with mean score as value of each movie as key\n",
    "dict_negativeMeanScore = sentimentMeanScore[sentimentMeanScore['scoreSentiment']=='NEGATIVE']['standard _rating'].to_dict()\n",
    "dict_negativeMeanScore = {k:v for k,v in dict_negativeMeanScore.items() if pd.notna(v)}\n",
    "# dict_negativeMeanScore"
   ]
  },
  {
   "cell_type": "code",
   "execution_count": null,
   "metadata": {
    "id": "33wVutg6l8rt"
   },
   "outputs": [],
   "source": [
    "#  creating a function to fetch the mean score from above created dict if standard _rating is null for the title\n",
    "\n",
    "def fillMeanRating(row):\n",
    "    g = row['title']\n",
    "\n",
    "    if (row['scoreSentiment'] == 'POSITIVE') & (pd.isna(row['standard _rating'])) & (g in dict_positiveMeanScore.keys()): # # if score sentiment is positive if standard _rating is null and title in dict_positiveMeanScore\n",
    "        meanRating = dict_positiveMeanScore[g]\n",
    "    elif (row['scoreSentiment'] == 'NEGATIVE') & (pd.isna(row['standard _rating'])) & (g in dict_negativeMeanScore.keys()): # if standard _rating is null and title in dict_positiveMeanScore\n",
    "        meanRating = dict_negativeMeanScore[g]\n",
    "    elif (pd.isna(row['standard _rating'])) & (g in dict_meanScore.keys()):\n",
    "        meanRating = dict_meanScore[g]\n",
    "    else:\n",
    "        meanRating = row['standard _rating']\n",
    "    return meanRating\n"
   ]
  },
  {
   "cell_type": "code",
   "execution_count": null,
   "metadata": {
    "id": "INQRKiGcojf0"
   },
   "outputs": [],
   "source": [
    "# applying custom function of filling na in df\n",
    "\n",
    "merge_df['standard _rating'] = merge_df.apply(fillMeanRating, axis=1)"
   ]
  },
  {
   "cell_type": "code",
   "execution_count": null,
   "metadata": {
    "colab": {
     "base_uri": "https://localhost:8080/"
    },
    "id": "x3i1J3jgtT5h",
    "outputId": "e3071ef4-80fd-4e3d-ed6d-26fc73373d6d"
   },
   "outputs": [
    {
     "name": "stdout",
     "output_type": "stream",
     "text": [
      "Non null values in standard rating :  1419282\n",
      "Null values in standard rating :  13432\n",
      "***********************************************************************************\n",
      "treated null values of standard rating columns :  421706\n"
     ]
    }
   ],
   "source": [
    "stndrd_null_after = merge_df['standard _rating'].isna().sum()\n",
    "stndrd_nonNull_after = merge_df['standard _rating'].notna().sum()\n",
    "\n",
    "print(\"Non null values in standard rating : \",stndrd_nonNull_after)\n",
    "print(\"Null values in standard rating : \",stndrd_null_after)\n",
    "print('***********************************************************************************')\n",
    "print(\"treated null values of standard rating columns : \", stndrd_null_before - stndrd_null_after)"
   ]
  },
  {
   "cell_type": "code",
   "execution_count": null,
   "metadata": {
    "colab": {
     "base_uri": "https://localhost:8080/"
    },
    "id": "FJmXHfaDzKQz",
    "outputId": "2f6eb291-f013-44ed-d7b3-dc4fce4f16d6"
   },
   "outputs": [
    {
     "data": {
      "text/plain": [
       "(1413433, 23)"
      ]
     },
     "execution_count": 40,
     "metadata": {},
     "output_type": "execute_result"
    }
   ],
   "source": [
    "# removing all records where standard_rating is either 0 or more than 5 or less than 0 or null\n",
    "\n",
    "merge_df = merge_df[merge_df['standard _rating']!=0]\n",
    "merge_df = merge_df[pd.notna(merge_df['standard _rating'])]\n",
    "merge_df = merge_df[(merge_df['standard _rating']<=5) & (merge_df['standard _rating']>=0)]\n",
    "merge_df.reset_index(drop = True, inplace = True)\n",
    "merge_df.shape"
   ]
  },
  {
   "cell_type": "markdown",
   "metadata": {
    "id": "cYumYXBR2Kdu"
   },
   "source": [
    "### Post preprocessing and transformation of columns"
   ]
  },
  {
   "cell_type": "code",
   "execution_count": null,
   "metadata": {
    "colab": {
     "base_uri": "https://localhost:8080/",
     "height": 788
    },
    "id": "GuwINTGCvSV5",
    "outputId": "d70c9226-71ed-479b-874e-4ddf1145a1a6"
   },
   "outputs": [
    {
     "name": "stdout",
     "output_type": "stream",
     "text": [
      "1413433\n"
     ]
    },
    {
     "data": {
      "text/html": [
       "\n",
       "\n",
       "  <div id=\"df-f5bf9736-0390-49ce-9a7b-c8447e155fdb\">\n",
       "    <div class=\"colab-df-container\">\n",
       "      <div>\n",
       "<style scoped>\n",
       "    .dataframe tbody tr th:only-of-type {\n",
       "        vertical-align: middle;\n",
       "    }\n",
       "\n",
       "    .dataframe tbody tr th {\n",
       "        vertical-align: top;\n",
       "    }\n",
       "\n",
       "    .dataframe thead th {\n",
       "        text-align: right;\n",
       "    }\n",
       "</style>\n",
       "<table border=\"1\" class=\"dataframe\">\n",
       "  <thead>\n",
       "    <tr style=\"text-align: right;\">\n",
       "      <th></th>\n",
       "      <th>feature</th>\n",
       "      <th>type</th>\n",
       "      <th>non_null</th>\n",
       "      <th>non_null_percentage</th>\n",
       "    </tr>\n",
       "  </thead>\n",
       "  <tbody>\n",
       "    <tr>\n",
       "      <th>0</th>\n",
       "      <td>id</td>\n",
       "      <td>object</td>\n",
       "      <td>1413433</td>\n",
       "      <td>100.000000</td>\n",
       "    </tr>\n",
       "    <tr>\n",
       "      <th>1</th>\n",
       "      <td>reviewId</td>\n",
       "      <td>int64</td>\n",
       "      <td>1413433</td>\n",
       "      <td>100.000000</td>\n",
       "    </tr>\n",
       "    <tr>\n",
       "      <th>2</th>\n",
       "      <td>creationDate</td>\n",
       "      <td>object</td>\n",
       "      <td>1413433</td>\n",
       "      <td>100.000000</td>\n",
       "    </tr>\n",
       "    <tr>\n",
       "      <th>3</th>\n",
       "      <td>criticName</td>\n",
       "      <td>object</td>\n",
       "      <td>1413433</td>\n",
       "      <td>100.000000</td>\n",
       "    </tr>\n",
       "    <tr>\n",
       "      <th>4</th>\n",
       "      <td>isTopCritic</td>\n",
       "      <td>bool</td>\n",
       "      <td>1413433</td>\n",
       "      <td>100.000000</td>\n",
       "    </tr>\n",
       "    <tr>\n",
       "      <th>5</th>\n",
       "      <td>originalScore</td>\n",
       "      <td>object</td>\n",
       "      <td>995522</td>\n",
       "      <td>70.432911</td>\n",
       "    </tr>\n",
       "    <tr>\n",
       "      <th>6</th>\n",
       "      <td>reviewState</td>\n",
       "      <td>object</td>\n",
       "      <td>1413433</td>\n",
       "      <td>100.000000</td>\n",
       "    </tr>\n",
       "    <tr>\n",
       "      <th>7</th>\n",
       "      <td>publicatioName</td>\n",
       "      <td>object</td>\n",
       "      <td>1413433</td>\n",
       "      <td>100.000000</td>\n",
       "    </tr>\n",
       "    <tr>\n",
       "      <th>8</th>\n",
       "      <td>reviewText</td>\n",
       "      <td>object</td>\n",
       "      <td>1345712</td>\n",
       "      <td>95.208758</td>\n",
       "    </tr>\n",
       "    <tr>\n",
       "      <th>9</th>\n",
       "      <td>scoreSentiment</td>\n",
       "      <td>object</td>\n",
       "      <td>1413433</td>\n",
       "      <td>100.000000</td>\n",
       "    </tr>\n",
       "    <tr>\n",
       "      <th>10</th>\n",
       "      <td>reviewUrl</td>\n",
       "      <td>object</td>\n",
       "      <td>1206421</td>\n",
       "      <td>85.353957</td>\n",
       "    </tr>\n",
       "    <tr>\n",
       "      <th>11</th>\n",
       "      <td>title</td>\n",
       "      <td>object</td>\n",
       "      <td>1413204</td>\n",
       "      <td>99.983798</td>\n",
       "    </tr>\n",
       "    <tr>\n",
       "      <th>12</th>\n",
       "      <td>audienceScore</td>\n",
       "      <td>float64</td>\n",
       "      <td>1352861</td>\n",
       "      <td>95.714547</td>\n",
       "    </tr>\n",
       "    <tr>\n",
       "      <th>13</th>\n",
       "      <td>tomatoMeter</td>\n",
       "      <td>float64</td>\n",
       "      <td>1355585</td>\n",
       "      <td>95.907270</td>\n",
       "    </tr>\n",
       "    <tr>\n",
       "      <th>14</th>\n",
       "      <td>runtimeMinutes</td>\n",
       "      <td>float64</td>\n",
       "      <td>1387528</td>\n",
       "      <td>98.167228</td>\n",
       "    </tr>\n",
       "    <tr>\n",
       "      <th>15</th>\n",
       "      <td>genre</td>\n",
       "      <td>object</td>\n",
       "      <td>1392387</td>\n",
       "      <td>98.511001</td>\n",
       "    </tr>\n",
       "    <tr>\n",
       "      <th>16</th>\n",
       "      <td>originalLanguage</td>\n",
       "      <td>object</td>\n",
       "      <td>1386935</td>\n",
       "      <td>98.125274</td>\n",
       "    </tr>\n",
       "    <tr>\n",
       "      <th>17</th>\n",
       "      <td>director</td>\n",
       "      <td>object</td>\n",
       "      <td>1404883</td>\n",
       "      <td>99.395090</td>\n",
       "    </tr>\n",
       "    <tr>\n",
       "      <th>18</th>\n",
       "      <td>writer</td>\n",
       "      <td>object</td>\n",
       "      <td>1266413</td>\n",
       "      <td>89.598375</td>\n",
       "    </tr>\n",
       "    <tr>\n",
       "      <th>19</th>\n",
       "      <td>rating_nume</td>\n",
       "      <td>float64</td>\n",
       "      <td>995469</td>\n",
       "      <td>70.429161</td>\n",
       "    </tr>\n",
       "    <tr>\n",
       "      <th>20</th>\n",
       "      <td>rating_denom</td>\n",
       "      <td>float64</td>\n",
       "      <td>991903</td>\n",
       "      <td>70.176867</td>\n",
       "    </tr>\n",
       "    <tr>\n",
       "      <th>21</th>\n",
       "      <td>rating_ordinal</td>\n",
       "      <td>object</td>\n",
       "      <td>160178</td>\n",
       "      <td>11.332550</td>\n",
       "    </tr>\n",
       "    <tr>\n",
       "      <th>22</th>\n",
       "      <td>standard _rating</td>\n",
       "      <td>int64</td>\n",
       "      <td>1413433</td>\n",
       "      <td>100.000000</td>\n",
       "    </tr>\n",
       "  </tbody>\n",
       "</table>\n",
       "</div>\n",
       "      <button class=\"colab-df-convert\" onclick=\"convertToInteractive('df-f5bf9736-0390-49ce-9a7b-c8447e155fdb')\"\n",
       "              title=\"Convert this dataframe to an interactive table.\"\n",
       "              style=\"display:none;\">\n",
       "\n",
       "  <svg xmlns=\"http://www.w3.org/2000/svg\" height=\"24px\"viewBox=\"0 0 24 24\"\n",
       "       width=\"24px\">\n",
       "    <path d=\"M0 0h24v24H0V0z\" fill=\"none\"/>\n",
       "    <path d=\"M18.56 5.44l.94 2.06.94-2.06 2.06-.94-2.06-.94-.94-2.06-.94 2.06-2.06.94zm-11 1L8.5 8.5l.94-2.06 2.06-.94-2.06-.94L8.5 2.5l-.94 2.06-2.06.94zm10 10l.94 2.06.94-2.06 2.06-.94-2.06-.94-.94-2.06-.94 2.06-2.06.94z\"/><path d=\"M17.41 7.96l-1.37-1.37c-.4-.4-.92-.59-1.43-.59-.52 0-1.04.2-1.43.59L10.3 9.45l-7.72 7.72c-.78.78-.78 2.05 0 2.83L4 21.41c.39.39.9.59 1.41.59.51 0 1.02-.2 1.41-.59l7.78-7.78 2.81-2.81c.8-.78.8-2.07 0-2.86zM5.41 20L4 18.59l7.72-7.72 1.47 1.35L5.41 20z\"/>\n",
       "  </svg>\n",
       "      </button>\n",
       "\n",
       "\n",
       "\n",
       "    <div id=\"df-10e74cbd-9480-4469-bf66-b640cd8fdf49\">\n",
       "      <button class=\"colab-df-quickchart\" onclick=\"quickchart('df-10e74cbd-9480-4469-bf66-b640cd8fdf49')\"\n",
       "              title=\"Suggest charts.\"\n",
       "              style=\"display:none;\">\n",
       "\n",
       "<svg xmlns=\"http://www.w3.org/2000/svg\" height=\"24px\"viewBox=\"0 0 24 24\"\n",
       "     width=\"24px\">\n",
       "    <g>\n",
       "        <path d=\"M19 3H5c-1.1 0-2 .9-2 2v14c0 1.1.9 2 2 2h14c1.1 0 2-.9 2-2V5c0-1.1-.9-2-2-2zM9 17H7v-7h2v7zm4 0h-2V7h2v10zm4 0h-2v-4h2v4z\"/>\n",
       "    </g>\n",
       "</svg>\n",
       "      </button>\n",
       "    </div>\n",
       "\n",
       "<style>\n",
       "  .colab-df-quickchart {\n",
       "    background-color: #E8F0FE;\n",
       "    border: none;\n",
       "    border-radius: 50%;\n",
       "    cursor: pointer;\n",
       "    display: none;\n",
       "    fill: #1967D2;\n",
       "    height: 32px;\n",
       "    padding: 0 0 0 0;\n",
       "    width: 32px;\n",
       "  }\n",
       "\n",
       "  .colab-df-quickchart:hover {\n",
       "    background-color: #E2EBFA;\n",
       "    box-shadow: 0px 1px 2px rgba(60, 64, 67, 0.3), 0px 1px 3px 1px rgba(60, 64, 67, 0.15);\n",
       "    fill: #174EA6;\n",
       "  }\n",
       "\n",
       "  [theme=dark] .colab-df-quickchart {\n",
       "    background-color: #3B4455;\n",
       "    fill: #D2E3FC;\n",
       "  }\n",
       "\n",
       "  [theme=dark] .colab-df-quickchart:hover {\n",
       "    background-color: #434B5C;\n",
       "    box-shadow: 0px 1px 3px 1px rgba(0, 0, 0, 0.15);\n",
       "    filter: drop-shadow(0px 1px 2px rgba(0, 0, 0, 0.3));\n",
       "    fill: #FFFFFF;\n",
       "  }\n",
       "</style>\n",
       "\n",
       "    <script>\n",
       "      async function quickchart(key) {\n",
       "        const containerElement = document.querySelector('#' + key);\n",
       "        const charts = await google.colab.kernel.invokeFunction(\n",
       "            'suggestCharts', [key], {});\n",
       "      }\n",
       "    </script>\n",
       "\n",
       "      <script>\n",
       "\n",
       "function displayQuickchartButton(domScope) {\n",
       "  let quickchartButtonEl =\n",
       "    domScope.querySelector('#df-10e74cbd-9480-4469-bf66-b640cd8fdf49 button.colab-df-quickchart');\n",
       "  quickchartButtonEl.style.display =\n",
       "    google.colab.kernel.accessAllowed ? 'block' : 'none';\n",
       "}\n",
       "\n",
       "        displayQuickchartButton(document);\n",
       "      </script>\n",
       "      <style>\n",
       "    .colab-df-container {\n",
       "      display:flex;\n",
       "      flex-wrap:wrap;\n",
       "      gap: 12px;\n",
       "    }\n",
       "\n",
       "    .colab-df-convert {\n",
       "      background-color: #E8F0FE;\n",
       "      border: none;\n",
       "      border-radius: 50%;\n",
       "      cursor: pointer;\n",
       "      display: none;\n",
       "      fill: #1967D2;\n",
       "      height: 32px;\n",
       "      padding: 0 0 0 0;\n",
       "      width: 32px;\n",
       "    }\n",
       "\n",
       "    .colab-df-convert:hover {\n",
       "      background-color: #E2EBFA;\n",
       "      box-shadow: 0px 1px 2px rgba(60, 64, 67, 0.3), 0px 1px 3px 1px rgba(60, 64, 67, 0.15);\n",
       "      fill: #174EA6;\n",
       "    }\n",
       "\n",
       "    [theme=dark] .colab-df-convert {\n",
       "      background-color: #3B4455;\n",
       "      fill: #D2E3FC;\n",
       "    }\n",
       "\n",
       "    [theme=dark] .colab-df-convert:hover {\n",
       "      background-color: #434B5C;\n",
       "      box-shadow: 0px 1px 3px 1px rgba(0, 0, 0, 0.15);\n",
       "      filter: drop-shadow(0px 1px 2px rgba(0, 0, 0, 0.3));\n",
       "      fill: #FFFFFF;\n",
       "    }\n",
       "  </style>\n",
       "\n",
       "      <script>\n",
       "        const buttonEl =\n",
       "          document.querySelector('#df-f5bf9736-0390-49ce-9a7b-c8447e155fdb button.colab-df-convert');\n",
       "        buttonEl.style.display =\n",
       "          google.colab.kernel.accessAllowed ? 'block' : 'none';\n",
       "\n",
       "        async function convertToInteractive(key) {\n",
       "          const element = document.querySelector('#df-f5bf9736-0390-49ce-9a7b-c8447e155fdb');\n",
       "          const dataTable =\n",
       "            await google.colab.kernel.invokeFunction('convertToInteractive',\n",
       "                                                     [key], {});\n",
       "          if (!dataTable) return;\n",
       "\n",
       "          const docLinkHtml = 'Like what you see? Visit the ' +\n",
       "            '<a target=\"_blank\" href=https://colab.research.google.com/notebooks/data_table.ipynb>data table notebook</a>'\n",
       "            + ' to learn more about interactive tables.';\n",
       "          element.innerHTML = '';\n",
       "          dataTable['output_type'] = 'display_data';\n",
       "          await google.colab.output.renderOutput(dataTable, element);\n",
       "          const docLink = document.createElement('div');\n",
       "          docLink.innerHTML = docLinkHtml;\n",
       "          element.appendChild(docLink);\n",
       "        }\n",
       "      </script>\n",
       "    </div>\n",
       "  </div>\n"
      ],
      "text/plain": [
       "             feature     type  non_null  non_null_percentage\n",
       "0                 id   object   1413433           100.000000\n",
       "1           reviewId    int64   1413433           100.000000\n",
       "2       creationDate   object   1413433           100.000000\n",
       "3         criticName   object   1413433           100.000000\n",
       "4        isTopCritic     bool   1413433           100.000000\n",
       "5      originalScore   object    995522            70.432911\n",
       "6        reviewState   object   1413433           100.000000\n",
       "7     publicatioName   object   1413433           100.000000\n",
       "8         reviewText   object   1345712            95.208758\n",
       "9     scoreSentiment   object   1413433           100.000000\n",
       "10         reviewUrl   object   1206421            85.353957\n",
       "11             title   object   1413204            99.983798\n",
       "12     audienceScore  float64   1352861            95.714547\n",
       "13       tomatoMeter  float64   1355585            95.907270\n",
       "14    runtimeMinutes  float64   1387528            98.167228\n",
       "15             genre   object   1392387            98.511001\n",
       "16  originalLanguage   object   1386935            98.125274\n",
       "17          director   object   1404883            99.395090\n",
       "18            writer   object   1266413            89.598375\n",
       "19       rating_nume  float64    995469            70.429161\n",
       "20      rating_denom  float64    991903            70.176867\n",
       "21    rating_ordinal   object    160178            11.332550\n",
       "22  standard _rating    int64   1413433           100.000000"
      ]
     },
     "execution_count": 43,
     "metadata": {},
     "output_type": "execute_result"
    }
   ],
   "source": [
    "\n",
    "df_info = pd.concat([pd.DataFrame(merge_df.dtypes), pd.DataFrame(merge_df.count())], axis=1).reset_index(drop=False)\n",
    "n = merge_df.shape[0]\n",
    "print(n)\n",
    "df_info.columns = ['feature', 'type', 'non_null']\n",
    "df_info['non_null_percentage'] = df_info['non_null'].apply(lambda x : (x/n)*100)\n",
    "df_info\n"
   ]
  },
  {
   "cell_type": "code",
   "execution_count": null,
   "metadata": {
    "colab": {
     "base_uri": "https://localhost:8080/"
    },
    "id": "SaLeQITe2XYy",
    "outputId": "b1d18fde-55c2-439a-c964-68775825d1fd"
   },
   "outputs": [
    {
     "data": {
      "text/plain": [
       "dtype('int64')"
      ]
     },
     "execution_count": 44,
     "metadata": {},
     "output_type": "execute_result"
    }
   ],
   "source": [
    "merge_df['standard _rating'] = merge_df['standard _rating'].astype(int)\n",
    "merge_df['standard _rating'].dtype"
   ]
  },
  {
   "cell_type": "code",
   "execution_count": null,
   "metadata": {
    "id": "o1mKyKNux0QI"
   },
   "outputs": [],
   "source": [
    "# convering 'creationDate' in date time format and extarct day, month and year info\n",
    "\n",
    "merge_df['creationDate'] = pd.to_datetime(merge_df['creationDate'],format = '%Y-%m-%dT', errors = 'coerce')\n",
    "merge_df['creation_year'] = merge_df['creationDate'].dt.year\n",
    "merge_df['creation_month'] = merge_df['creationDate'].dt.month\n",
    "merge_df['creation_day'] = merge_df['creationDate'].dt.day"
   ]
  },
  {
   "cell_type": "code",
   "execution_count": null,
   "metadata": {
    "id": "lr2H2ZVTj2FM"
   },
   "outputs": [],
   "source": [
    "def create_era(x):\n",
    "    if x < 1851:\n",
    "        era = 'early_to_mid-19s'\n",
    "    elif (x < 1901) & (x >= 1851):\n",
    "        era = 'mid_to_late-19s'\n",
    "    elif (x < 1951) & (x >= 1901):\n",
    "        era = 'early_to_mid-20s'\n",
    "    elif (x < 2001) & (x >= 1951):\n",
    "        era = 'mid_to_late-20s'\n",
    "    else:\n",
    "        era = '21st'\n",
    "    return era"
   ]
  },
  {
   "cell_type": "code",
   "execution_count": null,
   "metadata": {
    "id": "NS9QWlVgcZt8"
   },
   "outputs": [],
   "source": [
    "merge_df['creation_era'] = merge_df['creation_year'].apply(lambda x : create_era(x))"
   ]
  },
  {
   "cell_type": "code",
   "execution_count": null,
   "metadata": {
    "colab": {
     "base_uri": "https://localhost:8080/"
    },
    "id": "6mCqFtTomTev",
    "outputId": "f88abf3e-e66e-485b-efb6-09da2f60f242"
   },
   "outputs": [
    {
     "data": {
      "text/plain": [
       "21st                1364557\n",
       "mid_to_late-20s       48763\n",
       "early_to_mid-19s         70\n",
       "early_to_mid-20s         43\n",
       "Name: creation_era, dtype: int64"
      ]
     },
     "execution_count": 48,
     "metadata": {},
     "output_type": "execute_result"
    }
   ],
   "source": [
    "merge_df['creation_era'].value_counts()"
   ]
  },
  {
   "cell_type": "code",
   "execution_count": null,
   "metadata": {
    "id": "0eYSu_kMndFM"
   },
   "outputs": [],
   "source": [
    "merge_df['first_genre'] = merge_df['genre'].apply(lambda x : x.split(\",\")[0] if pd.notna(x) else x)"
   ]
  },
  {
   "cell_type": "code",
   "execution_count": null,
   "metadata": {
    "colab": {
     "base_uri": "https://localhost:8080/"
    },
    "id": "CnIdAEsen-wa",
    "outputId": "9285fa51-b483-44af-8b10-83689d93863e"
   },
   "outputs": [
    {
     "name": "stdout",
     "output_type": "stream",
     "text": [
      "28\n",
      "1413288\n"
     ]
    },
    {
     "data": {
      "text/plain": [
       "15212"
      ]
     },
     "execution_count": 51,
     "metadata": {},
     "output_type": "execute_result"
    }
   ],
   "source": [
    "print(len(merge_df['first_genre'].unique()))\n",
    "# print(len(str(merge_df['reviewId'])).unique())\n",
    "print(len(merge_df['reviewId'].unique()))\n",
    "len(merge_df['criticName'].unique())"
   ]
  },
  {
   "cell_type": "code",
   "execution_count": null,
   "metadata": {
    "id": "rtX2vQi5uRSu"
   },
   "outputs": [],
   "source": [
    "# merge_df.to_csv('/content/drive/MyDrive/Colab Notebooks/CapstoneProject/merge_df.csv', index = False)"
   ]
  },
  {
   "cell_type": "markdown",
   "metadata": {
    "id": "MP1PT1dI51MI"
   },
   "source": [
    "## Univariate analysis"
   ]
  },
  {
   "cell_type": "code",
   "execution_count": null,
   "metadata": {
    "id": "ixnGKq4h4nGD"
   },
   "outputs": [],
   "source": [
    "# temp = merge_df.copy(deep=True)"
   ]
  },
  {
   "cell_type": "code",
   "execution_count": null,
   "metadata": {
    "id": "rnFbUjejvaXi"
   },
   "outputs": [],
   "source": [
    "temp = pd.read_csv('/content/drive/MyDrive/Colab Notebooks/CapstoneProject/merge_df.csv')"
   ]
  },
  {
   "cell_type": "code",
   "execution_count": null,
   "metadata": {
    "id": "E-cO8-6gzyp_"
   },
   "outputs": [],
   "source": [
    "## removing all those columns which are not required\n",
    "\n",
    "temp = temp.drop(columns = ['id', 'originalScore','rating_nume', 'rating_denom', 'rating_ordinal', 'creation_month', 'creation_day'])\n"
   ]
  },
  {
   "cell_type": "code",
   "execution_count": null,
   "metadata": {
    "colab": {
     "base_uri": "https://localhost:8080/",
     "height": 489
    },
    "id": "jztqTtRP5zu0",
    "outputId": "30373fda-0b1f-4315-f112-6a33b2d740d2"
   },
   "outputs": [
    {
     "data": {
      "text/plain": [
       "<BarContainer object of 4 artists>"
      ]
     },
     "execution_count": 71,
     "metadata": {},
     "output_type": "execute_result"
    },
    {
     "data": {
      "image/png": "[encoded data removed]",
      "text/plain": [
       "<Figure size 640x480 with 1 Axes>"
      ]
     },
     "metadata": {},
     "output_type": "display_data"
    }
   ],
   "source": [
    "f = merge_df['creation_era'].value_counts().reset_index()\n",
    "f.columns = ['creation_era','count']\n",
    "plt.title('movies distribution across creation era')\n",
    "plt.xlabel('Creation_era')\n",
    "plt.ylabel('count of movies')\n",
    "\n",
    "plt.bar(f['creation_era'], f['count'])"
   ]
  },
  {
   "cell_type": "code",
   "execution_count": null,
   "metadata": {
    "colab": {
     "base_uri": "https://localhost:8080/",
     "height": 504
    },
    "id": "TEFhnIBrhxnm",
    "outputId": "554cd184-13f5-4a5d-cc76-c50b4055f58e"
   },
   "outputs": [
    {
     "data": {
      "text/plain": [
       "[Text(0.5, 0, 'scoreSentiment'), Text(0, 0.5, 'count of movies')]"
      ]
     },
     "execution_count": 69,
     "metadata": {},
     "output_type": "execute_result"
    },
    {
     "data": {
      "image/png": "[encoded data removed]",
      "text/plain": [
       "<Figure size 1000x500 with 2 Axes>"
      ]
     },
     "metadata": {},
     "output_type": "display_data"
    }
   ],
   "source": [
    "f = merge_df['reviewState'].value_counts().reset_index()\n",
    "f.columns = ['reviewState', 'count']\n",
    "g = merge_df['scoreSentiment'].value_counts().reset_index()\n",
    "g.columns = ['scoreSentiment', 'count']\n",
    "\n",
    "fig, axs = plt.subplots(1,2, figsize=(10,5))\n",
    "axs[0].bar(f['reviewState'], f['count'])\n",
    "axs[0].set_title('Review-state wise movie distribution')\n",
    "axs[0].set(xlabel='reviewState', ylabel='count of movies')\n",
    "# axs[0].set_ylabel('count of movies')\n",
    "\n",
    "axs[1].bar(g['scoreSentiment'], g['count'])\n",
    "axs[1].set_title('sentiment wise movie distribution')\n",
    "axs[1].set(xlabel='scoreSentiment', ylabel='count of movies')\n",
    "# axs[1].set_xlabel('common xlabel')()\n",
    "# axs[1].set_ylabel('count of movies')\n",
    "# merge_df[['reviewState', 'scoreSentiment']].value_counts() #.plot(kind = 'bar', subplot=True,figsize = (5,5))"
   ]
  },
  {
   "cell_type": "code",
   "execution_count": null,
   "metadata": {
    "colab": {
     "base_uri": "https://localhost:8080/",
     "height": 487
    },
    "id": "5nA1gCMCfaPD",
    "outputId": "49f2a018-2ddc-4b3c-ad22-c2a797918fe7"
   },
   "outputs": [
    {
     "data": {
      "image/png": "[encoded data removed]",
      "text/plain": [
       "<Figure size 1000x500 with 1 Axes>"
      ]
     },
     "metadata": {},
     "output_type": "display_data"
    }
   ],
   "source": [
    "temp2 = merge_df[['audienceScore', 'tomatoMeter', 'standard _rating', 'creation_era', 'first_genre']]\n",
    "plt.figure(figsize=(10,5))\n",
    "sns.boxplot(x = 'creation_era', y= 'standard _rating', data=temp2, showmeans=True, meanprops = {\"marker\":\"o\", \"markerfacecolor\":\"white\"}).set(title='era wise rating distribution')\n",
    "plt.show()"
   ]
  },
  {
   "cell_type": "code",
   "execution_count": null,
   "metadata": {
    "colab": {
     "base_uri": "https://localhost:8080/",
     "height": 487
    },
    "id": "aG4KC5cKoTfn",
    "outputId": "f57b9c9e-8f37-4d5c-f758-bca7c396914b"
   },
   "outputs": [
    {
     "data": {
      "image/png": "[encoded data removed]",
      "text/plain": [
       "<Figure size 1000x500 with 1 Axes>"
      ]
     },
     "metadata": {},
     "output_type": "display_data"
    }
   ],
   "source": [
    "plt.figure(figsize = (10,5))\n",
    "sns.barplot(x='standard _rating', y = 'first_genre', data=temp2).set(title='critic rating distribution for each genre')\n",
    "# plt.show()\n",
    "plt.show()"
   ]
  },
  {
   "cell_type": "code",
   "execution_count": null,
   "metadata": {
    "colab": {
     "base_uri": "https://localhost:8080/",
     "height": 448
    },
    "id": "XOH5bny0EThF",
    "outputId": "a496b4fa-b027-41cc-f30c-d7b0ac7bda50"
   },
   "outputs": [
    {
     "data": {
      "text/plain": [
       "<function matplotlib.pyplot.show(close=None, block=None)>"
      ]
     },
     "execution_count": 74,
     "metadata": {},
     "output_type": "execute_result"
    },
    {
     "data": {
      "image/png": "[encoded data removed]",
      "text/plain": [
       "<Figure size 1500x500 with 1 Axes>"
      ]
     },
     "metadata": {},
     "output_type": "display_data"
    }
   ],
   "source": [
    "count = temp2['first_genre'].value_counts()\n",
    "plt.figure(figsize = (15,5))\n",
    "plt.bar(count.index, count.values)\n",
    "plt.title('movies distribution across genre')\n",
    "plt.xlabel('genre')\n",
    "plt.ylabel('count of movies')\n",
    "plt.show"
   ]
  },
  {
   "cell_type": "code",
   "execution_count": null,
   "metadata": {
    "colab": {
     "base_uri": "https://localhost:8080/",
     "height": 472
    },
    "id": "25JOGaqpSLyG",
    "outputId": "2c405028-18ed-4f56-e917-4d84899f29a6"
   },
   "outputs": [
    {
     "data": {
      "image/png": "[encoded data removed]",
      "text/plain": [
       "<Figure size 640x480 with 1 Axes>"
      ]
     },
     "metadata": {},
     "output_type": "display_data"
    }
   ],
   "source": [
    "# plt.figure(figsize = (10,5))\n",
    "count = temp2['standard _rating'].value_counts()\n",
    "plt.bar(count.index, count.values)\n",
    "plt.title('rating distribution')\n",
    "plt.xlabel('rating')\n",
    "plt.ylabel('count of rating')\n",
    "plt.show()"
   ]
  },
  {
   "cell_type": "markdown",
   "metadata": {
    "id": "nyQ95IF6ZEnG"
   },
   "source": [
    "## Content based filtering"
   ]
  },
  {
   "cell_type": "code",
   "execution_count": null,
   "metadata": {
    "id": "RAaUFwd7q_6Y"
   },
   "outputs": [],
   "source": [
    "# !pip install chunkdot"
   ]
  },
  {
   "cell_type": "markdown",
   "metadata": {
    "id": "ZXwLZ4WLwpig"
   },
   "source": [
    "#### Importing packages"
   ]
  },
  {
   "cell_type": "code",
   "execution_count": null,
   "metadata": {
    "id": "B2UDk6KbdUEQ"
   },
   "outputs": [],
   "source": [
    "import sklearn\n",
    "from sklearn.feature_extraction.text import TfidfVectorizer"
   ]
  },
  {
   "cell_type": "code",
   "execution_count": null,
   "metadata": {
    "colab": {
     "base_uri": "https://localhost:8080/"
    },
    "id": "EjHxHSI7dUbX",
    "outputId": "05ce7431-36d3-4d57-dc5e-dc09a0e82aca"
   },
   "outputs": [
    {
     "name": "stdout",
     "output_type": "stream",
     "text": [
      "(1413433, 28)\n"
     ]
    },
    {
     "data": {
      "text/plain": [
       "Index(['id', 'reviewId', 'creationDate', 'criticName', 'isTopCritic',\n",
       "       'originalScore', 'reviewState', 'publicatioName', 'reviewText',\n",
       "       'scoreSentiment', 'reviewUrl', 'title', 'audienceScore', 'tomatoMeter',\n",
       "       'runtimeMinutes', 'genre', 'originalLanguage', 'director', 'writer',\n",
       "       'rating_nume', 'rating_denom', 'rating_ordinal', 'standard _rating',\n",
       "       'creation_year', 'creation_month', 'creation_day', 'creation_era',\n",
       "       'first_genre'],\n",
       "      dtype='object')"
      ]
     },
     "execution_count": 60,
     "metadata": {},
     "output_type": "execute_result"
    }
   ],
   "source": [
    "print(merge_df.shape)\n",
    "merge_df.columns"
   ]
  },
  {
   "cell_type": "markdown",
   "metadata": {
    "id": "IiYSW4m3wwfV"
   },
   "source": [
    "#### missing value treatment and merging all required text column to create tfidf vectors"
   ]
  },
  {
   "cell_type": "code",
   "execution_count": null,
   "metadata": {
    "colab": {
     "base_uri": "https://localhost:8080/"
    },
    "id": "lLhLePpD1P0t",
    "outputId": "7d8228a4-ca46-49ac-bff0-488d5522a777"
   },
   "outputs": [
    {
     "data": {
      "text/plain": [
       "(1413433, 28)"
      ]
     },
     "execution_count": 61,
     "metadata": {},
     "output_type": "execute_result"
    }
   ],
   "source": [
    "content_df = merge_df.fillna(\" \")\n",
    "content_df.shape"
   ]
  },
  {
   "cell_type": "code",
   "execution_count": null,
   "metadata": {
    "id": "UlwczMTCdUf0"
   },
   "outputs": [],
   "source": [
    "content_df['text'] = content_df['publicatioName'] + \" \" + content_df['reviewText'] + \" \" + content_df['director'] + \" \" + content_df['writer']"
   ]
  },
  {
   "cell_type": "code",
   "execution_count": null,
   "metadata": {
    "colab": {
     "base_uri": "https://localhost:8080/"
    },
    "id": "mGGpX1ih_jxx",
    "outputId": "8da832d1-9eb0-44c7-a69b-d87364de5061"
   },
   "outputs": [
    {
     "data": {
      "text/plain": [
       "(54531, 29)"
      ]
     },
     "execution_count": 63,
     "metadata": {},
     "output_type": "execute_result"
    }
   ],
   "source": [
    "#  dropping null values\n",
    "content_df.dropna(subset = 'text', inplace=True)\n",
    "# droping duplicate titles\n",
    "content_df.drop_duplicates(subset = 'title', inplace = True)\n",
    "content_df.shape"
   ]
  },
  {
   "cell_type": "code",
   "execution_count": null,
   "metadata": {
    "id": "reKG5OO__j1h"
   },
   "outputs": [],
   "source": [
    "content_df.reset_index(drop=True,inplace=True)"
   ]
  },
  {
   "cell_type": "code",
   "execution_count": null,
   "metadata": {
    "colab": {
     "base_uri": "https://localhost:8080/"
    },
    "id": "pY26WSZ-q7lE",
    "outputId": "db3c6ea7-5d06-449a-c167-822457bbd66a"
   },
   "outputs": [
    {
     "data": {
      "text/plain": [
       "0                                   Beavers\n",
       "1                                Blood Mask\n",
       "2        City Hunter: Shinjuku Private Eyes\n",
       "3                             Dangerous Men\n",
       "4                      Small Town Wisconsin\n",
       "                        ...                \n",
       "54526                      Sex and the City\n",
       "54527              the huntsman winters war\n",
       "54528                Catherine Called Birdy\n",
       "54529                             Nomadland\n",
       "54530                Thor: Love and Thunder\n",
       "Name: title, Length: 54531, dtype: object"
      ]
     },
     "execution_count": 3,
     "metadata": {},
     "output_type": "execute_result"
    }
   ],
   "source": [
    "# content_df.to_csv(\"/content/drive/MyDrive/Colab Notebooks/CapstoneProject/content_df_interim.csv\", index=False)\n",
    "content_df = pd.read_csv(\"/content/drive/MyDrive/Colab Notebooks/CapstoneProject/content_df_interim.csv\")\n",
    "content_df['title']"
   ]
  },
  {
   "cell_type": "markdown",
   "metadata": {
    "id": "XVOse_3GSXBv"
   },
   "source": [
    "#### transform text in vectors using tf_idf vetorizer"
   ]
  },
  {
   "cell_type": "code",
   "execution_count": null,
   "metadata": {
    "id": "TavUK5ak2pBk"
   },
   "outputs": [],
   "source": [
    "from sklearn.feature_extraction.text import TfidfVectorizer"
   ]
  },
  {
   "cell_type": "code",
   "execution_count": null,
   "metadata": {
    "id": "KVWVSDC__j_6"
   },
   "outputs": [],
   "source": [
    "tf = TfidfVectorizer(ngram_range=(1,2))"
   ]
  },
  {
   "cell_type": "markdown",
   "metadata": {
    "id": "lhdF6j9ESn7X"
   },
   "source": [
    "#### creating a matrix of vectors of each text"
   ]
  },
  {
   "cell_type": "code",
   "execution_count": null,
   "metadata": {
    "id": "iV0wot3VQxCZ"
   },
   "outputs": [],
   "source": [
    "tf_idf_matrix = tf.fit_transform(content_df['text'])"
   ]
  },
  {
   "cell_type": "code",
   "execution_count": null,
   "metadata": {
    "colab": {
     "base_uri": "https://localhost:8080/"
    },
    "id": "U8bafdwUQxGe",
    "outputId": "66781c03-bc97-4cc8-dfec-6ff56020adaf"
   },
   "outputs": [
    {
     "name": "stdout",
     "output_type": "stream",
     "text": [
      "no of documents in corpus :  54531\n",
      "no of tokens in corpus :  686309\n",
      "tfidf_matrix shape :  (54531, 686309)\n"
     ]
    }
   ],
   "source": [
    "print(\"no of documents in corpus : \",content_df.shape[0])\n",
    "print(\"no of tokens in corpus : \",len(tf.vocabulary_))\n",
    "print(\"tfidf_matrix shape : \", tf_idf_matrix.shape)"
   ]
  },
  {
   "cell_type": "code",
   "execution_count": null,
   "metadata": {
    "id": "mGvck3PLuU2O"
   },
   "outputs": [],
   "source": [
    "# !pip install chunkdot"
   ]
  },
  {
   "cell_type": "code",
   "execution_count": null,
   "metadata": {
    "id": "tU1r24DgZZC3"
   },
   "outputs": [],
   "source": [
    "import pickle\n",
    "from chunkdot import cosine_similarity_top_k"
   ]
  },
  {
   "cell_type": "code",
   "execution_count": null,
   "metadata": {
    "id": "KMQklPiAz-GT"
   },
   "outputs": [],
   "source": [
    "# with open('/content/drive/MyDrive/Colab Notebooks/CapstoneProject/tf_idf_matrix.pkl', 'wb') as f:\n",
    "#     pickle.dump(tf_idf_matrix, f)"
   ]
  },
  {
   "cell_type": "code",
   "execution_count": null,
   "metadata": {
    "colab": {
     "base_uri": "https://localhost:8080/"
    },
    "id": "syTxTNcZ0BIf",
    "outputId": "3f80a0f1-bd5a-4d5c-ec50-ac07b6a4b84c"
   },
   "outputs": [
    {
     "data": {
      "text/plain": [
       "(54531, 703026)"
      ]
     },
     "execution_count": 82,
     "metadata": {},
     "output_type": "execute_result"
    }
   ],
   "source": [
    "with open('/content/drive/MyDrive/Colab Notebooks/CapstoneProject/tf_idf_matrix.pkl', 'rb') as f:\n",
    "    tf_idf_matrix = pickle.load(f)\n",
    "tf_idf_matrix.shape"
   ]
  },
  {
   "cell_type": "markdown",
   "metadata": {
    "id": "8rP3rO5YSwoc"
   },
   "source": [
    "#### Calculate the cosine similarity of each text vector against other text vector. This will create matrix of n*n where n = no of text documennt"
   ]
  },
  {
   "cell_type": "code",
   "execution_count": null,
   "metadata": {
    "id": "Yi02IR9yWJXS"
   },
   "outputs": [],
   "source": [
    "try:\n",
    "    del cosine_sim_top11   # to delete this variable so that environment is not dead as this matrix is very big\n",
    "except:\n",
    "    pass\n",
    "cosine_sim_top11 = cosine_similarity_top_k(tf_idf_matrix, 11)"
   ]
  },
  {
   "cell_type": "code",
   "execution_count": null,
   "metadata": {
    "colab": {
     "base_uri": "https://localhost:8080/"
    },
    "id": "78dJrQOKDIaq",
    "outputId": "ae32e58d-7dc0-43c4-cde9-e4d8b4221317"
   },
   "outputs": [
    {
     "data": {
      "text/plain": [
       "(54531, 54531)"
      ]
     },
     "execution_count": 12,
     "metadata": {},
     "output_type": "execute_result"
    }
   ],
   "source": [
    "cosine_sim_top11.shape"
   ]
  },
  {
   "cell_type": "code",
   "execution_count": null,
   "metadata": {
    "id": "J7Zo5G05DBuq"
   },
   "outputs": [],
   "source": [
    "# with open('/content/drive/MyDrive/Colab Notebooks/CapstoneProject/cosine_sim_top11.pkl', 'wb') as f:\n",
    "#     pickle.dump(cosine_sim_top11, f)"
   ]
  },
  {
   "cell_type": "code",
   "execution_count": null,
   "metadata": {
    "colab": {
     "base_uri": "https://localhost:8080/"
    },
    "id": "M1BH1dADDQfR",
    "outputId": "82cfa098-2108-4036-daa7-a3b28a4bac16"
   },
   "outputs": [
    {
     "data": {
      "text/plain": [
       "(54531, 54531)"
      ]
     },
     "execution_count": 86,
     "metadata": {},
     "output_type": "execute_result"
    }
   ],
   "source": [
    "# with open('/content/drive/MyDrive/Colab Notebooks/CapstoneProject/cosine_sim_top11.pkl', 'rb') as f:\n",
    "#     cosine_sim_top11 = pickle.load(f)\n",
    "# cosine_sim_top11.shape"
   ]
  },
  {
   "cell_type": "code",
   "execution_count": null,
   "metadata": {
    "colab": {
     "base_uri": "https://localhost:8080/"
    },
    "id": "6_kFTxhdzxHj",
    "outputId": "cf02f50b-0f99-4420-f010-896a12f02b3c"
   },
   "outputs": [
    {
     "data": {
      "text/plain": [
       "Index(['id', 'reviewId', 'creationDate', 'criticName', 'isTopCritic',\n",
       "       'originalScore', 'reviewState', 'publicatioName', 'reviewText',\n",
       "       'scoreSentiment', 'reviewUrl', 'title', 'audienceScore', 'tomatoMeter',\n",
       "       'runtimeMinutes', 'genre', 'originalLanguage', 'director', 'writer',\n",
       "       'rating_nume', 'rating_denom', 'rating_ordinal', 'standard _rating',\n",
       "       'creation_year', 'creation_month', 'creation_day', 'creation_era',\n",
       "       'first_genre', 'text'],\n",
       "      dtype='object')"
      ]
     },
     "execution_count": 13,
     "metadata": {},
     "output_type": "execute_result"
    }
   ],
   "source": [
    "content_df.columns"
   ]
  },
  {
   "cell_type": "code",
   "execution_count": null,
   "metadata": {
    "id": "0l8jdj-TDtmD"
   },
   "outputs": [],
   "source": [
    "movieMetadata_df = content_df[['title', 'audienceScore', 'runtimeMinutes', 'genre', 'originalLanguage','director','publicatioName']]"
   ]
  },
  {
   "cell_type": "code",
   "execution_count": null,
   "metadata": {
    "id": "rF3fraLjaecb"
   },
   "outputs": [],
   "source": [
    "# import pandas as pd\n",
    "movie_index = pd.Series(movieMetadata_df.index, index = movieMetadata_df['title'])"
   ]
  },
  {
   "cell_type": "code",
   "execution_count": null,
   "metadata": {
    "id": "mgWQU7Ir005g"
   },
   "outputs": [],
   "source": [
    "def recommend_movies_content(movie_name):\n",
    "    indx = movie_index[movie_name]\n",
    "    top_11_similar_index = list(cosine_sim_top11[indx][0].nonzero()[1])\n",
    "    top_10_movie_indx = [i for i in top_11_similar_index if i != indx]\n",
    "    return movieMetadata_df.loc[top_10_movie_indx,:]"
   ]
  },
  {
   "cell_type": "code",
   "execution_count": null,
   "metadata": {
    "colab": {
     "base_uri": "https://localhost:8080/",
     "height": 580
    },
    "id": "xXIQ322d4vzN",
    "outputId": "a708189e-7210-4a14-c022-8682d68fdbc3"
   },
   "outputs": [
    {
     "data": {
      "text/html": [
       "\n",
       "\n",
       "  <div id=\"df-653971cb-ee25-4577-a243-5c662bb3aec3\">\n",
       "    <div class=\"colab-df-container\">\n",
       "      <div>\n",
       "<style scoped>\n",
       "    .dataframe tbody tr th:only-of-type {\n",
       "        vertical-align: middle;\n",
       "    }\n",
       "\n",
       "    .dataframe tbody tr th {\n",
       "        vertical-align: top;\n",
       "    }\n",
       "\n",
       "    .dataframe thead th {\n",
       "        text-align: right;\n",
       "    }\n",
       "</style>\n",
       "<table border=\"1\" class=\"dataframe\">\n",
       "  <thead>\n",
       "    <tr style=\"text-align: right;\">\n",
       "      <th></th>\n",
       "      <th>title</th>\n",
       "      <th>audienceScore</th>\n",
       "      <th>runtimeMinutes</th>\n",
       "      <th>genre</th>\n",
       "      <th>originalLanguage</th>\n",
       "      <th>director</th>\n",
       "      <th>publicatioName</th>\n",
       "    </tr>\n",
       "  </thead>\n",
       "  <tbody>\n",
       "    <tr>\n",
       "      <th>41072</th>\n",
       "      <td>Chris Botti &amp; Friends - Night Sessions: Live i...</td>\n",
       "      <td></td>\n",
       "      <td></td>\n",
       "      <td></td>\n",
       "      <td></td>\n",
       "      <td>Unknown Director</td>\n",
       "      <td>EmanuelLevy.Com</td>\n",
       "    </tr>\n",
       "    <tr>\n",
       "      <th>15254</th>\n",
       "      <td>Deep Purple - In Concert with the London Symph...</td>\n",
       "      <td></td>\n",
       "      <td></td>\n",
       "      <td></td>\n",
       "      <td></td>\n",
       "      <td>Unknown Director</td>\n",
       "      <td>EmanuelLevy.Com</td>\n",
       "    </tr>\n",
       "    <tr>\n",
       "      <th>16136</th>\n",
       "      <td>Rollercoaster</td>\n",
       "      <td></td>\n",
       "      <td></td>\n",
       "      <td></td>\n",
       "      <td></td>\n",
       "      <td>Unknown Director</td>\n",
       "      <td>EmanuelLevy.Com</td>\n",
       "    </tr>\n",
       "    <tr>\n",
       "      <th>4553</th>\n",
       "      <td>U2 - Elevation: Live from Boston</td>\n",
       "      <td></td>\n",
       "      <td></td>\n",
       "      <td></td>\n",
       "      <td></td>\n",
       "      <td>Unknown Director</td>\n",
       "      <td>EmanuelLevy.Com</td>\n",
       "    </tr>\n",
       "    <tr>\n",
       "      <th>43234</th>\n",
       "      <td>Catherine Wheel</td>\n",
       "      <td></td>\n",
       "      <td></td>\n",
       "      <td></td>\n",
       "      <td></td>\n",
       "      <td>Unknown Director</td>\n",
       "      <td>Dennis Schwartz Movie Reviews</td>\n",
       "    </tr>\n",
       "    <tr>\n",
       "      <th>37332</th>\n",
       "      <td>Sealab 2020</td>\n",
       "      <td></td>\n",
       "      <td></td>\n",
       "      <td></td>\n",
       "      <td></td>\n",
       "      <td>Unknown Director</td>\n",
       "      <td>EmanuelLevy.Com</td>\n",
       "    </tr>\n",
       "    <tr>\n",
       "      <th>20703</th>\n",
       "      <td>Filming 'Othello'</td>\n",
       "      <td>100.0</td>\n",
       "      <td></td>\n",
       "      <td></td>\n",
       "      <td></td>\n",
       "      <td>Unknown Director</td>\n",
       "      <td>Winnipeg Free Press</td>\n",
       "    </tr>\n",
       "    <tr>\n",
       "      <th>18466</th>\n",
       "      <td>Surprise</td>\n",
       "      <td>48.0</td>\n",
       "      <td></td>\n",
       "      <td>Action, Comedy</td>\n",
       "      <td>Chinese</td>\n",
       "      <td></td>\n",
       "      <td>NYC Movie Guru</td>\n",
       "    </tr>\n",
       "    <tr>\n",
       "      <th>8189</th>\n",
       "      <td>Humanoid</td>\n",
       "      <td></td>\n",
       "      <td></td>\n",
       "      <td></td>\n",
       "      <td></td>\n",
       "      <td>Unknown Director</td>\n",
       "      <td>EmanuelLevy.Com</td>\n",
       "    </tr>\n",
       "    <tr>\n",
       "      <th>50478</th>\n",
       "      <td>Satan's Black Wedding</td>\n",
       "      <td>17.0</td>\n",
       "      <td></td>\n",
       "      <td></td>\n",
       "      <td></td>\n",
       "      <td>Unknown Director</td>\n",
       "      <td>EmanuelLevy.Com</td>\n",
       "    </tr>\n",
       "  </tbody>\n",
       "</table>\n",
       "</div>\n",
       "      <button class=\"colab-df-convert\" onclick=\"convertToInteractive('df-653971cb-ee25-4577-a243-5c662bb3aec3')\"\n",
       "              title=\"Convert this dataframe to an interactive table.\"\n",
       "              style=\"display:none;\">\n",
       "\n",
       "  <svg xmlns=\"http://www.w3.org/2000/svg\" height=\"24px\"viewBox=\"0 0 24 24\"\n",
       "       width=\"24px\">\n",
       "    <path d=\"M0 0h24v24H0V0z\" fill=\"none\"/>\n",
       "    <path d=\"M18.56 5.44l.94 2.06.94-2.06 2.06-.94-2.06-.94-.94-2.06-.94 2.06-2.06.94zm-11 1L8.5 8.5l.94-2.06 2.06-.94-2.06-.94L8.5 2.5l-.94 2.06-2.06.94zm10 10l.94 2.06.94-2.06 2.06-.94-2.06-.94-.94-2.06-.94 2.06-2.06.94z\"/><path d=\"M17.41 7.96l-1.37-1.37c-.4-.4-.92-.59-1.43-.59-.52 0-1.04.2-1.43.59L10.3 9.45l-7.72 7.72c-.78.78-.78 2.05 0 2.83L4 21.41c.39.39.9.59 1.41.59.51 0 1.02-.2 1.41-.59l7.78-7.78 2.81-2.81c.8-.78.8-2.07 0-2.86zM5.41 20L4 18.59l7.72-7.72 1.47 1.35L5.41 20z\"/>\n",
       "  </svg>\n",
       "      </button>\n",
       "\n",
       "\n",
       "\n",
       "    <div id=\"df-bb616dfc-b0ef-4c97-bc64-e89b8f6ee212\">\n",
       "      <button class=\"colab-df-quickchart\" onclick=\"quickchart('df-bb616dfc-b0ef-4c97-bc64-e89b8f6ee212')\"\n",
       "              title=\"Suggest charts.\"\n",
       "              style=\"display:none;\">\n",
       "\n",
       "<svg xmlns=\"http://www.w3.org/2000/svg\" height=\"24px\"viewBox=\"0 0 24 24\"\n",
       "     width=\"24px\">\n",
       "    <g>\n",
       "        <path d=\"M19 3H5c-1.1 0-2 .9-2 2v14c0 1.1.9 2 2 2h14c1.1 0 2-.9 2-2V5c0-1.1-.9-2-2-2zM9 17H7v-7h2v7zm4 0h-2V7h2v10zm4 0h-2v-4h2v4z\"/>\n",
       "    </g>\n",
       "</svg>\n",
       "      </button>\n",
       "    </div>\n",
       "\n",
       "<style>\n",
       "  .colab-df-quickchart {\n",
       "    background-color: #E8F0FE;\n",
       "    border: none;\n",
       "    border-radius: 50%;\n",
       "    cursor: pointer;\n",
       "    display: none;\n",
       "    fill: #1967D2;\n",
       "    height: 32px;\n",
       "    padding: 0 0 0 0;\n",
       "    width: 32px;\n",
       "  }\n",
       "\n",
       "  .colab-df-quickchart:hover {\n",
       "    background-color: #E2EBFA;\n",
       "    box-shadow: 0px 1px 2px rgba(60, 64, 67, 0.3), 0px 1px 3px 1px rgba(60, 64, 67, 0.15);\n",
       "    fill: #174EA6;\n",
       "  }\n",
       "\n",
       "  [theme=dark] .colab-df-quickchart {\n",
       "    background-color: #3B4455;\n",
       "    fill: #D2E3FC;\n",
       "  }\n",
       "\n",
       "  [theme=dark] .colab-df-quickchart:hover {\n",
       "    background-color: #434B5C;\n",
       "    box-shadow: 0px 1px 3px 1px rgba(0, 0, 0, 0.15);\n",
       "    filter: drop-shadow(0px 1px 2px rgba(0, 0, 0, 0.3));\n",
       "    fill: #FFFFFF;\n",
       "  }\n",
       "</style>\n",
       "\n",
       "    <script>\n",
       "      async function quickchart(key) {\n",
       "        const containerElement = document.querySelector('#' + key);\n",
       "        const charts = await google.colab.kernel.invokeFunction(\n",
       "            'suggestCharts', [key], {});\n",
       "      }\n",
       "    </script>\n",
       "\n",
       "      <script>\n",
       "\n",
       "function displayQuickchartButton(domScope) {\n",
       "  let quickchartButtonEl =\n",
       "    domScope.querySelector('#df-bb616dfc-b0ef-4c97-bc64-e89b8f6ee212 button.colab-df-quickchart');\n",
       "  quickchartButtonEl.style.display =\n",
       "    google.colab.kernel.accessAllowed ? 'block' : 'none';\n",
       "}\n",
       "\n",
       "        displayQuickchartButton(document);\n",
       "      </script>\n",
       "      <style>\n",
       "    .colab-df-container {\n",
       "      display:flex;\n",
       "      flex-wrap:wrap;\n",
       "      gap: 12px;\n",
       "    }\n",
       "\n",
       "    .colab-df-convert {\n",
       "      background-color: #E8F0FE;\n",
       "      border: none;\n",
       "      border-radius: 50%;\n",
       "      cursor: pointer;\n",
       "      display: none;\n",
       "      fill: #1967D2;\n",
       "      height: 32px;\n",
       "      padding: 0 0 0 0;\n",
       "      width: 32px;\n",
       "    }\n",
       "\n",
       "    .colab-df-convert:hover {\n",
       "      background-color: #E2EBFA;\n",
       "      box-shadow: 0px 1px 2px rgba(60, 64, 67, 0.3), 0px 1px 3px 1px rgba(60, 64, 67, 0.15);\n",
       "      fill: #174EA6;\n",
       "    }\n",
       "\n",
       "    [theme=dark] .colab-df-convert {\n",
       "      background-color: #3B4455;\n",
       "      fill: #D2E3FC;\n",
       "    }\n",
       "\n",
       "    [theme=dark] .colab-df-convert:hover {\n",
       "      background-color: #434B5C;\n",
       "      box-shadow: 0px 1px 3px 1px rgba(0, 0, 0, 0.15);\n",
       "      filter: drop-shadow(0px 1px 2px rgba(0, 0, 0, 0.3));\n",
       "      fill: #FFFFFF;\n",
       "    }\n",
       "  </style>\n",
       "\n",
       "      <script>\n",
       "        const buttonEl =\n",
       "          document.querySelector('#df-653971cb-ee25-4577-a243-5c662bb3aec3 button.colab-df-convert');\n",
       "        buttonEl.style.display =\n",
       "          google.colab.kernel.accessAllowed ? 'block' : 'none';\n",
       "\n",
       "        async function convertToInteractive(key) {\n",
       "          const element = document.querySelector('#df-653971cb-ee25-4577-a243-5c662bb3aec3');\n",
       "          const dataTable =\n",
       "            await google.colab.kernel.invokeFunction('convertToInteractive',\n",
       "                                                     [key], {});\n",
       "          if (!dataTable) return;\n",
       "\n",
       "          const docLinkHtml = 'Like what you see? Visit the ' +\n",
       "            '<a target=\"_blank\" href=https://colab.research.google.com/notebooks/data_table.ipynb>data table notebook</a>'\n",
       "            + ' to learn more about interactive tables.';\n",
       "          element.innerHTML = '';\n",
       "          dataTable['output_type'] = 'display_data';\n",
       "          await google.colab.output.renderOutput(dataTable, element);\n",
       "          const docLink = document.createElement('div');\n",
       "          docLink.innerHTML = docLinkHtml;\n",
       "          element.appendChild(docLink);\n",
       "        }\n",
       "      </script>\n",
       "    </div>\n",
       "  </div>\n"
      ],
      "text/plain": [
       "                                                   title audienceScore  \\\n",
       "41072  Chris Botti & Friends - Night Sessions: Live i...                 \n",
       "15254  Deep Purple - In Concert with the London Symph...                 \n",
       "16136                                      Rollercoaster                 \n",
       "4553                    U2 - Elevation: Live from Boston                 \n",
       "43234                                    Catherine Wheel                 \n",
       "37332                                        Sealab 2020                 \n",
       "20703                                  Filming 'Othello'         100.0   \n",
       "18466                                           Surprise          48.0   \n",
       "8189                                            Humanoid                 \n",
       "50478                              Satan's Black Wedding          17.0   \n",
       "\n",
       "      runtimeMinutes           genre originalLanguage          director  \\\n",
       "41072                                                  Unknown Director   \n",
       "15254                                                  Unknown Director   \n",
       "16136                                                  Unknown Director   \n",
       "4553                                                   Unknown Director   \n",
       "43234                                                  Unknown Director   \n",
       "37332                                                  Unknown Director   \n",
       "20703                                                  Unknown Director   \n",
       "18466                 Action, Comedy          Chinese                     \n",
       "8189                                                   Unknown Director   \n",
       "50478                                                  Unknown Director   \n",
       "\n",
       "                      publicatioName  \n",
       "41072                EmanuelLevy.Com  \n",
       "15254                EmanuelLevy.Com  \n",
       "16136                EmanuelLevy.Com  \n",
       "4553                 EmanuelLevy.Com  \n",
       "43234  Dennis Schwartz Movie Reviews  \n",
       "37332                EmanuelLevy.Com  \n",
       "20703            Winnipeg Free Press  \n",
       "18466                 NYC Movie Guru  \n",
       "8189                 EmanuelLevy.Com  \n",
       "50478                EmanuelLevy.Com  "
      ]
     },
     "execution_count": 17,
     "metadata": {},
     "output_type": "execute_result"
    }
   ],
   "source": [
    "recommend_movies_content('Dangerous Men')"
   ]
  },
  {
   "cell_type": "markdown",
   "metadata": {
    "id": "oTYjOPlgHtn6"
   },
   "source": [
    "## End of content based recommendation"
   ]
  },
  {
   "cell_type": "markdown",
   "metadata": {
    "id": "hMvjBLuvrEM-"
   },
   "source": [
    "## Popularity based recommendation system"
   ]
  },
  {
   "cell_type": "code",
   "execution_count": null,
   "metadata": {
    "id": "p4L9r8Qmwqt2"
   },
   "outputs": [],
   "source": [
    "popularity_df = pd.read_csv('/content/drive/MyDrive/Colab Notebooks/CapstoneProject/merge_df.csv')"
   ]
  },
  {
   "cell_type": "code",
   "execution_count": null,
   "metadata": {
    "colab": {
     "base_uri": "https://localhost:8080/"
    },
    "id": "NA16EdSM65sP",
    "outputId": "e7b47f71-b3ea-4f23-f81e-69d5005837ee"
   },
   "outputs": [
    {
     "data": {
      "text/plain": [
       "(1413433, 9)"
      ]
     },
     "execution_count": 21,
     "metadata": {},
     "output_type": "execute_result"
    }
   ],
   "source": [
    "popularity_df = popularity_df[['title', 'runtimeMinutes', 'genre', 'originalLanguage','director','publicatioName', 'audienceScore', 'standard _rating', 'scoreSentiment']]\n",
    "popularity_df.shape"
   ]
  },
  {
   "cell_type": "code",
   "execution_count": null,
   "metadata": {
    "colab": {
     "base_uri": "https://localhost:8080/",
     "height": 650
    },
    "id": "YJQmU4gLZtpQ",
    "outputId": "cc352e14-fd36-4005-b842-6e35232244f2"
   },
   "outputs": [
    {
     "name": "stdout",
     "output_type": "stream",
     "text": [
      "(54530, 9)\n"
     ]
    },
    {
     "data": {
      "text/html": [
       "\n",
       "\n",
       "  <div id=\"df-7294d0fe-1145-411d-8d6d-fbe1469224c4\">\n",
       "    <div class=\"colab-df-container\">\n",
       "      <div>\n",
       "<style scoped>\n",
       "    .dataframe tbody tr th:only-of-type {\n",
       "        vertical-align: middle;\n",
       "    }\n",
       "\n",
       "    .dataframe tbody tr th {\n",
       "        vertical-align: top;\n",
       "    }\n",
       "\n",
       "    .dataframe thead th {\n",
       "        text-align: right;\n",
       "    }\n",
       "</style>\n",
       "<table border=\"1\" class=\"dataframe\">\n",
       "  <thead>\n",
       "    <tr style=\"text-align: right;\">\n",
       "      <th></th>\n",
       "      <th>title</th>\n",
       "      <th>runtimeMinutes</th>\n",
       "      <th>genre</th>\n",
       "      <th>originalLanguage</th>\n",
       "      <th>director</th>\n",
       "      <th>publicatioName</th>\n",
       "      <th>audienceScore</th>\n",
       "      <th>standard _rating</th>\n",
       "      <th>scoreSentiment</th>\n",
       "    </tr>\n",
       "  </thead>\n",
       "  <tbody>\n",
       "    <tr>\n",
       "      <th>0</th>\n",
       "      <td>The Miracle Of The Wolves</td>\n",
       "      <td>NaN</td>\n",
       "      <td>NaN</td>\n",
       "      <td>NaN</td>\n",
       "      <td>Raymond Bernard</td>\n",
       "      <td>La Vanguardia (Spain)</td>\n",
       "      <td>NaN</td>\n",
       "      <td>5</td>\n",
       "      <td>POSITIVE</td>\n",
       "    </tr>\n",
       "    <tr>\n",
       "      <th>1</th>\n",
       "      <td>The Perils of Pauline</td>\n",
       "      <td>98.0</td>\n",
       "      <td>Comedy</td>\n",
       "      <td>English</td>\n",
       "      <td>Herbert B. Leonard,Joshua Shelley</td>\n",
       "      <td>Filmsite</td>\n",
       "      <td>20.0</td>\n",
       "      <td>5</td>\n",
       "      <td>POSITIVE</td>\n",
       "    </tr>\n",
       "    <tr>\n",
       "      <th>2</th>\n",
       "      <td>Humpback Whales</td>\n",
       "      <td>40.0</td>\n",
       "      <td>Documentary</td>\n",
       "      <td>English</td>\n",
       "      <td>Greg MacGillivray</td>\n",
       "      <td>Quad City Times (Davenport, IA)</td>\n",
       "      <td>85.0</td>\n",
       "      <td>5</td>\n",
       "      <td>POSITIVE</td>\n",
       "    </tr>\n",
       "    <tr>\n",
       "      <th>3</th>\n",
       "      <td>Diary of a Lost Girl</td>\n",
       "      <td>96.0</td>\n",
       "      <td>Drama</td>\n",
       "      <td>NaN</td>\n",
       "      <td>Georg Wilhelm Pabst</td>\n",
       "      <td>Chicago Sun-Times</td>\n",
       "      <td>88.0</td>\n",
       "      <td>5</td>\n",
       "      <td>POSITIVE</td>\n",
       "    </tr>\n",
       "    <tr>\n",
       "      <th>4</th>\n",
       "      <td>The Last Dragon</td>\n",
       "      <td>109.0</td>\n",
       "      <td>Action</td>\n",
       "      <td>English</td>\n",
       "      <td>Michael Schultz</td>\n",
       "      <td>Medium Popcorn</td>\n",
       "      <td>86.0</td>\n",
       "      <td>5</td>\n",
       "      <td>POSITIVE</td>\n",
       "    </tr>\n",
       "    <tr>\n",
       "      <th>5</th>\n",
       "      <td>The Thief and the Cobbler</td>\n",
       "      <td>72.0</td>\n",
       "      <td>Kids &amp; family, Action, Adventure, Comedy, Fant...</td>\n",
       "      <td>English</td>\n",
       "      <td>Richard Williams</td>\n",
       "      <td>615 Film</td>\n",
       "      <td>74.0</td>\n",
       "      <td>5</td>\n",
       "      <td>POSITIVE</td>\n",
       "    </tr>\n",
       "    <tr>\n",
       "      <th>6</th>\n",
       "      <td>Twilight: Los Angeles</td>\n",
       "      <td>90.0</td>\n",
       "      <td>Drama</td>\n",
       "      <td>English</td>\n",
       "      <td>Marc Levin</td>\n",
       "      <td>New York Magazine/Vulture</td>\n",
       "      <td>NaN</td>\n",
       "      <td>5</td>\n",
       "      <td>POSITIVE</td>\n",
       "    </tr>\n",
       "    <tr>\n",
       "      <th>7</th>\n",
       "      <td>Bamboozled</td>\n",
       "      <td>135.0</td>\n",
       "      <td>Comedy, Drama</td>\n",
       "      <td>English</td>\n",
       "      <td>Spike Lee</td>\n",
       "      <td>Deep Focus Review</td>\n",
       "      <td>74.0</td>\n",
       "      <td>5</td>\n",
       "      <td>POSITIVE</td>\n",
       "    </tr>\n",
       "    <tr>\n",
       "      <th>8</th>\n",
       "      <td>Whose Life Is It Anyway?</td>\n",
       "      <td>118.0</td>\n",
       "      <td>Drama</td>\n",
       "      <td>English</td>\n",
       "      <td>John Badham</td>\n",
       "      <td>Philadelphia Gay News</td>\n",
       "      <td>79.0</td>\n",
       "      <td>5</td>\n",
       "      <td>POSITIVE</td>\n",
       "    </tr>\n",
       "    <tr>\n",
       "      <th>9</th>\n",
       "      <td>Tabloid</td>\n",
       "      <td>88.0</td>\n",
       "      <td>Documentary</td>\n",
       "      <td>English</td>\n",
       "      <td>Errol Morris</td>\n",
       "      <td>Deep Focus Review</td>\n",
       "      <td>72.0</td>\n",
       "      <td>5</td>\n",
       "      <td>POSITIVE</td>\n",
       "    </tr>\n",
       "  </tbody>\n",
       "</table>\n",
       "</div>\n",
       "      <button class=\"colab-df-convert\" onclick=\"convertToInteractive('df-7294d0fe-1145-411d-8d6d-fbe1469224c4')\"\n",
       "              title=\"Convert this dataframe to an interactive table.\"\n",
       "              style=\"display:none;\">\n",
       "\n",
       "  <svg xmlns=\"http://www.w3.org/2000/svg\" height=\"24px\"viewBox=\"0 0 24 24\"\n",
       "       width=\"24px\">\n",
       "    <path d=\"M0 0h24v24H0V0z\" fill=\"none\"/>\n",
       "    <path d=\"M18.56 5.44l.94 2.06.94-2.06 2.06-.94-2.06-.94-.94-2.06-.94 2.06-2.06.94zm-11 1L8.5 8.5l.94-2.06 2.06-.94-2.06-.94L8.5 2.5l-.94 2.06-2.06.94zm10 10l.94 2.06.94-2.06 2.06-.94-2.06-.94-.94-2.06-.94 2.06-2.06.94z\"/><path d=\"M17.41 7.96l-1.37-1.37c-.4-.4-.92-.59-1.43-.59-.52 0-1.04.2-1.43.59L10.3 9.45l-7.72 7.72c-.78.78-.78 2.05 0 2.83L4 21.41c.39.39.9.59 1.41.59.51 0 1.02-.2 1.41-.59l7.78-7.78 2.81-2.81c.8-.78.8-2.07 0-2.86zM5.41 20L4 18.59l7.72-7.72 1.47 1.35L5.41 20z\"/>\n",
       "  </svg>\n",
       "      </button>\n",
       "\n",
       "\n",
       "\n",
       "    <div id=\"df-d0c7dfdb-fc30-4546-9441-faa7d9e94b63\">\n",
       "      <button class=\"colab-df-quickchart\" onclick=\"quickchart('df-d0c7dfdb-fc30-4546-9441-faa7d9e94b63')\"\n",
       "              title=\"Suggest charts.\"\n",
       "              style=\"display:none;\">\n",
       "\n",
       "<svg xmlns=\"http://www.w3.org/2000/svg\" height=\"24px\"viewBox=\"0 0 24 24\"\n",
       "     width=\"24px\">\n",
       "    <g>\n",
       "        <path d=\"M19 3H5c-1.1 0-2 .9-2 2v14c0 1.1.9 2 2 2h14c1.1 0 2-.9 2-2V5c0-1.1-.9-2-2-2zM9 17H7v-7h2v7zm4 0h-2V7h2v10zm4 0h-2v-4h2v4z\"/>\n",
       "    </g>\n",
       "</svg>\n",
       "      </button>\n",
       "    </div>\n",
       "\n",
       "<style>\n",
       "  .colab-df-quickchart {\n",
       "    background-color: #E8F0FE;\n",
       "    border: none;\n",
       "    border-radius: 50%;\n",
       "    cursor: pointer;\n",
       "    display: none;\n",
       "    fill: #1967D2;\n",
       "    height: 32px;\n",
       "    padding: 0 0 0 0;\n",
       "    width: 32px;\n",
       "  }\n",
       "\n",
       "  .colab-df-quickchart:hover {\n",
       "    background-color: #E2EBFA;\n",
       "    box-shadow: 0px 1px 2px rgba(60, 64, 67, 0.3), 0px 1px 3px 1px rgba(60, 64, 67, 0.15);\n",
       "    fill: #174EA6;\n",
       "  }\n",
       "\n",
       "  [theme=dark] .colab-df-quickchart {\n",
       "    background-color: #3B4455;\n",
       "    fill: #D2E3FC;\n",
       "  }\n",
       "\n",
       "  [theme=dark] .colab-df-quickchart:hover {\n",
       "    background-color: #434B5C;\n",
       "    box-shadow: 0px 1px 3px 1px rgba(0, 0, 0, 0.15);\n",
       "    filter: drop-shadow(0px 1px 2px rgba(0, 0, 0, 0.3));\n",
       "    fill: #FFFFFF;\n",
       "  }\n",
       "</style>\n",
       "\n",
       "    <script>\n",
       "      async function quickchart(key) {\n",
       "        const containerElement = document.querySelector('#' + key);\n",
       "        const charts = await google.colab.kernel.invokeFunction(\n",
       "            'suggestCharts', [key], {});\n",
       "      }\n",
       "    </script>\n",
       "\n",
       "      <script>\n",
       "\n",
       "function displayQuickchartButton(domScope) {\n",
       "  let quickchartButtonEl =\n",
       "    domScope.querySelector('#df-d0c7dfdb-fc30-4546-9441-faa7d9e94b63 button.colab-df-quickchart');\n",
       "  quickchartButtonEl.style.display =\n",
       "    google.colab.kernel.accessAllowed ? 'block' : 'none';\n",
       "}\n",
       "\n",
       "        displayQuickchartButton(document);\n",
       "      </script>\n",
       "      <style>\n",
       "    .colab-df-container {\n",
       "      display:flex;\n",
       "      flex-wrap:wrap;\n",
       "      gap: 12px;\n",
       "    }\n",
       "\n",
       "    .colab-df-convert {\n",
       "      background-color: #E8F0FE;\n",
       "      border: none;\n",
       "      border-radius: 50%;\n",
       "      cursor: pointer;\n",
       "      display: none;\n",
       "      fill: #1967D2;\n",
       "      height: 32px;\n",
       "      padding: 0 0 0 0;\n",
       "      width: 32px;\n",
       "    }\n",
       "\n",
       "    .colab-df-convert:hover {\n",
       "      background-color: #E2EBFA;\n",
       "      box-shadow: 0px 1px 2px rgba(60, 64, 67, 0.3), 0px 1px 3px 1px rgba(60, 64, 67, 0.15);\n",
       "      fill: #174EA6;\n",
       "    }\n",
       "\n",
       "    [theme=dark] .colab-df-convert {\n",
       "      background-color: #3B4455;\n",
       "      fill: #D2E3FC;\n",
       "    }\n",
       "\n",
       "    [theme=dark] .colab-df-convert:hover {\n",
       "      background-color: #434B5C;\n",
       "      box-shadow: 0px 1px 3px 1px rgba(0, 0, 0, 0.15);\n",
       "      filter: drop-shadow(0px 1px 2px rgba(0, 0, 0, 0.3));\n",
       "      fill: #FFFFFF;\n",
       "    }\n",
       "  </style>\n",
       "\n",
       "      <script>\n",
       "        const buttonEl =\n",
       "          document.querySelector('#df-7294d0fe-1145-411d-8d6d-fbe1469224c4 button.colab-df-convert');\n",
       "        buttonEl.style.display =\n",
       "          google.colab.kernel.accessAllowed ? 'block' : 'none';\n",
       "\n",
       "        async function convertToInteractive(key) {\n",
       "          const element = document.querySelector('#df-7294d0fe-1145-411d-8d6d-fbe1469224c4');\n",
       "          const dataTable =\n",
       "            await google.colab.kernel.invokeFunction('convertToInteractive',\n",
       "                                                     [key], {});\n",
       "          if (!dataTable) return;\n",
       "\n",
       "          const docLinkHtml = 'Like what you see? Visit the ' +\n",
       "            '<a target=\"_blank\" href=https://colab.research.google.com/notebooks/data_table.ipynb>data table notebook</a>'\n",
       "            + ' to learn more about interactive tables.';\n",
       "          element.innerHTML = '';\n",
       "          dataTable['output_type'] = 'display_data';\n",
       "          await google.colab.output.renderOutput(dataTable, element);\n",
       "          const docLink = document.createElement('div');\n",
       "          docLink.innerHTML = docLinkHtml;\n",
       "          element.appendChild(docLink);\n",
       "        }\n",
       "      </script>\n",
       "    </div>\n",
       "  </div>\n"
      ],
      "text/plain": [
       "                       title  runtimeMinutes  \\\n",
       "0  The Miracle Of The Wolves             NaN   \n",
       "1      The Perils of Pauline            98.0   \n",
       "2            Humpback Whales            40.0   \n",
       "3       Diary of a Lost Girl            96.0   \n",
       "4            The Last Dragon           109.0   \n",
       "5  The Thief and the Cobbler            72.0   \n",
       "6      Twilight: Los Angeles            90.0   \n",
       "7                 Bamboozled           135.0   \n",
       "8   Whose Life Is It Anyway?           118.0   \n",
       "9                    Tabloid            88.0   \n",
       "\n",
       "                                               genre originalLanguage  \\\n",
       "0                                                NaN              NaN   \n",
       "1                                             Comedy          English   \n",
       "2                                        Documentary          English   \n",
       "3                                              Drama              NaN   \n",
       "4                                             Action          English   \n",
       "5  Kids & family, Action, Adventure, Comedy, Fant...          English   \n",
       "6                                              Drama          English   \n",
       "7                                      Comedy, Drama          English   \n",
       "8                                              Drama          English   \n",
       "9                                        Documentary          English   \n",
       "\n",
       "                            director                   publicatioName  \\\n",
       "0                    Raymond Bernard            La Vanguardia (Spain)   \n",
       "1  Herbert B. Leonard,Joshua Shelley                         Filmsite   \n",
       "2                  Greg MacGillivray  Quad City Times (Davenport, IA)   \n",
       "3                Georg Wilhelm Pabst                Chicago Sun-Times   \n",
       "4                    Michael Schultz                   Medium Popcorn   \n",
       "5                   Richard Williams                         615 Film   \n",
       "6                         Marc Levin        New York Magazine/Vulture   \n",
       "7                          Spike Lee                Deep Focus Review   \n",
       "8                        John Badham            Philadelphia Gay News   \n",
       "9                       Errol Morris                Deep Focus Review   \n",
       "\n",
       "   audienceScore  standard _rating scoreSentiment  \n",
       "0            NaN                 5       POSITIVE  \n",
       "1           20.0                 5       POSITIVE  \n",
       "2           85.0                 5       POSITIVE  \n",
       "3           88.0                 5       POSITIVE  \n",
       "4           86.0                 5       POSITIVE  \n",
       "5           74.0                 5       POSITIVE  \n",
       "6            NaN                 5       POSITIVE  \n",
       "7           74.0                 5       POSITIVE  \n",
       "8           79.0                 5       POSITIVE  \n",
       "9           72.0                 5       POSITIVE  "
      ]
     },
     "execution_count": 24,
     "metadata": {},
     "output_type": "execute_result"
    }
   ],
   "source": [
    "popularity_df = popularity_df.sort_values(by = ['standard _rating'], ascending = False)\n",
    "popularity_df.reset_index(drop=True, inplace=True)\n",
    "print(popularity_df.shape)\n",
    "popularity_df.head(10)"
   ]
  },
  {
   "cell_type": "code",
   "execution_count": null,
   "metadata": {
    "id": "if8upJepZt3b"
   },
   "outputs": [],
   "source": [
    "# recommending popular movies excluding the movie which user has already watched\n",
    "\n",
    "def recommend_movies_popularity(watched_movie_list):\n",
    "    top_n_movies = popularity_df.head(10+len(watched_movie_list))\n",
    "    # top_n_movie_list = list(top_n_movies['title'])\n",
    "    top_10_movies = top_n_movies[~top_n_movies['title'].isin(watched_movie_list)].head(10).reset_index(drop=True)\n",
    "\n",
    "    return top_10_movies"
   ]
  },
  {
   "cell_type": "code",
   "execution_count": null,
   "metadata": {
    "colab": {
     "base_uri": "https://localhost:8080/",
     "height": 632
    },
    "id": "-H3Eq2NcZt-T",
    "outputId": "bcd6b16d-b8d0-472e-da94-8c41741a6b5d"
   },
   "outputs": [
    {
     "data": {
      "text/html": [
       "\n",
       "\n",
       "  <div id=\"df-28be85d3-6668-43b1-b7db-8003f59bcfec\">\n",
       "    <div class=\"colab-df-container\">\n",
       "      <div>\n",
       "<style scoped>\n",
       "    .dataframe tbody tr th:only-of-type {\n",
       "        vertical-align: middle;\n",
       "    }\n",
       "\n",
       "    .dataframe tbody tr th {\n",
       "        vertical-align: top;\n",
       "    }\n",
       "\n",
       "    .dataframe thead th {\n",
       "        text-align: right;\n",
       "    }\n",
       "</style>\n",
       "<table border=\"1\" class=\"dataframe\">\n",
       "  <thead>\n",
       "    <tr style=\"text-align: right;\">\n",
       "      <th></th>\n",
       "      <th>title</th>\n",
       "      <th>runtimeMinutes</th>\n",
       "      <th>genre</th>\n",
       "      <th>originalLanguage</th>\n",
       "      <th>director</th>\n",
       "      <th>publicatioName</th>\n",
       "      <th>audienceScore</th>\n",
       "      <th>standard _rating</th>\n",
       "      <th>scoreSentiment</th>\n",
       "    </tr>\n",
       "  </thead>\n",
       "  <tbody>\n",
       "    <tr>\n",
       "      <th>0</th>\n",
       "      <td>The Miracle Of The Wolves</td>\n",
       "      <td>NaN</td>\n",
       "      <td>NaN</td>\n",
       "      <td>NaN</td>\n",
       "      <td>Raymond Bernard</td>\n",
       "      <td>La Vanguardia (Spain)</td>\n",
       "      <td>NaN</td>\n",
       "      <td>5</td>\n",
       "      <td>POSITIVE</td>\n",
       "    </tr>\n",
       "    <tr>\n",
       "      <th>1</th>\n",
       "      <td>The Perils of Pauline</td>\n",
       "      <td>98.0</td>\n",
       "      <td>Comedy</td>\n",
       "      <td>English</td>\n",
       "      <td>Herbert B. Leonard,Joshua Shelley</td>\n",
       "      <td>Filmsite</td>\n",
       "      <td>20.0</td>\n",
       "      <td>5</td>\n",
       "      <td>POSITIVE</td>\n",
       "    </tr>\n",
       "    <tr>\n",
       "      <th>2</th>\n",
       "      <td>Humpback Whales</td>\n",
       "      <td>40.0</td>\n",
       "      <td>Documentary</td>\n",
       "      <td>English</td>\n",
       "      <td>Greg MacGillivray</td>\n",
       "      <td>Quad City Times (Davenport, IA)</td>\n",
       "      <td>85.0</td>\n",
       "      <td>5</td>\n",
       "      <td>POSITIVE</td>\n",
       "    </tr>\n",
       "    <tr>\n",
       "      <th>3</th>\n",
       "      <td>Diary of a Lost Girl</td>\n",
       "      <td>96.0</td>\n",
       "      <td>Drama</td>\n",
       "      <td>NaN</td>\n",
       "      <td>Georg Wilhelm Pabst</td>\n",
       "      <td>Chicago Sun-Times</td>\n",
       "      <td>88.0</td>\n",
       "      <td>5</td>\n",
       "      <td>POSITIVE</td>\n",
       "    </tr>\n",
       "    <tr>\n",
       "      <th>4</th>\n",
       "      <td>The Last Dragon</td>\n",
       "      <td>109.0</td>\n",
       "      <td>Action</td>\n",
       "      <td>English</td>\n",
       "      <td>Michael Schultz</td>\n",
       "      <td>Medium Popcorn</td>\n",
       "      <td>86.0</td>\n",
       "      <td>5</td>\n",
       "      <td>POSITIVE</td>\n",
       "    </tr>\n",
       "    <tr>\n",
       "      <th>5</th>\n",
       "      <td>The Thief and the Cobbler</td>\n",
       "      <td>72.0</td>\n",
       "      <td>Kids &amp; family, Action, Adventure, Comedy, Fant...</td>\n",
       "      <td>English</td>\n",
       "      <td>Richard Williams</td>\n",
       "      <td>615 Film</td>\n",
       "      <td>74.0</td>\n",
       "      <td>5</td>\n",
       "      <td>POSITIVE</td>\n",
       "    </tr>\n",
       "    <tr>\n",
       "      <th>6</th>\n",
       "      <td>Twilight: Los Angeles</td>\n",
       "      <td>90.0</td>\n",
       "      <td>Drama</td>\n",
       "      <td>English</td>\n",
       "      <td>Marc Levin</td>\n",
       "      <td>New York Magazine/Vulture</td>\n",
       "      <td>NaN</td>\n",
       "      <td>5</td>\n",
       "      <td>POSITIVE</td>\n",
       "    </tr>\n",
       "    <tr>\n",
       "      <th>7</th>\n",
       "      <td>Bamboozled</td>\n",
       "      <td>135.0</td>\n",
       "      <td>Comedy, Drama</td>\n",
       "      <td>English</td>\n",
       "      <td>Spike Lee</td>\n",
       "      <td>Deep Focus Review</td>\n",
       "      <td>74.0</td>\n",
       "      <td>5</td>\n",
       "      <td>POSITIVE</td>\n",
       "    </tr>\n",
       "    <tr>\n",
       "      <th>8</th>\n",
       "      <td>Whose Life Is It Anyway?</td>\n",
       "      <td>118.0</td>\n",
       "      <td>Drama</td>\n",
       "      <td>English</td>\n",
       "      <td>John Badham</td>\n",
       "      <td>Philadelphia Gay News</td>\n",
       "      <td>79.0</td>\n",
       "      <td>5</td>\n",
       "      <td>POSITIVE</td>\n",
       "    </tr>\n",
       "    <tr>\n",
       "      <th>9</th>\n",
       "      <td>Tabloid</td>\n",
       "      <td>88.0</td>\n",
       "      <td>Documentary</td>\n",
       "      <td>English</td>\n",
       "      <td>Errol Morris</td>\n",
       "      <td>Deep Focus Review</td>\n",
       "      <td>72.0</td>\n",
       "      <td>5</td>\n",
       "      <td>POSITIVE</td>\n",
       "    </tr>\n",
       "  </tbody>\n",
       "</table>\n",
       "</div>\n",
       "      <button class=\"colab-df-convert\" onclick=\"convertToInteractive('df-28be85d3-6668-43b1-b7db-8003f59bcfec')\"\n",
       "              title=\"Convert this dataframe to an interactive table.\"\n",
       "              style=\"display:none;\">\n",
       "\n",
       "  <svg xmlns=\"http://www.w3.org/2000/svg\" height=\"24px\"viewBox=\"0 0 24 24\"\n",
       "       width=\"24px\">\n",
       "    <path d=\"M0 0h24v24H0V0z\" fill=\"none\"/>\n",
       "    <path d=\"M18.56 5.44l.94 2.06.94-2.06 2.06-.94-2.06-.94-.94-2.06-.94 2.06-2.06.94zm-11 1L8.5 8.5l.94-2.06 2.06-.94-2.06-.94L8.5 2.5l-.94 2.06-2.06.94zm10 10l.94 2.06.94-2.06 2.06-.94-2.06-.94-.94-2.06-.94 2.06-2.06.94z\"/><path d=\"M17.41 7.96l-1.37-1.37c-.4-.4-.92-.59-1.43-.59-.52 0-1.04.2-1.43.59L10.3 9.45l-7.72 7.72c-.78.78-.78 2.05 0 2.83L4 21.41c.39.39.9.59 1.41.59.51 0 1.02-.2 1.41-.59l7.78-7.78 2.81-2.81c.8-.78.8-2.07 0-2.86zM5.41 20L4 18.59l7.72-7.72 1.47 1.35L5.41 20z\"/>\n",
       "  </svg>\n",
       "      </button>\n",
       "\n",
       "\n",
       "\n",
       "    <div id=\"df-8c474936-abdc-4cdf-8c50-a3a7bf3dcc01\">\n",
       "      <button class=\"colab-df-quickchart\" onclick=\"quickchart('df-8c474936-abdc-4cdf-8c50-a3a7bf3dcc01')\"\n",
       "              title=\"Suggest charts.\"\n",
       "              style=\"display:none;\">\n",
       "\n",
       "<svg xmlns=\"http://www.w3.org/2000/svg\" height=\"24px\"viewBox=\"0 0 24 24\"\n",
       "     width=\"24px\">\n",
       "    <g>\n",
       "        <path d=\"M19 3H5c-1.1 0-2 .9-2 2v14c0 1.1.9 2 2 2h14c1.1 0 2-.9 2-2V5c0-1.1-.9-2-2-2zM9 17H7v-7h2v7zm4 0h-2V7h2v10zm4 0h-2v-4h2v4z\"/>\n",
       "    </g>\n",
       "</svg>\n",
       "      </button>\n",
       "    </div>\n",
       "\n",
       "<style>\n",
       "  .colab-df-quickchart {\n",
       "    background-color: #E8F0FE;\n",
       "    border: none;\n",
       "    border-radius: 50%;\n",
       "    cursor: pointer;\n",
       "    display: none;\n",
       "    fill: #1967D2;\n",
       "    height: 32px;\n",
       "    padding: 0 0 0 0;\n",
       "    width: 32px;\n",
       "  }\n",
       "\n",
       "  .colab-df-quickchart:hover {\n",
       "    background-color: #E2EBFA;\n",
       "    box-shadow: 0px 1px 2px rgba(60, 64, 67, 0.3), 0px 1px 3px 1px rgba(60, 64, 67, 0.15);\n",
       "    fill: #174EA6;\n",
       "  }\n",
       "\n",
       "  [theme=dark] .colab-df-quickchart {\n",
       "    background-color: #3B4455;\n",
       "    fill: #D2E3FC;\n",
       "  }\n",
       "\n",
       "  [theme=dark] .colab-df-quickchart:hover {\n",
       "    background-color: #434B5C;\n",
       "    box-shadow: 0px 1px 3px 1px rgba(0, 0, 0, 0.15);\n",
       "    filter: drop-shadow(0px 1px 2px rgba(0, 0, 0, 0.3));\n",
       "    fill: #FFFFFF;\n",
       "  }\n",
       "</style>\n",
       "\n",
       "    <script>\n",
       "      async function quickchart(key) {\n",
       "        const containerElement = document.querySelector('#' + key);\n",
       "        const charts = await google.colab.kernel.invokeFunction(\n",
       "            'suggestCharts', [key], {});\n",
       "      }\n",
       "    </script>\n",
       "\n",
       "      <script>\n",
       "\n",
       "function displayQuickchartButton(domScope) {\n",
       "  let quickchartButtonEl =\n",
       "    domScope.querySelector('#df-8c474936-abdc-4cdf-8c50-a3a7bf3dcc01 button.colab-df-quickchart');\n",
       "  quickchartButtonEl.style.display =\n",
       "    google.colab.kernel.accessAllowed ? 'block' : 'none';\n",
       "}\n",
       "\n",
       "        displayQuickchartButton(document);\n",
       "      </script>\n",
       "      <style>\n",
       "    .colab-df-container {\n",
       "      display:flex;\n",
       "      flex-wrap:wrap;\n",
       "      gap: 12px;\n",
       "    }\n",
       "\n",
       "    .colab-df-convert {\n",
       "      background-color: #E8F0FE;\n",
       "      border: none;\n",
       "      border-radius: 50%;\n",
       "      cursor: pointer;\n",
       "      display: none;\n",
       "      fill: #1967D2;\n",
       "      height: 32px;\n",
       "      padding: 0 0 0 0;\n",
       "      width: 32px;\n",
       "    }\n",
       "\n",
       "    .colab-df-convert:hover {\n",
       "      background-color: #E2EBFA;\n",
       "      box-shadow: 0px 1px 2px rgba(60, 64, 67, 0.3), 0px 1px 3px 1px rgba(60, 64, 67, 0.15);\n",
       "      fill: #174EA6;\n",
       "    }\n",
       "\n",
       "    [theme=dark] .colab-df-convert {\n",
       "      background-color: #3B4455;\n",
       "      fill: #D2E3FC;\n",
       "    }\n",
       "\n",
       "    [theme=dark] .colab-df-convert:hover {\n",
       "      background-color: #434B5C;\n",
       "      box-shadow: 0px 1px 3px 1px rgba(0, 0, 0, 0.15);\n",
       "      filter: drop-shadow(0px 1px 2px rgba(0, 0, 0, 0.3));\n",
       "      fill: #FFFFFF;\n",
       "    }\n",
       "  </style>\n",
       "\n",
       "      <script>\n",
       "        const buttonEl =\n",
       "          document.querySelector('#df-28be85d3-6668-43b1-b7db-8003f59bcfec button.colab-df-convert');\n",
       "        buttonEl.style.display =\n",
       "          google.colab.kernel.accessAllowed ? 'block' : 'none';\n",
       "\n",
       "        async function convertToInteractive(key) {\n",
       "          const element = document.querySelector('#df-28be85d3-6668-43b1-b7db-8003f59bcfec');\n",
       "          const dataTable =\n",
       "            await google.colab.kernel.invokeFunction('convertToInteractive',\n",
       "                                                     [key], {});\n",
       "          if (!dataTable) return;\n",
       "\n",
       "          const docLinkHtml = 'Like what you see? Visit the ' +\n",
       "            '<a target=\"_blank\" href=https://colab.research.google.com/notebooks/data_table.ipynb>data table notebook</a>'\n",
       "            + ' to learn more about interactive tables.';\n",
       "          element.innerHTML = '';\n",
       "          dataTable['output_type'] = 'display_data';\n",
       "          await google.colab.output.renderOutput(dataTable, element);\n",
       "          const docLink = document.createElement('div');\n",
       "          docLink.innerHTML = docLinkHtml;\n",
       "          element.appendChild(docLink);\n",
       "        }\n",
       "      </script>\n",
       "    </div>\n",
       "  </div>\n"
      ],
      "text/plain": [
       "                       title  runtimeMinutes  \\\n",
       "0  The Miracle Of The Wolves             NaN   \n",
       "1      The Perils of Pauline            98.0   \n",
       "2            Humpback Whales            40.0   \n",
       "3       Diary of a Lost Girl            96.0   \n",
       "4            The Last Dragon           109.0   \n",
       "5  The Thief and the Cobbler            72.0   \n",
       "6      Twilight: Los Angeles            90.0   \n",
       "7                 Bamboozled           135.0   \n",
       "8   Whose Life Is It Anyway?           118.0   \n",
       "9                    Tabloid            88.0   \n",
       "\n",
       "                                               genre originalLanguage  \\\n",
       "0                                                NaN              NaN   \n",
       "1                                             Comedy          English   \n",
       "2                                        Documentary          English   \n",
       "3                                              Drama              NaN   \n",
       "4                                             Action          English   \n",
       "5  Kids & family, Action, Adventure, Comedy, Fant...          English   \n",
       "6                                              Drama          English   \n",
       "7                                      Comedy, Drama          English   \n",
       "8                                              Drama          English   \n",
       "9                                        Documentary          English   \n",
       "\n",
       "                            director                   publicatioName  \\\n",
       "0                    Raymond Bernard            La Vanguardia (Spain)   \n",
       "1  Herbert B. Leonard,Joshua Shelley                         Filmsite   \n",
       "2                  Greg MacGillivray  Quad City Times (Davenport, IA)   \n",
       "3                Georg Wilhelm Pabst                Chicago Sun-Times   \n",
       "4                    Michael Schultz                   Medium Popcorn   \n",
       "5                   Richard Williams                         615 Film   \n",
       "6                         Marc Levin        New York Magazine/Vulture   \n",
       "7                          Spike Lee                Deep Focus Review   \n",
       "8                        John Badham            Philadelphia Gay News   \n",
       "9                       Errol Morris                Deep Focus Review   \n",
       "\n",
       "   audienceScore  standard _rating scoreSentiment  \n",
       "0            NaN                 5       POSITIVE  \n",
       "1           20.0                 5       POSITIVE  \n",
       "2           85.0                 5       POSITIVE  \n",
       "3           88.0                 5       POSITIVE  \n",
       "4           86.0                 5       POSITIVE  \n",
       "5           74.0                 5       POSITIVE  \n",
       "6            NaN                 5       POSITIVE  \n",
       "7           74.0                 5       POSITIVE  \n",
       "8           79.0                 5       POSITIVE  \n",
       "9           72.0                 5       POSITIVE  "
      ]
     },
     "execution_count": 28,
     "metadata": {},
     "output_type": "execute_result"
    }
   ],
   "source": [
    "recommend_movies_popularity(['3 Dev Adam', 'La Traviata'])"
   ]
  },
  {
   "cell_type": "markdown",
   "metadata": {
    "id": "vXtsU4cBitmF"
   },
   "source": [
    "## End of popularity based recommendation system"
   ]
  },
  {
   "cell_type": "markdown",
   "metadata": {
    "id": "CxAfuUVXiz6I"
   },
   "source": [
    "## Collaborative Filtering"
   ]
  },
  {
   "cell_type": "code",
   "execution_count": null,
   "metadata": {
    "id": "JzF5B48-sM5F"
   },
   "outputs": [],
   "source": [
    "# !pip install scikit-surprise"
   ]
  },
  {
   "cell_type": "markdown",
   "metadata": {
    "id": "MLdTDp_dY6aD"
   },
   "source": [
    "### Creating and storing dataframe for collaborative filtering"
   ]
  },
  {
   "cell_type": "code",
   "execution_count": null,
   "metadata": {
    "id": "A4yjwkyDZuDd"
   },
   "outputs": [],
   "source": [
    "# merge_df = pd.read_csv('/content/drive/MyDrive/Colab Notebooks/CapstoneProject/merge_df.csv')\n",
    "# collab_df = merge_df[['criticName', 'title', 'standard _rating', 'runtimeMinutes', 'genre', 'originalLanguage','director','publicatioName', 'audienceScore','scoreSentiment', 'creation_era', 'creation_year']]\n",
    "# collab_df = collab_df[collab_df['title'].notna()]\n",
    "# collab_df.info()\n",
    "# collab_df.to_csv('/content/drive/MyDrive/Colab Notebooks/CapstoneProject/collab_df.csv', index=False)"
   ]
  },
  {
   "cell_type": "code",
   "execution_count": null,
   "metadata": {
    "id": "-Zg2DdgIqw6s"
   },
   "outputs": [],
   "source": [
    "from sklearn.preprocessing import LabelEncoder\n",
    "from sklearn.model_selection import train_test_split\n",
    "import pandas as pd\n",
    "import numpy as np\n",
    "import pickle\n",
    "\n",
    "from surprise import Dataset, Reader, SVD, accuracy\n",
    "from surprise.model_selection import cross_validate\n",
    "# from surprise.model_selection import train_test_split"
   ]
  },
  {
   "cell_type": "code",
   "execution_count": null,
   "metadata": {
    "id": "-97VOd_XKVDd"
   },
   "outputs": [],
   "source": [
    "collab_df = pd.read_csv('/content/drive/MyDrive/Colab Notebooks/CapstoneProject/collab_df.csv')"
   ]
  },
  {
   "cell_type": "code",
   "execution_count": null,
   "metadata": {
    "colab": {
     "base_uri": "https://localhost:8080/"
    },
    "id": "IKqizPqtQ-7y",
    "outputId": "0a589dc5-a2cc-48ec-8aa0-90dfc8da39ac"
   },
   "outputs": [
    {
     "data": {
      "text/plain": [
       "21st                1364328\n",
       "mid_to_late-20s       48763\n",
       "early_to_mid-19s         70\n",
       "early_to_mid-20s         43\n",
       "Name: creation_era, dtype: int64"
      ]
     },
     "execution_count": 11,
     "metadata": {},
     "output_type": "execute_result"
    }
   ],
   "source": [
    "# collab_df = collab_df[~collab_df['creation_era'].isin(['early_to_mid-19s', 'early_to_mid-20s'])]\n",
    "collab_df['creation_era'].value_counts()"
   ]
  },
  {
   "cell_type": "markdown",
   "metadata": {
    "id": "XKkafl9_dYLv"
   },
   "source": [
    "#### encoding title and crtic name to generate unique ID"
   ]
  },
  {
   "cell_type": "code",
   "execution_count": null,
   "metadata": {
    "id": "x6RV3hYmqw-P"
   },
   "outputs": [],
   "source": [
    "le = LabelEncoder()\n",
    "collab_df['criticName_encode'] = le.fit_transform(collab_df['criticName'])\n",
    "collab_df['title_encode'] = le.fit_transform(collab_df['title'])"
   ]
  },
  {
   "cell_type": "markdown",
   "metadata": {
    "id": "Q5QdaFq_dk6J"
   },
   "source": [
    "#### creating dict to map exch unique id as key and name (title and critic name) as value"
   ]
  },
  {
   "cell_type": "code",
   "execution_count": null,
   "metadata": {
    "id": "5LP6jEJh2bqS"
   },
   "outputs": [],
   "source": [
    "criticName_id_dict = {k:v for (k,v) in enumerate(le.fit(collab_df['criticName']).classes_) }\n",
    "titleName_id_dict = {k:v for (k,v) in enumerate(le.fit(collab_df['title']).classes_) }\n",
    "unique_movie_id = list(titleName_id_dict.keys())"
   ]
  },
  {
   "cell_type": "markdown",
   "metadata": {
    "id": "qCPzLE70d-KK"
   },
   "source": [
    "#### Creting temporary dataframe with columns to be used in model"
   ]
  },
  {
   "cell_type": "code",
   "execution_count": null,
   "metadata": {
    "id": "BQN43sQxR8hc"
   },
   "outputs": [],
   "source": [
    "temp_df = collab_df[['title_encode', 'criticName_encode', 'standard _rating','creation_year']]"
   ]
  },
  {
   "cell_type": "code",
   "execution_count": null,
   "metadata": {
    "colab": {
     "base_uri": "https://localhost:8080/"
    },
    "id": "ePyV-w1uPYNS",
    "outputId": "bf356c2f-fe5a-409f-9d1c-d45cb6df1604"
   },
   "outputs": [
    {
     "name": "stdout",
     "output_type": "stream",
     "text": [
      "(1413204, 4)\n",
      "(1405817, 4)\n"
     ]
    }
   ],
   "source": [
    "#  removing duplicates from temp_df\n",
    "print(temp_df.shape)\n",
    "temp_df = temp_df.drop_duplicates(subset = ['title_encode', 'criticName_encode','standard _rating'])\n",
    "print(temp_df.shape)\n"
   ]
  },
  {
   "cell_type": "markdown",
   "metadata": {
    "id": "jVFaUMyyePbC"
   },
   "source": [
    "#### splitting train and test data based on time period"
   ]
  },
  {
   "cell_type": "code",
   "execution_count": null,
   "metadata": {
    "colab": {
     "base_uri": "https://localhost:8080/"
    },
    "id": "STrd6n4JVako",
    "outputId": "01f55347-a0d9-47a8-9518-d39f1254de75"
   },
   "outputs": [
    {
     "name": "stdout",
     "output_type": "stream",
     "text": [
      "train shape :  (1120087, 4) , test shape :  (285730, 4)\n"
     ]
    }
   ],
   "source": [
    "train = temp_df[temp_df['creation_year']<=2019]\n",
    "test = temp_df[temp_df['creation_year']>2019]\n",
    "train.reset_index(drop=True, inplace = True)\n",
    "test.reset_index(drop=True, inplace = True)\n",
    "print(\"train shape : \", train.shape, \", test shape : \", test.shape)"
   ]
  },
  {
   "cell_type": "markdown",
   "metadata": {
    "id": "CsoPtbCFMgJ7"
   },
   "source": [
    "### prdicting scores with Surprise library"
   ]
  },
  {
   "cell_type": "code",
   "execution_count": null,
   "metadata": {
    "id": "YH4DV4AeN0CM"
   },
   "outputs": [],
   "source": [
    "# Get minimum and maximum rating from the dataset to use for scale arguement\n",
    "min_rating = temp_df['standard _rating'].min()\n",
    "max_rating = temp_df['standard _rating'].max()"
   ]
  },
  {
   "cell_type": "code",
   "execution_count": null,
   "metadata": {
    "id": "YOLLe0iCN0QR"
   },
   "outputs": [],
   "source": [
    "# creating reader object to create data to be used with surprise\n",
    "reader = Reader(rating_scale=(min_rating, max_rating)) # create an object of reader which is used to create dataset to be compatible with Surprise\n",
    "data = Dataset.load_from_df(temp_df[['criticName_encode', 'title_encode', 'standard _rating']], reader)  # creating surprise data set"
   ]
  },
  {
   "cell_type": "markdown",
   "metadata": {
    "id": "jJSmZCD41n7G"
   },
   "source": [
    "#### Using SVD class library for collaborative filtering"
   ]
  },
  {
   "cell_type": "code",
   "execution_count": null,
   "metadata": {
    "colab": {
     "base_uri": "https://localhost:8080/"
    },
    "id": "weZ0Oj2-N0W3",
    "outputId": "884e5efd-1bc8-42bd-ebbd-62f3c9ce7169"
   },
   "outputs": [
    {
     "name": "stdout",
     "output_type": "stream",
     "text": [
      "Evaluating RMSE, MAE of algorithm SVD on 10 split(s).\n",
      "\n",
      "                  Fold 1  Fold 2  Fold 3  Fold 4  Fold 5  Fold 6  Fold 7  Fold 8  Fold 9  Fold 10 Mean    Std     \n",
      "RMSE (testset)    0.7379  0.7391  0.7409  0.7415  0.7424  0.7417  0.7434  0.7401  0.7398  0.7403  0.7407  0.0015  \n",
      "MAE (testset)     0.5663  0.5664  0.5676  0.5682  0.5676  0.5682  0.5701  0.5683  0.5671  0.5678  0.5677  0.0010  \n",
      "Fit time          12.68   18.77   13.70   13.37   12.44   13.45   13.43   12.55   13.47   14.78   13.86   1.76    \n",
      "Test time         1.97    3.05    1.89    1.82    2.50    2.05    1.90    2.28    1.81    2.38    2.16    0.38    \n"
     ]
    }
   ],
   "source": [
    "# We'll use the famous SVD algorithm.\n",
    "svd = SVD(n_factors=10, n_epochs=10)\n",
    "results = cross_validate(svd, data, measures=['RMSE', 'MAE'], cv=10, verbose=True)"
   ]
  },
  {
   "cell_type": "markdown",
   "metadata": {
    "id": "JUjnTN0p11on"
   },
   "source": [
    "#### Creating train and test data set for training and testing model"
   ]
  },
  {
   "cell_type": "code",
   "execution_count": null,
   "metadata": {
    "colab": {
     "base_uri": "https://localhost:8080/"
    },
    "id": "m-VzvuPXkewf",
    "outputId": "cb3029b9-b57c-45f9-f595-6eaf26db6df2"
   },
   "outputs": [
    {
     "data": {
      "text/plain": [
       "[[11788, 36876, 3],\n",
       " [14390, 36876, 3],\n",
       " [14032, 36876, 4],\n",
       " [14176, 36876, 3],\n",
       " [12473, 36876, 3]]"
      ]
     },
     "execution_count": 22,
     "metadata": {},
     "output_type": "execute_result"
    }
   ],
   "source": [
    "# data = Dataset.load_from_df(temp_df[['criticName_encode', 'title_encode', 'standard _rating']], reader)\n",
    "train_data = Dataset.load_from_df(train[['criticName_encode', 'title_encode', 'standard _rating']], reader)\n",
    "train_Dataset = train_data.build_full_trainset()\n",
    "trainset = [train_data.df.loc[i].to_list() for i in range(len(train_data.df))]   # this format is used for prediction and to check train accuracy\n",
    "test_data = Dataset.load_from_df(test[['criticName_encode', 'title_encode', 'standard _rating']], reader)\n",
    "testset = [test_data.df.loc[i].to_list() for i in range(len(test_data.df))]   # list of list of critic_id, title_id and score\n",
    "testset[:5]"
   ]
  },
  {
   "cell_type": "code",
   "execution_count": null,
   "metadata": {
    "id": "6AJZOh4dzwwh"
   },
   "outputs": [],
   "source": [
    "# creating the unique list of crtic name and movie title\n",
    "criticName = le.inverse_transform(collab_df['criticName_encode'])\n",
    "title = le.inverse_transform(collab_df['title_encode'])\n"
   ]
  },
  {
   "cell_type": "code",
   "execution_count": null,
   "metadata": {
    "colab": {
     "base_uri": "https://localhost:8080/"
    },
    "id": "RTh2iKgapQPk",
    "outputId": "1605391f-034d-48c6-b8e2-4b135f116c52"
   },
   "outputs": [
    {
     "name": "stdout",
     "output_type": "stream",
     "text": [
      "1.6352034725080664\n",
      "RMSE: 0.6879\n"
     ]
    },
    {
     "data": {
      "text/plain": [
       "0.687865067182475"
      ]
     },
     "execution_count": 24,
     "metadata": {},
     "output_type": "execute_result"
    }
   ],
   "source": [
    "# Train the algorithm on the trainset and check the accuracy\n",
    "svd.fit(train_Dataset)\n",
    "train_predict = svd.test(trainset)\n",
    "print(train_predict[1].est)\n",
    "accuracy.rmse(train_predict, verbose=True)"
   ]
  },
  {
   "cell_type": "code",
   "execution_count": null,
   "metadata": {
    "colab": {
     "base_uri": "https://localhost:8080/"
    },
    "id": "bpbpqyv-jlKF",
    "outputId": "c586dfbe-82e3-47a7-c005-f5309a87c181"
   },
   "outputs": [
    {
     "name": "stdout",
     "output_type": "stream",
     "text": [
      "RMSE: 0.8350\n"
     ]
    },
    {
     "data": {
      "text/plain": [
       "0.8349563933711618"
      ]
     },
     "execution_count": 25,
     "metadata": {},
     "output_type": "execute_result"
    }
   ],
   "source": [
    "prediction = svd.test(testset)\n",
    "accuracy.rmse(prediction, verbose=True)"
   ]
  },
  {
   "cell_type": "code",
   "execution_count": null,
   "metadata": {
    "colab": {
     "base_uri": "https://localhost:8080/",
     "height": 53
    },
    "id": "AM7DK-bb0Bfy",
    "outputId": "ec6df464-a6cd-48e2-a12c-8f158e8515b4"
   },
   "outputs": [
    {
     "name": "stdout",
     "output_type": "stream",
     "text": [
      "Pat Padua\n"
     ]
    },
    {
     "data": {
      "application/vnd.google.colaboratory.intrinsic+json": {
       "type": "string"
      },
      "text/plain": [
       "'The Passion of Joan of Arc'"
      ]
     },
     "execution_count": 27,
     "metadata": {},
     "output_type": "execute_result"
    }
   ],
   "source": [
    "print(criticName_id_dict[11516])\n",
    "titleName_id_dict[45987]"
   ]
  },
  {
   "cell_type": "code",
   "execution_count": null,
   "metadata": {
    "colab": {
     "base_uri": "https://localhost:8080/"
    },
    "id": "sDyS9T4J4dbL",
    "outputId": "4a52fb04-df88-40ce-fee0-ca874823033d"
   },
   "outputs": [
    {
     "name": "stdout",
     "output_type": "stream",
     "text": [
      "Top 10 item recommendations for user 14176:\n",
      "**************************************************************************\n",
      "Parasite ---(estimated score for the movie :  4 )--\n",
      "Chinatown ---(estimated score for the movie :  4 )--\n",
      "Seven Samurai ---(estimated score for the movie :  4 )--\n",
      "Alien ---(estimated score for the movie :  4 )--\n",
      "Goodfellas ---(estimated score for the movie :  4 )--\n",
      "Grand Illusion ---(estimated score for the movie :  4 )--\n",
      "The 400 Blows ---(estimated score for the movie :  4 )--\n",
      "Tokyo Story ---(estimated score for the movie :  4 )--\n",
      "Casablanca ---(estimated score for the movie :  4 )--\n",
      "Badlands ---(estimated score for the movie :  4 )--\n"
     ]
    }
   ],
   "source": [
    "def generate_recommendation(model, user_id, ratings_df, n_items):\n",
    "   # Get a list of all movie IDs from dataset\n",
    "#    movie_ids = ratings_df[\"movieId\"].unique()\n",
    "\n",
    "   # Get a list of all movie IDs that have been watched by user\n",
    "   movie_ids_user = ratings_df.loc[ratings_df['criticName_encode'] == user_id, 'title_encode']\n",
    "    # Get a list off all movie IDS that that have not been watched by user\n",
    "   movie_ids_to_pred = np.setdiff1d(unique_movie_id, movie_ids_user)\n",
    "\n",
    "   # Apply a rating of 4 to all interactions (only to match the Surprise dataset format)\n",
    "   test_set = [[user_id, movie_id, 4] for movie_id in movie_ids_to_pred]\n",
    "\n",
    "   # Predict the ratings and generate recommendations\n",
    "   predictions = model.test(test_set)\n",
    "   pred_ratings = np.array([pred.est for pred in predictions])\n",
    "   print(\"Top {0} item recommendations for user {1}:\".format(n_items, user_id))\n",
    "   print(\"**************************************************************************\")\n",
    "   # Rank top-n movies based on the predicted ratings\n",
    "   top_n_pred = get_top_n(predictions, n_items)  # return lists of list of predicted_score, user_id and item_id for top n prediction\n",
    "   for i in top_n_pred:\n",
    "    #    movie_id = movie_ids_to_pred[i]\n",
    "       print(titleName_id_dict[i[2]], \"---(estimated score for the movie : \", int(i[0]), \")--\")\n",
    "\n",
    "\n",
    "# define which user ID that we want to give recommendation\n",
    "userID = 14176\n",
    "# define how many top-n movies that we want to recommend\n",
    "n_items = 10\n",
    "# generate recommendation using the model that we have trained\n",
    "generate_recommendation(svd,userID,temp_df,n_items)"
   ]
  }
 ],
 "metadata": {
  "accelerator": "GPU",
  "colab": {
   "gpuType": "T4",
   "provenance": []
  },
  "kernelspec": {
   "display_name": "Python 3 (ipykernel)",
   "language": "python",
   "name": "python3"
  },
  "language_info": {
   "codemirror_mode": {
    "name": "ipython",
    "version": 3
   },
   "file_extension": ".py",
   "mimetype": "text/x-python",
   "name": "python",
   "nbconvert_exporter": "python",
   "pygments_lexer": "ipython3",
   "version": "3.9.12"
  }
 },
 "nbformat": 4,
 "nbformat_minor": 1
}
